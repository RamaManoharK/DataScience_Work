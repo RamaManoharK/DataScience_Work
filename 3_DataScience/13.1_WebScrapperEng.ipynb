{
 "cells": [
  {
   "cell_type": "code",
   "execution_count": 1,
   "id": "d9ab2d6f-d72a-420b-b963-baf01f64c918",
   "metadata": {},
   "outputs": [],
   "source": [
    "import requests\n",
    "from bs4 import BeautifulSoup as bs\n",
    "from urllib.request import urlopen\n",
    "import logging"
   ]
  },
  {
   "cell_type": "code",
   "execution_count": 2,
   "id": "dd59517a-5afa-45f0-a9ea-26051595dad4",
   "metadata": {},
   "outputs": [
    {
     "data": {
      "text/plain": [
       "'https://www.flipkart.com/search?q=iPhone%2012%20Pro'"
      ]
     },
     "execution_count": 2,
     "metadata": {},
     "output_type": "execute_result"
    }
   ],
   "source": [
    "search_string = \"iPhone 12 Pro\"\n",
    "flipcart_url = \"https://www.flipkart.com/search?q={}\".format(search_string.replace(\" \", \"%20\")) # preparing URL\n",
    "flipcart_url"
   ]
  },
  {
   "cell_type": "code",
   "execution_count": 3,
   "id": "1a9d7601-9a4b-41a4-b4b0-7f6fcab264a1",
   "metadata": {},
   "outputs": [],
   "source": [
    "url_client = urlopen(flipcart_url) # opening URL"
   ]
  },
  {
   "cell_type": "code",
   "execution_count": 4,
   "id": "4abf3a57-4f01-4635-b328-c4205e3157e8",
   "metadata": {},
   "outputs": [],
   "source": [
    "flipcart_page = url_client.read() # returns data in HTML format"
   ]
  },
  {
   "cell_type": "code",
   "execution_count": 5,
   "id": "1e1773b5-3669-4d72-a4be-2eb544d282e2",
   "metadata": {},
   "outputs": [],
   "source": [
    "flipcart_page_html = bs(flipcart_page, 'html.parser')"
   ]
  },
  {
   "cell_type": "code",
   "execution_count": 46,
   "id": "9a43ba2f-1be9-426b-93fd-045c70f8ac17",
   "metadata": {},
   "outputs": [],
   "source": [
    "big_box = flipcart_page_html.find_all(\"div\", {\"class\" : \"_1AtVbE col-12-12\"}) # finding all the boxes which contains the search string"
   ]
  },
  {
   "cell_type": "code",
   "execution_count": 47,
   "id": "44793a96-7c37-476a-9652-b9292d229965",
   "metadata": {},
   "outputs": [
    {
     "data": {
      "text/plain": [
       "29"
      ]
     },
     "execution_count": 47,
     "metadata": {},
     "output_type": "execute_result"
    }
   ],
   "source": [
    "len(big_box)"
   ]
  },
  {
   "cell_type": "code",
   "execution_count": 48,
   "id": "e4c9c469-b968-42dd-81d2-cda0ae0acf5d",
   "metadata": {},
   "outputs": [],
   "source": [
    "del big_box[0:2] # deletes the top three boxes which are not required"
   ]
  },
  {
   "cell_type": "code",
   "execution_count": null,
   "id": "2c29a908-8a23-49f8-b713-d250e444a263",
   "metadata": {},
   "outputs": [],
   "source": []
  },
  {
   "cell_type": "code",
   "execution_count": 49,
   "id": "f486ba0b-e004-4a9e-98ae-0e1dad905e6a",
   "metadata": {},
   "outputs": [
    {
     "ename": "SyntaxError",
     "evalue": "invalid decimal literal (4054778572.py, line 1)",
     "output_type": "error",
     "traceback": [
      "\u001b[0;36m  Cell \u001b[0;32mIn[49], line 1\u001b[0;36m\u001b[0m\n\u001b[0;31m    <div class=\"_1AtVbE col-12-12\"><div class=\"_13oc-S\"><div data-id=\"MOBFWBYZGKFYVTWH\" style=\"width: 100%;\"><div class=\"_2kHMtA\" data-tkid=\"f978c712-bf4b-4c9a-8c34-57dc4355a56b.MOBFWBYZGKFYVTWH.SEARCH\"><a class=\"_1fQZEK\" target=\"_blank\" rel=\"noopener noreferrer\" href=\"/apple-iphone-12-pro-gold-512-gb/p/itm157b3be191fd1?pid=MOBFWBYZGKFYVTWH&amp;lid=LSTMOBFWBYZGKFYVTWHR65UKC&amp;marketplace=FLIPKART&amp;q=iPhone+12+Pro&amp;store=tyy%2F4io&amp;srno=s_1_2&amp;otracker=search&amp;iid=f978c712-bf4b-4c9a-8c34-57dc4355a56b.MOBFWBYZGKFYVTWH.SEARCH&amp;ssid=drbyfzj06o0000001678257014017&amp;qH=e5f947358954fd90\"><div class=\"MIXNux\"><div class=\"_2QcLo-\"><div><div class=\"CXW8mj\" style=\"height: 200px; width: 200px;\"><img loading=\"eager\" class=\"_396cs4\" alt=\"APPLE iPhone 12 Pro (Gold, 512 GB)\" src=\"https://rukminim1.flixcart.com/image/312/312/kg8avm80/mobile/s/9/w/apple-iphone-12-pro-dummyapplefsn-original-imafwgbrnpyygbv9.jpeg?q=70\"></div></div></div><div class=\"_3wLduG\"><div class=\"_3PzNI-\"><span class=\"f3A4_V\"><label class=\"_2iDkf8\"><input type=\"checkbox\" class=\"_30VH1S\" readonly=\"\"><div class=\"_24_Dny\"></div></label></span><label class=\"_6Up2sF\"><span>Add to Compare</span></label></div></div><div class=\"_2hVSre _3nq8ih\"><div class=\"_36FSn5\"><svg xmlns=\"http://www.w3.org/2000/svg\" class=\"_1l0elc\" width=\"16\" height=\"16\" viewBox=\"0 0 20 16\"><path d=\"M8.695 16.682C4.06 12.382 1 9.536 1 6.065 1 3.219 3.178 1 5.95 1c1.566 0 3.069.746 4.05 1.915C10.981 1.745 12.484 1 14.05 1 16.822 1 19 3.22 19 6.065c0 3.471-3.06 6.316-7.695 10.617L10 17.897l-1.305-1.215z\" fill=\"#2874F0\" class=\"eX72wL\" stroke=\"#FFF\" fill-rule=\"evenodd\" opacity=\".9\"></path></svg></div></div></div><div class=\"_3pLy-c row\"><div class=\"col col-7-12\"><div class=\"_4rR01T\">APPLE iPhone 12 Pro (Gold, 512 GB)</div><div class=\"gUuXy-\"><span id=\"productRating_LSTMOBFWBYZGKFYVTWHR65UKC_MOBFWBYZGKFYVTWH_\" class=\"_1lRcqv\"><div class=\"_3LWZlK\">4.5<img src=\"data:image/svg+xml;base64,PHN2ZyB4bWxucz0iaHR0cDovL3d3dy53My5vcmcvMjAwMC9zdmciIHdpZHRoPSIxMyIgaGVpZ2h0PSIxMiI+PHBhdGggZmlsbD0iI0ZGRiIgZD0iTTYuNSA5LjQzOWwtMy42NzQgMi4yMy45NC00LjI2LTMuMjEtMi44ODMgNC4yNTQtLjQwNEw2LjUuMTEybDEuNjkgNC4wMSA0LjI1NC40MDQtMy4yMSAyLjg4Mi45NCA0LjI2eiIvPjwvc3ZnPg==\" class=\"_1wB99o\"></div></span><span class=\"_2_R_DZ\"><span><span>1,293 Ratings&nbsp;</span><span class=\"_13vcmD\">&amp;</span><span>&nbsp;96 Reviews</span></span></span></div><div class=\"fMghEO\"><ul class=\"_1xgFaf\"><li class=\"rgWa7D\">512 GB ROM</li><li class=\"rgWa7D\">15.49 cm (6.1 inch) Super Retina XDR Display</li><li class=\"rgWa7D\">12MP + 12MP + 12MP | 12MP Front Camera</li><li class=\"rgWa7D\">A14 Bionic Chip with Next Generation Neural Engine Processor</li><li class=\"rgWa7D\">Ceramic Shield | Industry-leading IP68 Water Resistance</li><li class=\"rgWa7D\">All Screen OLED Display</li><li class=\"rgWa7D\">LiDAR Scanner for Improved AR Experiences, Night Mode Portraits</li><li class=\"rgWa7D\">Brand Warranty for 1 Year</li></ul></div></div><div class=\"col col-5-12 nlI3QM\"><div class=\"_3tbKJL\"><div class=\"_25b18c\"><div class=\"_30jeq3 _1_WHN1\">₹1,06,699</div><div class=\"_3I9_wc _27UcVY\">₹1,39,900</div><div class=\"_3Ay6Sb\"><span>23% off</span></div></div><div class=\"_3tcB5a p8ucoS\"><div><div class=\"_2Tpdn3\" style=\"color: rgb(0, 0, 0); font-size: 12px; font-weight: 400;\">Free delivery</div></div></div></div><div class=\"_13J9qT\"><img height=\"21\" src=\"//static-assets-web.flixcart.com/fk-p-linchpin-web/fk-cp-zion/img/fa_62673a.png\"></div><div class=\"_2ZdXDB\"><div class=\"_3xFhiH\"><div class=\"_2Tpdn3 _18hQoS\" style=\"color: rgb(0, 0, 0); font-size: 14px; font-style: normal; font-weight: 400;\">Upto </div><div class=\"_2Tpdn3 _18hQoS\" style=\"color: rgb(0, 0, 0); font-size: 14px; font-style: normal; font-weight: 700;\">₹20,000</div><div class=\"_2Tpdn3 _18hQoS\" style=\"color: rgb(0, 0, 0); font-size: 14px; font-style: normal; font-weight: 400;\"> Off on Exchange</div></div></div><div class=\"_2ZdXDB\"><div class=\"_3xFhiH\"><div class=\"_2Tpdn3 _18hQoS\" style=\"color: rgb(38, 165, 65); font-size: 14px; font-weight: 700;\">Bank Offer</div></div></div></div></div></a></div></div></div></div>\u001b[0m\n\u001b[0m                                                                                                                                                                                                                                                                                                                                                                                                                                                                                                                                                                                                                                                                                                                                                                                                                                                                                                                                                                                                                                                                                                                                                                                                                                                                                                                                                                                                                                                                                                                                                                                                                                                                                                                                                                                                                                                                                                                                                                                                                                                                                                                                                                                                                                                                                                                                                                                                                                                                                                                                                                                                                                                   ^\u001b[0m\n\u001b[0;31mSyntaxError\u001b[0m\u001b[0;31m:\u001b[0m invalid decimal literal\n"
     ]
    }
   ],
   "source": [
    "<div class=\"_1AtVbE col-12-12\"><div class=\"_13oc-S\"><div data-id=\"MOBFWBYZGKFYVTWH\" style=\"width: 100%;\"><div class=\"_2kHMtA\" data-tkid=\"f978c712-bf4b-4c9a-8c34-57dc4355a56b.MOBFWBYZGKFYVTWH.SEARCH\"><a class=\"_1fQZEK\" target=\"_blank\" rel=\"noopener noreferrer\" href=\"/apple-iphone-12-pro-gold-512-gb/p/itm157b3be191fd1?pid=MOBFWBYZGKFYVTWH&amp;lid=LSTMOBFWBYZGKFYVTWHR65UKC&amp;marketplace=FLIPKART&amp;q=iPhone+12+Pro&amp;store=tyy%2F4io&amp;srno=s_1_2&amp;otracker=search&amp;iid=f978c712-bf4b-4c9a-8c34-57dc4355a56b.MOBFWBYZGKFYVTWH.SEARCH&amp;ssid=drbyfzj06o0000001678257014017&amp;qH=e5f947358954fd90\"><div class=\"MIXNux\"><div class=\"_2QcLo-\"><div><div class=\"CXW8mj\" style=\"height: 200px; width: 200px;\"><img loading=\"eager\" class=\"_396cs4\" alt=\"APPLE iPhone 12 Pro (Gold, 512 GB)\" src=\"https://rukminim1.flixcart.com/image/312/312/kg8avm80/mobile/s/9/w/apple-iphone-12-pro-dummyapplefsn-original-imafwgbrnpyygbv9.jpeg?q=70\"></div></div></div><div class=\"_3wLduG\"><div class=\"_3PzNI-\"><span class=\"f3A4_V\"><label class=\"_2iDkf8\"><input type=\"checkbox\" class=\"_30VH1S\" readonly=\"\"><div class=\"_24_Dny\"></div></label></span><label class=\"_6Up2sF\"><span>Add to Compare</span></label></div></div><div class=\"_2hVSre _3nq8ih\"><div class=\"_36FSn5\"><svg xmlns=\"http://www.w3.org/2000/svg\" class=\"_1l0elc\" width=\"16\" height=\"16\" viewBox=\"0 0 20 16\"><path d=\"M8.695 16.682C4.06 12.382 1 9.536 1 6.065 1 3.219 3.178 1 5.95 1c1.566 0 3.069.746 4.05 1.915C10.981 1.745 12.484 1 14.05 1 16.822 1 19 3.22 19 6.065c0 3.471-3.06 6.316-7.695 10.617L10 17.897l-1.305-1.215z\" fill=\"#2874F0\" class=\"eX72wL\" stroke=\"#FFF\" fill-rule=\"evenodd\" opacity=\".9\"></path></svg></div></div></div><div class=\"_3pLy-c row\"><div class=\"col col-7-12\"><div class=\"_4rR01T\">APPLE iPhone 12 Pro (Gold, 512 GB)</div><div class=\"gUuXy-\"><span id=\"productRating_LSTMOBFWBYZGKFYVTWHR65UKC_MOBFWBYZGKFYVTWH_\" class=\"_1lRcqv\"><div class=\"_3LWZlK\">4.5<img src=\"data:image/svg+xml;base64,PHN2ZyB4bWxucz0iaHR0cDovL3d3dy53My5vcmcvMjAwMC9zdmciIHdpZHRoPSIxMyIgaGVpZ2h0PSIxMiI+PHBhdGggZmlsbD0iI0ZGRiIgZD0iTTYuNSA5LjQzOWwtMy42NzQgMi4yMy45NC00LjI2LTMuMjEtMi44ODMgNC4yNTQtLjQwNEw2LjUuMTEybDEuNjkgNC4wMSA0LjI1NC40MDQtMy4yMSAyLjg4Mi45NCA0LjI2eiIvPjwvc3ZnPg==\" class=\"_1wB99o\"></div></span><span class=\"_2_R_DZ\"><span><span>1,293 Ratings&nbsp;</span><span class=\"_13vcmD\">&amp;</span><span>&nbsp;96 Reviews</span></span></span></div><div class=\"fMghEO\"><ul class=\"_1xgFaf\"><li class=\"rgWa7D\">512 GB ROM</li><li class=\"rgWa7D\">15.49 cm (6.1 inch) Super Retina XDR Display</li><li class=\"rgWa7D\">12MP + 12MP + 12MP | 12MP Front Camera</li><li class=\"rgWa7D\">A14 Bionic Chip with Next Generation Neural Engine Processor</li><li class=\"rgWa7D\">Ceramic Shield | Industry-leading IP68 Water Resistance</li><li class=\"rgWa7D\">All Screen OLED Display</li><li class=\"rgWa7D\">LiDAR Scanner for Improved AR Experiences, Night Mode Portraits</li><li class=\"rgWa7D\">Brand Warranty for 1 Year</li></ul></div></div><div class=\"col col-5-12 nlI3QM\"><div class=\"_3tbKJL\"><div class=\"_25b18c\"><div class=\"_30jeq3 _1_WHN1\">₹1,06,699</div><div class=\"_3I9_wc _27UcVY\">₹1,39,900</div><div class=\"_3Ay6Sb\"><span>23% off</span></div></div><div class=\"_3tcB5a p8ucoS\"><div><div class=\"_2Tpdn3\" style=\"color: rgb(0, 0, 0); font-size: 12px; font-weight: 400;\">Free delivery</div></div></div></div><div class=\"_13J9qT\"><img height=\"21\" src=\"//static-assets-web.flixcart.com/fk-p-linchpin-web/fk-cp-zion/img/fa_62673a.png\"></div><div class=\"_2ZdXDB\"><div class=\"_3xFhiH\"><div class=\"_2Tpdn3 _18hQoS\" style=\"color: rgb(0, 0, 0); font-size: 14px; font-style: normal; font-weight: 400;\">Upto </div><div class=\"_2Tpdn3 _18hQoS\" style=\"color: rgb(0, 0, 0); font-size: 14px; font-style: normal; font-weight: 700;\">₹20,000</div><div class=\"_2Tpdn3 _18hQoS\" style=\"color: rgb(0, 0, 0); font-size: 14px; font-style: normal; font-weight: 400;\"> Off on Exchange</div></div></div><div class=\"_2ZdXDB\"><div class=\"_3xFhiH\"><div class=\"_2Tpdn3 _18hQoS\" style=\"color: rgb(38, 165, 65); font-size: 14px; font-weight: 700;\">Bank Offer</div></div></div></div></div></a></div></div></div></div>"
   ]
  },
  {
   "cell_type": "code",
   "execution_count": 50,
   "id": "5c6fe893-0f3d-470e-8ebf-83e6b60ef38c",
   "metadata": {},
   "outputs": [
    {
     "data": {
      "text/plain": [
       "'/apple-iphone-12-pro-graphite-512-gb/p/itmdf0ffb4f2150f?pid=MOBFWBYZ4ZZ5VUQD&lid=LSTMOBFWBYZ4ZZ5VUQDQDDDI0&marketplace=FLIPKART&q=iPhone+12+Pro&store=tyy%2F4io&srno=s_1_1&otracker=search&fm=organic&iid=07c2d08d-beee-459a-b164-426be5ce3af0.MOBFWBYZ4ZZ5VUQD.SEARCH&ppt=None&ppn=None&ssid=s1xpof8i340000001678266876807&qH=e5f947358954fd90'"
      ]
     },
     "execution_count": 50,
     "metadata": {},
     "output_type": "execute_result"
    }
   ],
   "source": [
    "big_box[0].div.div.div.a['href']"
   ]
  },
  {
   "cell_type": "code",
   "execution_count": 51,
   "id": "c43608c1-8388-4e4b-b71f-fab36c7f86a0",
   "metadata": {},
   "outputs": [],
   "source": [
    "product_link = \"https://www.flipkart.com/search?q={}\" + big_box[0].div.div.div.a['href']"
   ]
  },
  {
   "cell_type": "code",
   "execution_count": 52,
   "id": "048df627-df7b-4d0c-8470-5b9ec63e1037",
   "metadata": {},
   "outputs": [
    {
     "name": "stdout",
     "output_type": "stream",
     "text": [
      "https://www.flipkart.com/search?q={}/apple-iphone-12-pro-graphite-512-gb/p/itmdf0ffb4f2150f?pid=MOBFWBYZ4ZZ5VUQD&lid=LSTMOBFWBYZ4ZZ5VUQDQDDDI0&marketplace=FLIPKART&q=iPhone+12+Pro&store=tyy%2F4io&srno=s_1_1&otracker=search&fm=organic&iid=07c2d08d-beee-459a-b164-426be5ce3af0.MOBFWBYZ4ZZ5VUQD.SEARCH&ppt=None&ppn=None&ssid=s1xpof8i340000001678266876807&qH=e5f947358954fd90\n",
      "+++++++++++++++++++++++++++++++++++++++++++++++++\n",
      "https://www.flipkart.com/search?q={}/apple-iphone-12-pro-silver-512-gb/p/itm0ccf9fc219a71?pid=MOBFWBYZ5UY6ZBVA&lid=LSTMOBFWBYZ5UY6ZBVASXARTV&marketplace=FLIPKART&q=iPhone+12+Pro&store=tyy%2F4io&srno=s_1_2&otracker=search&fm=organic&iid=07c2d08d-beee-459a-b164-426be5ce3af0.MOBFWBYZ5UY6ZBVA.SEARCH&ppt=None&ppn=None&ssid=s1xpof8i340000001678266876807&qH=e5f947358954fd90\n",
      "+++++++++++++++++++++++++++++++++++++++++++++++++\n",
      "https://www.flipkart.com/search?q={}/apple-iphone-12-pro-gold-128-gb/p/itma14a108237af5?pid=MOBFWBYZMDJZMHA9&lid=LSTMOBFWBYZMDJZMHA9SVNUXV&marketplace=FLIPKART&q=iPhone+12+Pro&store=tyy%2F4io&srno=s_1_3&otracker=search&fm=organic&iid=07c2d08d-beee-459a-b164-426be5ce3af0.MOBFWBYZMDJZMHA9.SEARCH&ppt=None&ppn=None&ssid=s1xpof8i340000001678266876807&qH=e5f947358954fd90\n",
      "+++++++++++++++++++++++++++++++++++++++++++++++++\n",
      "https://www.flipkart.com/search?q={}/apple-iphone-12-pro-silver-256-gb/p/itm41ac927e82906?pid=MOBFWBYZMZTJZTWK&lid=LSTMOBFWBYZMZTJZTWKDI2TP0&marketplace=FLIPKART&q=iPhone+12+Pro&store=tyy%2F4io&spotlightTagId=TrendingId_tyy%2F4io&srno=s_1_4&otracker=search&fm=organic&iid=07c2d08d-beee-459a-b164-426be5ce3af0.MOBFWBYZMZTJZTWK.SEARCH&ppt=None&ppn=None&ssid=s1xpof8i340000001678266876807&qH=e5f947358954fd90\n",
      "+++++++++++++++++++++++++++++++++++++++++++++++++\n",
      "https://www.flipkart.com/search?q={}/apple-iphone-12-pro-gold-512-gb/p/itm157b3be191fd1?pid=MOBFWBYZGKFYVTWH&lid=LSTMOBFWBYZGKFYVTWHR65UKC&marketplace=FLIPKART&q=iPhone+12+Pro&store=tyy%2F4io&srno=s_1_5&otracker=search&fm=organic&iid=07c2d08d-beee-459a-b164-426be5ce3af0.MOBFWBYZGKFYVTWH.SEARCH&ppt=None&ppn=None&ssid=s1xpof8i340000001678266876807&qH=e5f947358954fd90\n",
      "+++++++++++++++++++++++++++++++++++++++++++++++++\n",
      "https://www.flipkart.com/search?q={}/apple-iphone-12-pro-gold-256-gb/p/itm43a6a8ee7a1e7?pid=MOBFWBYZ9NGKZS9W&lid=LSTMOBFWBYZ9NGKZS9WYZ2SXA&marketplace=FLIPKART&q=iPhone+12+Pro&store=tyy%2F4io&srno=s_1_6&otracker=search&fm=organic&iid=07c2d08d-beee-459a-b164-426be5ce3af0.MOBFWBYZ9NGKZS9W.SEARCH&ppt=None&ppn=None&ssid=s1xpof8i340000001678266876807&qH=e5f947358954fd90\n",
      "+++++++++++++++++++++++++++++++++++++++++++++++++\n",
      "https://www.flipkart.com/search?q={}/apple-iphone-12-pro-pacific-blue-128-gb/p/itm97c833296c221?pid=MOBFWBYZXYSCEEEH&lid=LSTMOBFWBYZXYSCEEEHKCYPSL&marketplace=FLIPKART&q=iPhone+12+Pro&store=tyy%2F4io&srno=s_1_7&otracker=search&fm=organic&iid=07c2d08d-beee-459a-b164-426be5ce3af0.MOBFWBYZXYSCEEEH.SEARCH&ppt=None&ppn=None&ssid=s1xpof8i340000001678266876807&qH=e5f947358954fd90\n",
      "+++++++++++++++++++++++++++++++++++++++++++++++++\n",
      "https://www.flipkart.com/search?q={}/apple-iphone-12-pro-max-pacific-blue-256-gb/p/itm3a0860c94250e?pid=MOBFWBYZ8STJXCVT&lid=LSTMOBFWBYZ8STJXCVTQTZADP&marketplace=FLIPKART&q=iPhone+12+Pro&store=tyy%2F4io&srno=s_1_8&otracker=search&fm=organic&iid=07c2d08d-beee-459a-b164-426be5ce3af0.MOBFWBYZ8STJXCVT.SEARCH&ppt=None&ppn=None&ssid=s1xpof8i340000001678266876807&qH=e5f947358954fd90\n",
      "+++++++++++++++++++++++++++++++++++++++++++++++++\n",
      "https://www.flipkart.com/search?q={}/apple-iphone-12-pro-graphite-256-gb/p/itm4fa4da575698c?pid=MOBFWBYZBA36UB7G&lid=LSTMOBFWBYZBA36UB7GZYS7EA&marketplace=FLIPKART&q=iPhone+12+Pro&store=tyy%2F4io&srno=s_1_9&otracker=search&fm=organic&iid=07c2d08d-beee-459a-b164-426be5ce3af0.MOBFWBYZBA36UB7G.SEARCH&ppt=None&ppn=None&ssid=s1xpof8i340000001678266876807&qH=e5f947358954fd90\n",
      "+++++++++++++++++++++++++++++++++++++++++++++++++\n",
      "https://www.flipkart.com/search?q={}/apple-iphone-12-pro-max-silver-512-gb/p/itm5d3d37892544f?pid=MOBFWBYZW38NGPNM&lid=LSTMOBFWBYZW38NGPNMWD1NPD&marketplace=FLIPKART&q=iPhone+12+Pro&store=tyy%2F4io&srno=s_1_10&otracker=search&fm=organic&iid=07c2d08d-beee-459a-b164-426be5ce3af0.MOBFWBYZW38NGPNM.SEARCH&ppt=None&ppn=None&ssid=s1xpof8i340000001678266876807&qH=e5f947358954fd90\n",
      "+++++++++++++++++++++++++++++++++++++++++++++++++\n",
      "https://www.flipkart.com/search?q={}/apple-iphone-12-pro-graphite-128-gb/p/itm03e5f2595d843?pid=MOBFWBYZBZ7Y56WD&lid=LSTMOBFWBYZBZ7Y56WDFWEMSD&marketplace=FLIPKART&q=iPhone+12+Pro&store=tyy%2F4io&srno=s_1_11&otracker=search&fm=organic&iid=07c2d08d-beee-459a-b164-426be5ce3af0.MOBFWBYZBZ7Y56WD.SEARCH&ppt=None&ppn=None&ssid=s1xpof8i340000001678266876807&qH=e5f947358954fd90\n",
      "+++++++++++++++++++++++++++++++++++++++++++++++++\n",
      "https://www.flipkart.com/search?q={}/apple-iphone-12-pro-max-gold-256-gb/p/itm1e0354f5bbc8c?pid=MOBFWBYZZPW8JHQF&lid=LSTMOBFWBYZZPW8JHQFAXB2G1&marketplace=FLIPKART&q=iPhone+12+Pro&store=tyy%2F4io&srno=s_1_12&otracker=search&fm=organic&iid=07c2d08d-beee-459a-b164-426be5ce3af0.MOBFWBYZZPW8JHQF.SEARCH&ppt=None&ppn=None&ssid=s1xpof8i340000001678266876807&qH=e5f947358954fd90\n",
      "+++++++++++++++++++++++++++++++++++++++++++++++++\n",
      "https://www.flipkart.com/search?q={}/apple-iphone-12-pro-max-pacific-blue-512-gb/p/itme005d7afeb4a3?pid=MOBFWBYZPW4KW4XX&lid=LSTMOBFWBYZPW4KW4XXEQXHCF&marketplace=FLIPKART&q=iPhone+12+Pro&store=tyy%2F4io&srno=s_1_13&otracker=search&fm=organic&iid=07c2d08d-beee-459a-b164-426be5ce3af0.MOBFWBYZPW4KW4XX.SEARCH&ppt=None&ppn=None&ssid=s1xpof8i340000001678266876807&qH=e5f947358954fd90\n",
      "+++++++++++++++++++++++++++++++++++++++++++++++++\n",
      "https://www.flipkart.com/search?q={}/apple-iphone-12-pro-max-gold-512-gb/p/itmd164e2fef2871?pid=MOBFWBYZ4AG3FGNW&lid=LSTMOBFWBYZ4AG3FGNWL6UEHL&marketplace=FLIPKART&q=iPhone+12+Pro&store=tyy%2F4io&srno=s_1_14&otracker=search&fm=organic&iid=07c2d08d-beee-459a-b164-426be5ce3af0.MOBFWBYZ4AG3FGNW.SEARCH&ppt=None&ppn=None&ssid=s1xpof8i340000001678266876807&qH=e5f947358954fd90\n",
      "+++++++++++++++++++++++++++++++++++++++++++++++++\n",
      "https://www.flipkart.com/search?q={}/apple-iphone-12-pro-max-gold-128-gb/p/itme3ae592065711?pid=MOBFWBYZQVKT77YH&lid=LSTMOBFWBYZQVKT77YHP1ERRT&marketplace=FLIPKART&q=iPhone+12+Pro&store=tyy%2F4io&srno=s_1_15&otracker=search&fm=organic&iid=07c2d08d-beee-459a-b164-426be5ce3af0.MOBFWBYZQVKT77YH.SEARCH&ppt=None&ppn=None&ssid=s1xpof8i340000001678266876807&qH=e5f947358954fd90\n",
      "+++++++++++++++++++++++++++++++++++++++++++++++++\n",
      "https://www.flipkart.com/search?q={}/apple-iphone-12-pro-silver-128-gb/p/itmaebc8a0edc292?pid=MOBFWBYZSGN526X4&lid=LSTMOBFWBYZSGN526X4XSCKOE&marketplace=FLIPKART&q=iPhone+12+Pro&store=tyy%2F4io&srno=s_1_16&otracker=search&fm=organic&iid=07c2d08d-beee-459a-b164-426be5ce3af0.MOBFWBYZSGN526X4.SEARCH&ppt=None&ppn=None&ssid=s1xpof8i340000001678266876807&qH=e5f947358954fd90\n",
      "+++++++++++++++++++++++++++++++++++++++++++++++++\n",
      "https://www.flipkart.com/search?q={}/apple-iphone-12-pro-max-graphite-128-gb/p/itm973c298184f51?pid=MOBFWBYZFDGQSDWS&lid=LSTMOBFWBYZFDGQSDWS6UBAEI&marketplace=FLIPKART&q=iPhone+12+Pro&store=tyy%2F4io&srno=s_1_17&otracker=search&fm=organic&iid=07c2d08d-beee-459a-b164-426be5ce3af0.MOBFWBYZFDGQSDWS.SEARCH&ppt=None&ppn=None&ssid=s1xpof8i340000001678266876807&qH=e5f947358954fd90\n",
      "+++++++++++++++++++++++++++++++++++++++++++++++++\n",
      "https://www.flipkart.com/search?q={}/apple-iphone-12-pro-max-graphite-512-gb/p/itm52a5e8e630441?pid=MOBFWBYZZZ6DWWFZ&lid=LSTMOBFWBYZZZ6DWWFZJWJVPK&marketplace=FLIPKART&q=iPhone+12+Pro&store=tyy%2F4io&srno=s_1_18&otracker=search&fm=organic&iid=07c2d08d-beee-459a-b164-426be5ce3af0.MOBFWBYZZZ6DWWFZ.SEARCH&ppt=None&ppn=None&ssid=s1xpof8i340000001678266876807&qH=e5f947358954fd90\n",
      "+++++++++++++++++++++++++++++++++++++++++++++++++\n",
      "https://www.flipkart.com/search?q={}/apple-iphone-12-pro-max-silver-256-gb/p/itm30faf74442adb?pid=MOBFWBYZZH4AM8FE&lid=LSTMOBFWBYZZH4AM8FETYFBOG&marketplace=FLIPKART&q=iPhone+12+Pro&store=tyy%2F4io&srno=s_1_19&otracker=search&fm=organic&iid=07c2d08d-beee-459a-b164-426be5ce3af0.MOBFWBYZZH4AM8FE.SEARCH&ppt=None&ppn=None&ssid=s1xpof8i340000001678266876807&qH=e5f947358954fd90\n",
      "+++++++++++++++++++++++++++++++++++++++++++++++++\n",
      "https://www.flipkart.com/search?q={}/apple-iphone-12-pro-pacific-blue-256-gb/p/itmea897274baa30?pid=MOBFWBYZVRPH2UCD&lid=LSTMOBFWBYZVRPH2UCDHPQUAR&marketplace=FLIPKART&q=iPhone+12+Pro&store=tyy%2F4io&srno=s_1_20&otracker=search&fm=organic&iid=07c2d08d-beee-459a-b164-426be5ce3af0.MOBFWBYZVRPH2UCD.SEARCH&ppt=None&ppn=None&ssid=s1xpof8i340000001678266876807&qH=e5f947358954fd90\n",
      "+++++++++++++++++++++++++++++++++++++++++++++++++\n",
      "https://www.flipkart.com/search?q={}/apple-iphone-12-pro-max-silver-128-gb/p/itm5a51ba742a17e?pid=MOBFWBYZNSNVGGZC&lid=LSTMOBFWBYZNSNVGGZCTPGZZU&marketplace=FLIPKART&q=iPhone+12+Pro&store=tyy%2F4io&srno=s_1_21&otracker=search&fm=organic&iid=07c2d08d-beee-459a-b164-426be5ce3af0.MOBFWBYZNSNVGGZC.SEARCH&ppt=None&ppn=None&ssid=s1xpof8i340000001678266876807&qH=e5f947358954fd90\n",
      "+++++++++++++++++++++++++++++++++++++++++++++++++\n",
      "https://www.flipkart.com/search?q={}/apple-iphone-12-pro-max-graphite-256-gb/p/itm8dbdf0b986725?pid=MOBFWBYZEF6XQ5ZW&lid=LSTMOBFWBYZEF6XQ5ZWBZ3ZKD&marketplace=FLIPKART&q=iPhone+12+Pro&store=tyy%2F4io&srno=s_1_22&otracker=search&fm=organic&iid=07c2d08d-beee-459a-b164-426be5ce3af0.MOBFWBYZEF6XQ5ZW.SEARCH&ppt=None&ppn=None&ssid=s1xpof8i340000001678266876807&qH=e5f947358954fd90\n",
      "+++++++++++++++++++++++++++++++++++++++++++++++++\n",
      "https://www.flipkart.com/search?q={}/apple-iphone-12-pro-max-pacific-blue-128-gb/p/itmd89812b558a03?pid=MOBFWBYZZABKHZQA&lid=LSTMOBFWBYZZABKHZQATE6G93&marketplace=FLIPKART&q=iPhone+12+Pro&store=tyy%2F4io&srno=s_1_23&otracker=search&fm=organic&iid=07c2d08d-beee-459a-b164-426be5ce3af0.MOBFWBYZZABKHZQA.SEARCH&ppt=None&ppn=None&ssid=s1xpof8i340000001678266876807&qH=e5f947358954fd90\n",
      "+++++++++++++++++++++++++++++++++++++++++++++++++\n",
      "https://www.flipkart.com/search?q={}/apple-iphone-12-pro-pacific-blue-512-gb/p/itm8a39d6779b04e?pid=MOBFWBYZTHSXKMGW&lid=LSTMOBFWBYZTHSXKMGWYPOFI5&marketplace=FLIPKART&q=iPhone+12+Pro&store=tyy%2F4io&srno=s_1_24&otracker=search&fm=organic&iid=07c2d08d-beee-459a-b164-426be5ce3af0.MOBFWBYZTHSXKMGW.SEARCH&ppt=None&ppn=None&ssid=s1xpof8i340000001678266876807&qH=e5f947358954fd90\n",
      "+++++++++++++++++++++++++++++++++++++++++++++++++\n"
     ]
    },
    {
     "ename": "AttributeError",
     "evalue": "'NoneType' object has no attribute 'a'",
     "output_type": "error",
     "traceback": [
      "\u001b[0;31m---------------------------------------------------------------------------\u001b[0m",
      "\u001b[0;31mAttributeError\u001b[0m                            Traceback (most recent call last)",
      "Cell \u001b[0;32mIn[52], line 2\u001b[0m\n\u001b[1;32m      1\u001b[0m \u001b[38;5;28;01mfor\u001b[39;00m i \u001b[38;5;129;01min\u001b[39;00m \u001b[38;5;28mrange\u001b[39m(\u001b[38;5;28mlen\u001b[39m(big_box)) : \n\u001b[0;32m----> 2\u001b[0m     \u001b[38;5;28mprint\u001b[39m(\u001b[38;5;124m\"\u001b[39m\u001b[38;5;124mhttps://www.flipkart.com/search?q=\u001b[39m\u001b[38;5;132;01m{}\u001b[39;00m\u001b[38;5;124m\"\u001b[39m \u001b[38;5;241m+\u001b[39m \u001b[43mbig_box\u001b[49m\u001b[43m[\u001b[49m\u001b[43mi\u001b[49m\u001b[43m]\u001b[49m\u001b[38;5;241;43m.\u001b[39;49m\u001b[43mdiv\u001b[49m\u001b[38;5;241;43m.\u001b[39;49m\u001b[43mdiv\u001b[49m\u001b[38;5;241;43m.\u001b[39;49m\u001b[43mdiv\u001b[49m\u001b[38;5;241;43m.\u001b[39;49m\u001b[43ma\u001b[49m[\u001b[38;5;124m'\u001b[39m\u001b[38;5;124mhref\u001b[39m\u001b[38;5;124m'\u001b[39m])\n\u001b[1;32m      3\u001b[0m     \u001b[38;5;28mprint\u001b[39m(\u001b[38;5;124m\"\u001b[39m\u001b[38;5;124m+++++++++++++++++++++++++++++++++++++++++++++++++\u001b[39m\u001b[38;5;124m\"\u001b[39m)\n",
      "\u001b[0;31mAttributeError\u001b[0m: 'NoneType' object has no attribute 'a'"
     ]
    }
   ],
   "source": [
    "for i in range(len(big_box)-1) : \n",
    "    print(\"https://www.flipkart.com/search?q={}\" + big_box[i].div.div.div.a['href'])\n",
    "    print(\"+++++++++++++++++++++++++++++++++++++++++++++++++\")"
   ]
  },
  {
   "cell_type": "code",
   "execution_count": 53,
   "id": "24568bdb-ade6-4770-8c42-e75e27a9dd4a",
   "metadata": {},
   "outputs": [
    {
     "data": {
      "text/plain": [
       "'https://www.flipkart.com/search?q={}/apple-iphone-12-pro-graphite-512-gb/p/itmdf0ffb4f2150f?pid=MOBFWBYZ4ZZ5VUQD&lid=LSTMOBFWBYZ4ZZ5VUQDQDDDI0&marketplace=FLIPKART&q=iPhone+12+Pro&store=tyy%2F4io&srno=s_1_1&otracker=search&fm=organic&iid=07c2d08d-beee-459a-b164-426be5ce3af0.MOBFWBYZ4ZZ5VUQD.SEARCH&ppt=None&ppn=None&ssid=s1xpof8i340000001678266876807&qH=e5f947358954fd90'"
      ]
     },
     "execution_count": 53,
     "metadata": {},
     "output_type": "execute_result"
    }
   ],
   "source": [
    "product_link"
   ]
  },
  {
   "cell_type": "code",
   "execution_count": 54,
   "id": "464d08b6-fc20-4c87-b5ac-4d4c12d88315",
   "metadata": {},
   "outputs": [],
   "source": [
    "product_request = requests.get(product_link)"
   ]
  },
  {
   "cell_type": "code",
   "execution_count": 55,
   "id": "85457963-1aea-4998-988e-8ce2b489f9b5",
   "metadata": {},
   "outputs": [
    {
     "data": {
      "text/plain": [
       "<Response [200]>"
      ]
     },
     "execution_count": 55,
     "metadata": {},
     "output_type": "execute_result"
    }
   ],
   "source": [
    "product_request"
   ]
  },
  {
   "cell_type": "code",
   "execution_count": 56,
   "id": "b40c7ebf-c281-49b6-9605-d84926ae800c",
   "metadata": {},
   "outputs": [],
   "source": [
    "product_html = bs(product_request.text, 'html.parser')"
   ]
  },
  {
   "cell_type": "code",
   "execution_count": 58,
   "id": "0e65aa7d-93d6-4ca7-9db7-16558271c0ef",
   "metadata": {},
   "outputs": [],
   "source": [
    "comment_box = product_html.find_all('div', {\"class\" : \"_16PBlm\"})"
   ]
  },
  {
   "cell_type": "code",
   "execution_count": 59,
   "id": "adbe80e4-6eee-4a79-bf4f-a915b3156c2b",
   "metadata": {},
   "outputs": [
    {
     "data": {
      "text/plain": [
       "11"
      ]
     },
     "execution_count": 59,
     "metadata": {},
     "output_type": "execute_result"
    }
   ],
   "source": [
    "len(comment_box)"
   ]
  },
  {
   "cell_type": "code",
   "execution_count": 60,
   "id": "3292a689-65bb-42e8-a57a-1cf0ec709ad6",
   "metadata": {},
   "outputs": [
    {
     "data": {
      "text/plain": [
       "<div class=\"_16PBlm\"><div class=\"col\"><div class=\"col _2wzgFH\"><div class=\"row\"><div class=\"_3LWZlK _1BLPMq\">5<img class=\"_1wB99o\" src=\"data:image/svg+xml;base64,PHN2ZyB4bWxucz0iaHR0cDovL3d3dy53My5vcmcvMjAwMC9zdmciIHdpZHRoPSIxMyIgaGVpZ2h0PSIxMiI+PHBhdGggZmlsbD0iI0ZGRiIgZD0iTTYuNSA5LjQzOWwtMy42NzQgMi4yMy45NC00LjI2LTMuMjEtMi44ODMgNC4yNTQtLjQwNEw2LjUuMTEybDEuNjkgNC4wMSA0LjI1NC40MDQtMy4yMSAyLjg4Mi45NCA0LjI2eiIvPjwvc3ZnPg==\"/></div><p class=\"_2-N8zT\">Best in the market!</p></div><div class=\"row\"><div class=\"t-ZTKy\"><div><div class=\"\">I have been using iPhones for years, but the fast charging and battery on this one is brilliant. Like i always say, iPhone is more of a jewellery than a phone. But this one has some power-packed features and an awesome camera. So if you can afford it, buy it!</div><span class=\"_1H-bmy\"><span>READ MORE</span></span></div></div></div><div class=\"_2nMSwX _3oLIki\"><div class=\"_21YjFX _2A07HP\" style=\"background-image:url(https://rukminim1.flixcart.com/blobio/124/124/imr-202107/blobio-imr-202107_81df3873bb194f69b3ee844fc1560ec3.jpeg?q=90), url(data:image/svg+xml;base64,PHN2ZyB3aWR0aD0iMjIiIGhlaWdodD0iMTgiIHhtbG5zPSJodHRwOi8vd3d3LnczLm9yZy8yMDAwL3N2ZyI+PGcgZmlsbD0iIzlEOUQ5RCIgZmlsbC1ydWxlPSJub256ZXJvIj48cGF0aCBkPSJNMjAgMEgyQzEgMCAwIDEgMCAydjE0YzAgMS4xLjkgMiAyIDJoMThjMSAwIDItMSAyLTJWMmMwLTEtMS0yLTItMnptMCAxNS45MmMtLjAyLjAzLS4wNi4wNi0uMDguMDhIMlYyLjA4TDIuMDggMmgxNy44M2MuMDMuMDIuMDYuMDYuMDguMDh2MTMuODRIMjB6Ii8+PHBhdGggZD0iTTEwIDEyLjUxTDcuNSA5LjUgNCAxNGgxNGwtNC41LTZ6Ii8+PC9nPjwvc3ZnPg==);width:62px;height:62px\"></div><div class=\"_21YjFX _2A07HP\" style=\"background-image:url(https://rukminim1.flixcart.com/blobio/124/124/imr-202107/blobio-imr-202107_de40bbc73a3844e9aee0dd5750da84a8.jpeg?q=90), url(data:image/svg+xml;base64,PHN2ZyB3aWR0aD0iMjIiIGhlaWdodD0iMTgiIHhtbG5zPSJodHRwOi8vd3d3LnczLm9yZy8yMDAwL3N2ZyI+PGcgZmlsbD0iIzlEOUQ5RCIgZmlsbC1ydWxlPSJub256ZXJvIj48cGF0aCBkPSJNMjAgMEgyQzEgMCAwIDEgMCAydjE0YzAgMS4xLjkgMiAyIDJoMThjMSAwIDItMSAyLTJWMmMwLTEtMS0yLTItMnptMCAxNS45MmMtLjAyLjAzLS4wNi4wNi0uMDguMDhIMlYyLjA4TDIuMDggMmgxNy44M2MuMDMuMDIuMDYuMDYuMDguMDh2MTMuODRIMjB6Ii8+PHBhdGggZD0iTTEwIDEyLjUxTDcuNSA5LjUgNCAxNGgxNGwtNC41LTZ6Ii8+PC9nPjwvc3ZnPg==);width:62px;height:62px\"></div><div class=\"_21YjFX _2A07HP\" style=\"background-image:url(https://rukminim1.flixcart.com/blobio/124/124/imr-202107/blobio-imr-202107_36ea7d195c6242b581adda2b3f6e746d.jpeg?q=90), url(data:image/svg+xml;base64,PHN2ZyB3aWR0aD0iMjIiIGhlaWdodD0iMTgiIHhtbG5zPSJodHRwOi8vd3d3LnczLm9yZy8yMDAwL3N2ZyI+PGcgZmlsbD0iIzlEOUQ5RCIgZmlsbC1ydWxlPSJub256ZXJvIj48cGF0aCBkPSJNMjAgMEgyQzEgMCAwIDEgMCAydjE0YzAgMS4xLjkgMiAyIDJoMThjMSAwIDItMSAyLTJWMmMwLTEtMS0yLTItMnptMCAxNS45MmMtLjAyLjAzLS4wNi4wNi0uMDguMDhIMlYyLjA4TDIuMDggMmgxNy44M2MuMDMuMDIuMDYuMDYuMDguMDh2MTMuODRIMjB6Ii8+PHBhdGggZD0iTTEwIDEyLjUxTDcuNSA5LjUgNCAxNGgxNGwtNC41LTZ6Ii8+PC9nPjwvc3ZnPg==);width:62px;height:62px\"></div><div class=\"_21YjFX _2A07HP\" style=\"background-image:url(https://rukminim1.flixcart.com/blobio/124/124/imr-202107/blobio-imr-202107_2d64653c6a5640f592d17daa040d0b0a.jpeg?q=90), url(data:image/svg+xml;base64,PHN2ZyB3aWR0aD0iMjIiIGhlaWdodD0iMTgiIHhtbG5zPSJodHRwOi8vd3d3LnczLm9yZy8yMDAwL3N2ZyI+PGcgZmlsbD0iIzlEOUQ5RCIgZmlsbC1ydWxlPSJub256ZXJvIj48cGF0aCBkPSJNMjAgMEgyQzEgMCAwIDEgMCAydjE0YzAgMS4xLjkgMiAyIDJoMThjMSAwIDItMSAyLTJWMmMwLTEtMS0yLTItMnptMCAxNS45MmMtLjAyLjAzLS4wNi4wNi0uMDguMDhIMlYyLjA4TDIuMDggMmgxNy44M2MuMDMuMDIuMDYuMDYuMDguMDh2MTMuODRIMjB6Ii8+PHBhdGggZD0iTTEwIDEyLjUxTDcuNSA5LjUgNCAxNGgxNGwtNC41LTZ6Ii8+PC9nPjwvc3ZnPg==);width:62px;height:62px\"></div></div><div class=\"row _3n8db9\"><div class=\"row\"><p class=\"_2sc7ZR _2V5EHH\">Vinit Kar</p><svg class=\"_2a1p_T\" height=\"14\" viewbox=\"0 0 12 12\" width=\"14\" xmlns=\"http://www.w3.org/2000/svg\"><g><circle cx=\"6\" cy=\"6\" fill=\"#878787\" r=\"6\"></circle><path d=\"M3 6l2 2 4-4\" fill=\"#878787\" stroke=\"#FFF\" stroke-width=\"1.5\"></path></g></svg><p class=\"_2mcZGG\" id=\"review-4cde68ab-62b5-4c7f-bc3b-f3f45fc36b09\"><span>Certified Buyer</span><span>, Mumbai</span></p><div></div><p class=\"_2sc7ZR\">Jul, 2021</p></div><div class=\"_1e9_Zu\"><div class=\"row\"><div class=\"_27aTsS\"><div class=\"_1LmwT9\"><svg class=\"skCrcq\" height=\"15\" width=\"20\" xmlns=\"http://www.w3.org/2000/svg\"><path class=\"_1LIt4y\" d=\"M9.58.006c-.41.043-.794.32-1.01.728-.277.557-2.334 4.693-2.74 5.1-.41.407-.944.6-1.544.6v8.572h7.5c.45 0 .835-.28 1.007-.665 0 0 2.207-6.234 2.207-6.834 0-.6-.47-1.072-1.07-1.072h-3.216c-.6 0-1.07-.535-1.07-1.07 0-.537.835-3.387 1.006-3.944.17-.557-.107-1.157-.664-1.35-.15-.043-.257-.086-.407-.064zM0 6.434v8.572h2.143V6.434H0z\" fill=\"#fff\" fill-rule=\"evenodd\"></path></svg><span class=\"_3c3Px5\">4755</span></div><div class=\"_1LmwT9 pkR4jH\"><svg class=\"skCrcq pkR4jH\" height=\"15\" width=\"20\" xmlns=\"http://www.w3.org/2000/svg\"><path class=\"_1LIt4y\" d=\"M9.58.006c-.41.043-.794.32-1.01.728-.277.557-2.334 4.693-2.74 5.1-.41.407-.944.6-1.544.6v8.572h7.5c.45 0 .835-.28 1.007-.665 0 0 2.207-6.234 2.207-6.834 0-.6-.47-1.072-1.07-1.072h-3.216c-.6 0-1.07-.535-1.07-1.07 0-.537.835-3.387 1.006-3.944.17-.557-.107-1.157-.664-1.35-.15-.043-.257-.086-.407-.064zM0 6.434v8.572h2.143V6.434H0z\" fill=\"#fff\" fill-rule=\"evenodd\"></path></svg><span class=\"_3c3Px5\">850</span></div></div><div class=\"_2bmov8\"><svg class=\"_2UvOBb\" height=\"11\" viewbox=\"0 0 16 27\" width=\"6\" xmlns=\"http://www.w3.org/2000/svg\"><path class=\"_2aPE6f\" d=\"M16 23.207L6.11 13.161 16 3.093 12.955 0 0 13.161l12.955 13.161z\" fill=\"#fff\"></path></svg><div class=\"_3E8aIl _38dCuf\"><div class=\"_3XCI6U\"><a href=\"/reviews/MOBFWBYZXYSCEEEH:53?reviewId=4cde68ab-62b5-4c7f-bc3b-f3f45fc36b09\"><span>Permalink</span></a></div><div class=\"_3XCI6U _2b2z-j\"><span>Report Abuse</span></div></div></div></div></div></div></div></div></div>"
      ]
     },
     "execution_count": 60,
     "metadata": {},
     "output_type": "execute_result"
    }
   ],
   "source": [
    "comment_box[0]"
   ]
  },
  {
   "cell_type": "code",
   "execution_count": 63,
   "id": "f7ca567e-b5f6-4bd8-b660-652a765bd233",
   "metadata": {},
   "outputs": [
    {
     "data": {
      "text/plain": [
       "'Vinit Kar'"
      ]
     },
     "execution_count": 63,
     "metadata": {},
     "output_type": "execute_result"
    }
   ],
   "source": [
    "comment_box[0].div.div.find_all(\"p\", {\"class\" : \"_2sc7ZR _2V5EHH\"})[0].text"
   ]
  },
  {
   "cell_type": "code",
   "execution_count": 65,
   "id": "122499ba-7d2c-424e-95c2-999443545652",
   "metadata": {},
   "outputs": [
    {
     "name": "stdout",
     "output_type": "stream",
     "text": [
      "Vinit Kar\n",
      "Rahul  Meena\n",
      "Nami Hathishah\n",
      "Rajesh Jena\n",
      "Lee Phela\n",
      "Rajkumar tiwari\n",
      "Kirti Yadav\n",
      "Tushar Saini\n",
      "Aasheesh Vats\n",
      "Salman Rahman\n"
     ]
    }
   ],
   "source": [
    "for i in range(len(comment_box)-1) :\n",
    "    print(comment_box[i].div.div.find_all(\"p\", {\"class\" : \"_2sc7ZR _2V5EHH\"})[0].text)"
   ]
  },
  {
   "cell_type": "code",
   "execution_count": 88,
   "id": "9fac1e72-5e45-4940-bc07-bf57537cb8c1",
   "metadata": {},
   "outputs": [
    {
     "data": {
      "text/plain": [
       "'5'"
      ]
     },
     "execution_count": 88,
     "metadata": {},
     "output_type": "execute_result"
    }
   ],
   "source": [
    "comment_box[0].div.div.div.div.text"
   ]
  },
  {
   "cell_type": "code",
   "execution_count": 90,
   "id": "34a0e080-c980-4842-bfcf-5f331feca45c",
   "metadata": {},
   "outputs": [
    {
     "name": "stdout",
     "output_type": "stream",
     "text": [
      "5\n",
      "5\n",
      "5\n",
      "5\n",
      "5\n",
      "5\n",
      "3\n",
      "5\n",
      "5\n",
      "5\n"
     ]
    },
    {
     "ename": "AttributeError",
     "evalue": "'NoneType' object has no attribute 'div'",
     "output_type": "error",
     "traceback": [
      "\u001b[0;31m---------------------------------------------------------------------------\u001b[0m",
      "\u001b[0;31mAttributeError\u001b[0m                            Traceback (most recent call last)",
      "Cell \u001b[0;32mIn[90], line 2\u001b[0m\n\u001b[1;32m      1\u001b[0m \u001b[38;5;28;01mfor\u001b[39;00m i \u001b[38;5;129;01min\u001b[39;00m comment_box : \n\u001b[0;32m----> 2\u001b[0m     \u001b[38;5;28mprint\u001b[39m(\u001b[43mi\u001b[49m\u001b[38;5;241;43m.\u001b[39;49m\u001b[43mdiv\u001b[49m\u001b[38;5;241;43m.\u001b[39;49m\u001b[43mdiv\u001b[49m\u001b[38;5;241m.\u001b[39mdiv\u001b[38;5;241m.\u001b[39mdiv\u001b[38;5;241m.\u001b[39mtext)\n",
      "\u001b[0;31mAttributeError\u001b[0m: 'NoneType' object has no attribute 'div'"
     ]
    }
   ],
   "source": [
    "for i in comment_box : \n",
    "    print(i.div.div.div.div.text)"
   ]
  },
  {
   "cell_type": "code",
   "execution_count": 91,
   "id": "d6bb811a-d202-4e58-bc3c-829dd70d797c",
   "metadata": {},
   "outputs": [
    {
     "data": {
      "text/plain": [
       "'Best in the market!'"
      ]
     },
     "execution_count": 91,
     "metadata": {},
     "output_type": "execute_result"
    }
   ],
   "source": [
    "comment_box[0].div.div.div.p.text"
   ]
  },
  {
   "cell_type": "code",
   "execution_count": 92,
   "id": "239af955-dd96-4710-857b-5f7f4ef866a3",
   "metadata": {},
   "outputs": [
    {
     "name": "stdout",
     "output_type": "stream",
     "text": [
      "Best in the market!\n",
      "Highly recommended\n",
      "Super!\n",
      "Brilliant\n",
      "Awesome\n",
      "Simply awesome\n",
      "Nice\n",
      "Fabulous!\n",
      "Fabulous!\n",
      "Fabulous!\n"
     ]
    },
    {
     "ename": "AttributeError",
     "evalue": "'NoneType' object has no attribute 'div'",
     "output_type": "error",
     "traceback": [
      "\u001b[0;31m---------------------------------------------------------------------------\u001b[0m",
      "\u001b[0;31mAttributeError\u001b[0m                            Traceback (most recent call last)",
      "Cell \u001b[0;32mIn[92], line 2\u001b[0m\n\u001b[1;32m      1\u001b[0m \u001b[38;5;28;01mfor\u001b[39;00m i \u001b[38;5;129;01min\u001b[39;00m comment_box : \n\u001b[0;32m----> 2\u001b[0m     \u001b[38;5;28mprint\u001b[39m(\u001b[43mi\u001b[49m\u001b[38;5;241;43m.\u001b[39;49m\u001b[43mdiv\u001b[49m\u001b[38;5;241;43m.\u001b[39;49m\u001b[43mdiv\u001b[49m\u001b[38;5;241m.\u001b[39mdiv\u001b[38;5;241m.\u001b[39mp\u001b[38;5;241m.\u001b[39mtext)\n",
      "\u001b[0;31mAttributeError\u001b[0m: 'NoneType' object has no attribute 'div'"
     ]
    }
   ],
   "source": [
    "for i in comment_box : \n",
    "    print(i.div.div.div.p.text)"
   ]
  },
  {
   "cell_type": "code",
   "execution_count": 97,
   "id": "4b7bd3a9-1e37-48c8-a901-035ed11e26c1",
   "metadata": {},
   "outputs": [
    {
     "data": {
      "text/plain": [
       "'I have been using iPhones for years, but the fast charging and battery on this one is brilliant. Like i always say, iPhone is more of a jewellery than a phone. But this one has some power-packed features and an awesome camera. So if you can afford it, buy it!READ MORE'"
      ]
     },
     "execution_count": 97,
     "metadata": {},
     "output_type": "execute_result"
    }
   ],
   "source": [
    "comment_box[0].div.div.find_all(\"div\", {\"class\" : \"\"})[0].text"
   ]
  },
  {
   "cell_type": "code",
   "execution_count": 99,
   "id": "ade46bcc-9136-48b7-9391-18f8b562c8b3",
   "metadata": {},
   "outputs": [
    {
     "name": "stdout",
     "output_type": "stream",
     "text": [
      "I have been using iPhones for years, but the fast charging and battery on this one is brilliant. Like i always say, iPhone is more of a jewellery than a phone. But this one has some power-packed features and an awesome camera. So if you can afford it, buy it!READ MORE\n",
      "++++++++++++++++++++++++++++\n",
      "I like the most in this phone:-1. I like the size of this phone because it is easy to hold.2. The camera quality of this phone is admirable. 3. Battery backup is good.4. The new design and colour  of this phone also a plus point of its beauty.5. These  points are my personal which i like most in this phone.READ MORE\n",
      "++++++++++++++++++++++++++++\n",
      "One of the best looking phone in the market right now with a decent performance jump from 11 pro. Camera is excellent and the display is quite responsive and sharp. Only issue is it does not have a higher refresh rate and the battery life is average.READ MORE\n",
      "++++++++++++++++++++++++++++\n",
      "I have upgraded from Android to iOS for the first time with the IPhone 12 Pro. And the experience is very much satisfactory. The new A14 bionic processor is very fast. The boxy design is what I liked the most. The camera and display are top notch. Night mode photography is excellent. Worth upgrading from Android to iOS .READ MORE\n",
      "++++++++++++++++++++++++++++\n",
      "Awesome!Just made an upgrade from X, worth every single penny spent on it, the camera is just too superb, be it the selfie cam or the main rear cam, the goodness it takes the picture is just beyond words, no smart phone can beat it atm! However, the battery life tends to be on the shorter side, that’s the only con that I can’t think up of now,READ MORE\n",
      "++++++++++++++++++++++++++++\n",
      "indeed a great phone feels premium in hand but battery life is lowREAD MORE\n",
      "++++++++++++++++++++++++++++\n",
      "Its just Perfect . Prices are a bit high .READ MORE\n",
      "++++++++++++++++++++++++++++\n",
      "The camera is mind-blowing I love it 😘READ MORE\n",
      "++++++++++++++++++++++++++++\n",
      "A masterpiece to cherish.READ MORE\n",
      "++++++++++++++++++++++++++++\n",
      "This one of the best iPhone ever built, though battery backup isn’t good. But the user experience is brilliant.Upgraded from 11 Pro.READ MORE\n",
      "++++++++++++++++++++++++++++\n"
     ]
    },
    {
     "ename": "AttributeError",
     "evalue": "'NoneType' object has no attribute 'div'",
     "output_type": "error",
     "traceback": [
      "\u001b[0;31m---------------------------------------------------------------------------\u001b[0m",
      "\u001b[0;31mAttributeError\u001b[0m                            Traceback (most recent call last)",
      "Cell \u001b[0;32mIn[99], line 2\u001b[0m\n\u001b[1;32m      1\u001b[0m \u001b[38;5;28;01mfor\u001b[39;00m i \u001b[38;5;129;01min\u001b[39;00m comment_box : \n\u001b[0;32m----> 2\u001b[0m     \u001b[38;5;28mprint\u001b[39m(\u001b[43mi\u001b[49m\u001b[38;5;241;43m.\u001b[39;49m\u001b[43mdiv\u001b[49m\u001b[38;5;241;43m.\u001b[39;49m\u001b[43mdiv\u001b[49m\u001b[38;5;241m.\u001b[39mfind_all(\u001b[38;5;124m\"\u001b[39m\u001b[38;5;124mdiv\u001b[39m\u001b[38;5;124m\"\u001b[39m, {\u001b[38;5;124m\"\u001b[39m\u001b[38;5;124mclass\u001b[39m\u001b[38;5;124m\"\u001b[39m : \u001b[38;5;124m\"\u001b[39m\u001b[38;5;124m\"\u001b[39m})[\u001b[38;5;241m0\u001b[39m]\u001b[38;5;241m.\u001b[39mtext)\n\u001b[1;32m      3\u001b[0m     \u001b[38;5;28mprint\u001b[39m(\u001b[38;5;124m\"\u001b[39m\u001b[38;5;124m++++++++++++++++++++++++++++\u001b[39m\u001b[38;5;124m\"\u001b[39m)\n",
      "\u001b[0;31mAttributeError\u001b[0m: 'NoneType' object has no attribute 'div'"
     ]
    }
   ],
   "source": [
    "for i in comment_box : \n",
    "    print(i.div.div.find_all(\"div\", {\"class\" : \"\"})[0].text)\n",
    "    print(\"++++++++++++++++++++++++++++\")"
   ]
  },
  {
   "cell_type": "code",
   "execution_count": null,
   "id": "25cd28ec-8e92-4c35-b7af-6e2fa9749c31",
   "metadata": {},
   "outputs": [],
   "source": []
  }
 ],
 "metadata": {
  "kernelspec": {
   "display_name": "Python 3 (ipykernel)",
   "language": "python",
   "name": "python3"
  },
  "language_info": {
   "codemirror_mode": {
    "name": "ipython",
    "version": 3
   },
   "file_extension": ".py",
   "mimetype": "text/x-python",
   "name": "python",
   "nbconvert_exporter": "python",
   "pygments_lexer": "ipython3",
   "version": "3.10.8"
  }
 },
 "nbformat": 4,
 "nbformat_minor": 5
}
