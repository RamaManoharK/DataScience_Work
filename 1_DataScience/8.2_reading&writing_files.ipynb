{
 "cells": [
  {
   "cell_type": "code",
   "execution_count": 29,
   "id": "f38e4ad4-b92e-41bd-b76f-9cc3dc2981d4",
   "metadata": {},
   "outputs": [],
   "source": [
    " data = {\n",
    "     'name' : 'ram',\n",
    "     'maild_id' : 'ram@gmail.com',\n",
    "     'phone_number' : 9456461643,\n",
    "     'subject' : ['python', 'data_science', 'big_data']\n",
    " }"
   ]
  },
  {
   "cell_type": "code",
   "execution_count": 30,
   "id": "7adadb68-395b-4bb5-99e8-a7bd1cf55c5b",
   "metadata": {},
   "outputs": [],
   "source": [
    "import json"
   ]
  },
  {
   "cell_type": "code",
   "execution_count": 31,
   "id": "d0bbc9b9-6c80-432d-b932-37d00136d721",
   "metadata": {},
   "outputs": [],
   "source": [
    "with open('test1.json', 'w') as f : \n",
    "    json.dump(data, f)"
   ]
  },
  {
   "cell_type": "code",
   "execution_count": 32,
   "id": "6f44efb2-d986-446e-a670-56a7f7fde3c7",
   "metadata": {},
   "outputs": [],
   "source": [
    "with open('test1.json', 'r') as f : \n",
    "    data1 = json.load(f)"
   ]
  },
  {
   "cell_type": "code",
   "execution_count": 33,
   "id": "4e02cfb2-bcf1-4a3a-8b83-febf1a8baa81",
   "metadata": {},
   "outputs": [
    {
     "data": {
      "text/plain": [
       "{'name': 'ram',\n",
       " 'maild_id': 'ram@gmail.com',\n",
       " 'phone_number': 9456461643,\n",
       " 'subject': ['python', 'data_science', 'big_data']}"
      ]
     },
     "execution_count": 33,
     "metadata": {},
     "output_type": "execute_result"
    }
   ],
   "source": [
    "data1"
   ]
  },
  {
   "cell_type": "code",
   "execution_count": 34,
   "id": "4c2b1ae1-2ad1-43ce-b7e2-f8da7cc03062",
   "metadata": {},
   "outputs": [
    {
     "data": {
      "text/plain": [
       "'data_science'"
      ]
     },
     "execution_count": 34,
     "metadata": {},
     "output_type": "execute_result"
    }
   ],
   "source": [
    "data['subject'][1]"
   ]
  },
  {
   "cell_type": "code",
   "execution_count": 35,
   "id": "7b469822-d085-4de2-b06e-33d71315d35d",
   "metadata": {},
   "outputs": [],
   "source": [
    "data2 = [['name', 'email_id', 'numbers'],\n",
    "        ['manohar', 'manohar@gmail.com', 953613461],\n",
    "         ['rmk', 'rmk@gmail.com', 964563416]\n",
    "        ]"
   ]
  },
  {
   "cell_type": "code",
   "execution_count": 36,
   "id": "0bd76464-248c-4d1f-9fd1-1badba700c6c",
   "metadata": {},
   "outputs": [],
   "source": [
    "import csv"
   ]
  },
  {
   "cell_type": "code",
   "execution_count": 37,
   "id": "722e7ea8-d4e9-453b-ae79-99ed0aa87c02",
   "metadata": {},
   "outputs": [],
   "source": [
    "with open('test3.csv', 'w') as f :\n",
    "    w = csv.writer(f)\n",
    "    for i in data2 : \n",
    "        w.writerow(i)"
   ]
  },
  {
   "cell_type": "code",
   "execution_count": 39,
   "id": "cc9b7700-94c0-4b59-9312-eb1171a8ee3a",
   "metadata": {},
   "outputs": [
    {
     "name": "stdout",
     "output_type": "stream",
     "text": [
      "['name', 'email_id', 'numbers']\n",
      "['manohar', 'manohar@gmail.com', '953613461']\n",
      "['rmk', 'rmk@gmail.com', '964563416']\n"
     ]
    }
   ],
   "source": [
    "with open('test3.csv', 'r') as f :\n",
    "    read = csv.reader(f)\n",
    "    for i in read:\n",
    "        print(i)"
   ]
  },
  {
   "cell_type": "code",
   "execution_count": 40,
   "id": "899af0a8-54bf-4dc8-8019-5ae9f2cc15a4",
   "metadata": {},
   "outputs": [],
   "source": [
    "with open('test4.bin', 'wb') as f :\n",
    "    f.write(b\"\\x01\\x02\\x03\")"
   ]
  },
  {
   "cell_type": "code",
   "execution_count": 41,
   "id": "d133383f-21e5-48fc-9eac-245c7d4daaeb",
   "metadata": {},
   "outputs": [
    {
     "name": "stdout",
     "output_type": "stream",
     "text": [
      "b'\\x01\\x02\\x03'\n"
     ]
    }
   ],
   "source": [
    "with open('test4.bin', 'rb') as f :\n",
    "    print(f.read())"
   ]
  },
  {
   "cell_type": "code",
   "execution_count": null,
   "id": "d205320a-f66b-474e-8087-fa2805465673",
   "metadata": {},
   "outputs": [],
   "source": []
  }
 ],
 "metadata": {
  "kernelspec": {
   "display_name": "Python 3 (ipykernel)",
   "language": "python",
   "name": "python3"
  },
  "language_info": {
   "codemirror_mode": {
    "name": "ipython",
    "version": 3
   },
   "file_extension": ".py",
   "mimetype": "text/x-python",
   "name": "python",
   "nbconvert_exporter": "python",
   "pygments_lexer": "ipython3",
   "version": "3.10.8"
  }
 },
 "nbformat": 4,
 "nbformat_minor": 5
}
