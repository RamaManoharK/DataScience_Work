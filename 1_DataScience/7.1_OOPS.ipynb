{
 "cells": [
  {
   "cell_type": "markdown",
   "id": "af395da4-7d04-4e22-a5f7-a5e00277bc59",
   "metadata": {},
   "source": [
    "### OOPS : Object-Oriented Programming System"
   ]
  },
  {
   "cell_type": "code",
   "execution_count": 1,
   "id": "d545cdd1-637e-4b1a-bd16-74bfbb234c3d",
   "metadata": {},
   "outputs": [],
   "source": [
    "a = 123"
   ]
  },
  {
   "cell_type": "code",
   "execution_count": 2,
   "id": "4bfde2c5-7ff6-45b1-b1f1-654e0b186d94",
   "metadata": {},
   "outputs": [
    {
     "name": "stdout",
     "output_type": "stream",
     "text": [
      "<class 'int'>\n"
     ]
    }
   ],
   "source": [
    "print(type(a))"
   ]
  },
  {
   "cell_type": "code",
   "execution_count": 3,
   "id": "f511ee58-d979-4507-9533-83b033f19a96",
   "metadata": {},
   "outputs": [
    {
     "name": "stdout",
     "output_type": "stream",
     "text": [
      "<class 'str'>\n"
     ]
    }
   ],
   "source": [
    "print(type(\"Ram\"))"
   ]
  },
  {
   "cell_type": "code",
   "execution_count": 4,
   "id": "ef5e84f9-08f4-462a-b0f9-d05e6b7d968e",
   "metadata": {},
   "outputs": [],
   "source": [
    "class test:\n",
    "    pass"
   ]
  },
  {
   "cell_type": "code",
   "execution_count": 5,
   "id": "bd91408c-7560-4f9b-818b-9173c925e25c",
   "metadata": {},
   "outputs": [],
   "source": [
    "a = test() # object or instance or variable of class"
   ]
  },
  {
   "cell_type": "code",
   "execution_count": 6,
   "id": "077a78c1-9e72-4346-91d8-88826d06348a",
   "metadata": {},
   "outputs": [
    {
     "name": "stdout",
     "output_type": "stream",
     "text": [
      "<class '__main__.test'>\n"
     ]
    }
   ],
   "source": [
    "print(type(a))"
   ]
  },
  {
   "cell_type": "code",
   "execution_count": 10,
   "id": "39dc046c-85c6-41a0-8c6e-1a6b51486934",
   "metadata": {},
   "outputs": [],
   "source": [
    "class pwskills :\n",
    "    \n",
    "    def welcome_msg(self):\n",
    "        print(\"welcome to datascience & python\")"
   ]
  },
  {
   "cell_type": "code",
   "execution_count": 11,
   "id": "8b3f8773-3b13-4267-a434-7212ac13ade5",
   "metadata": {},
   "outputs": [],
   "source": [
    "ram = pwskills()"
   ]
  },
  {
   "cell_type": "code",
   "execution_count": 12,
   "id": "de269e70-7d44-4f15-bcda-7af21792fd67",
   "metadata": {},
   "outputs": [
    {
     "name": "stdout",
     "output_type": "stream",
     "text": [
      "welcome to datascience & python\n"
     ]
    }
   ],
   "source": [
    "ram.welcome_msg()"
   ]
  },
  {
   "cell_type": "code",
   "execution_count": 13,
   "id": "297a7fdd-aefe-4bae-9a91-a2f9fdda19f3",
   "metadata": {},
   "outputs": [],
   "source": [
    "manohar = pwskills()"
   ]
  },
  {
   "cell_type": "code",
   "execution_count": 14,
   "id": "61c22df9-5a82-49b2-931e-4d723ab1efe6",
   "metadata": {},
   "outputs": [
    {
     "name": "stdout",
     "output_type": "stream",
     "text": [
      "welcome to datascience & python\n"
     ]
    }
   ],
   "source": [
    "manohar.welcome_msg()"
   ]
  },
  {
   "cell_type": "code",
   "execution_count": 15,
   "id": "9fde17c1-a098-4d60-b3fc-6fb74881a914",
   "metadata": {},
   "outputs": [],
   "source": [
    "## constructor"
   ]
  },
  {
   "cell_type": "code",
   "execution_count": 17,
   "id": "59151eb0-5208-4b9b-862b-9a3a718728bd",
   "metadata": {},
   "outputs": [],
   "source": [
    "class pwskills1 : \n",
    "    \n",
    "    def __init__(self, phone_num, email_id, student_id) :\n",
    "        \n",
    "        self.phone_num = phone_num\n",
    "        self.email_id = email_id\n",
    "        self.student_id = student_id\n",
    "        \n",
    "    def return_student_details(self) :\n",
    "        \n",
    "        return self.phone_num, self.email_id, self.student_id"
   ]
  },
  {
   "cell_type": "code",
   "execution_count": 18,
   "id": "75623294-da7c-4943-aa1d-d00bb712883e",
   "metadata": {},
   "outputs": [
    {
     "ename": "TypeError",
     "evalue": "pwskills1.__init__() missing 3 required positional arguments: 'phone_num', 'email_id', and 'student_id'",
     "output_type": "error",
     "traceback": [
      "\u001b[0;31m---------------------------------------------------------------------------\u001b[0m",
      "\u001b[0;31mTypeError\u001b[0m                                 Traceback (most recent call last)",
      "Cell \u001b[0;32mIn[18], line 1\u001b[0m\n\u001b[0;32m----> 1\u001b[0m ram1 \u001b[38;5;241m=\u001b[39m \u001b[43mpwskills1\u001b[49m\u001b[43m(\u001b[49m\u001b[43m)\u001b[49m\n",
      "\u001b[0;31mTypeError\u001b[0m: pwskills1.__init__() missing 3 required positional arguments: 'phone_num', 'email_id', and 'student_id'"
     ]
    }
   ],
   "source": [
    "ram1 = pwskills1()"
   ]
  },
  {
   "cell_type": "code",
   "execution_count": 28,
   "id": "423525e9-9b35-4be0-9ea2-48438cd45b8f",
   "metadata": {},
   "outputs": [],
   "source": [
    "ram1 = pwskills1(1234567889, 'ram1@gmail.com', 101) # constructor has three values  "
   ]
  },
  {
   "cell_type": "code",
   "execution_count": 29,
   "id": "442317d0-4034-4430-b611-d486d51a1a39",
   "metadata": {},
   "outputs": [],
   "source": [
    "manohar1 = pwskills1(903027204204, 'manohar1@gmail.com', 102)"
   ]
  },
  {
   "cell_type": "code",
   "execution_count": 30,
   "id": "5d247921-9aaf-43f6-9c7f-9c375a06bded",
   "metadata": {},
   "outputs": [
    {
     "data": {
      "text/plain": [
       "1234567889"
      ]
     },
     "execution_count": 30,
     "metadata": {},
     "output_type": "execute_result"
    }
   ],
   "source": [
    "ram1.phone_num"
   ]
  },
  {
   "cell_type": "code",
   "execution_count": 31,
   "id": "0f7fdf00-a443-4513-9f64-feb631bd16e2",
   "metadata": {},
   "outputs": [
    {
     "data": {
      "text/plain": [
       "'ram1@gmail.com'"
      ]
     },
     "execution_count": 31,
     "metadata": {},
     "output_type": "execute_result"
    }
   ],
   "source": [
    "ram1.email_id"
   ]
  },
  {
   "cell_type": "code",
   "execution_count": 32,
   "id": "1ead9524-c74c-4dc7-acc3-68ff7fe5b1ad",
   "metadata": {},
   "outputs": [
    {
     "data": {
      "text/plain": [
       "101"
      ]
     },
     "execution_count": 32,
     "metadata": {},
     "output_type": "execute_result"
    }
   ],
   "source": [
    "ram1.student_id"
   ]
  },
  {
   "cell_type": "code",
   "execution_count": 33,
   "id": "ea8af2cb-35b9-4c0c-9cbd-fc99164fd846",
   "metadata": {},
   "outputs": [
    {
     "data": {
      "text/plain": [
       "(1234567889, 'ram1@gmail.com', 101)"
      ]
     },
     "execution_count": 33,
     "metadata": {},
     "output_type": "execute_result"
    }
   ],
   "source": [
    "ram1.return_student_details()"
   ]
  },
  {
   "cell_type": "code",
   "execution_count": 34,
   "id": "d5a11134-db86-4b62-8c23-48cc41201f5c",
   "metadata": {},
   "outputs": [
    {
     "data": {
      "text/plain": [
       "(903027204204, 'manohar1@gmail.com', 102)"
      ]
     },
     "execution_count": 34,
     "metadata": {},
     "output_type": "execute_result"
    }
   ],
   "source": [
    "manohar1.return_student_details()"
   ]
  },
  {
   "cell_type": "code",
   "execution_count": 35,
   "id": "03646c85-3e2c-4d18-a3b4-5092945c2eac",
   "metadata": {},
   "outputs": [],
   "source": [
    "class pwskills2 : \n",
    "    \n",
    "    def __init__(ram, phone_num, email_id, student_id) :\n",
    "        \n",
    "        ram.phone_num = phone_num\n",
    "        ram.email_id = email_id\n",
    "        ram.student_id = student_id\n",
    "        \n",
    "    def return_student_details(ram) :\n",
    "        \n",
    "        return ram.phone_num, ram.email_id, ram.student_id"
   ]
  },
  {
   "cell_type": "code",
   "execution_count": 36,
   "id": "8dc99bc2-a863-4383-8aff-3b1586ca0d9b",
   "metadata": {},
   "outputs": [],
   "source": [
    "mohan = pwskills2(9794500845, 'mohan@gmail.com', 234)"
   ]
  },
  {
   "cell_type": "code",
   "execution_count": 37,
   "id": "7c18f399-65dc-41b4-84b8-34221ad4df2f",
   "metadata": {},
   "outputs": [
    {
     "data": {
      "text/plain": [
       "9794500845"
      ]
     },
     "execution_count": 37,
     "metadata": {},
     "output_type": "execute_result"
    }
   ],
   "source": [
    "mohan.phone_num"
   ]
  },
  {
   "cell_type": "code",
   "execution_count": 38,
   "id": "ebff1348-0d1d-4642-aea0-3e02b0828196",
   "metadata": {},
   "outputs": [
    {
     "data": {
      "text/plain": [
       "(9794500845, 'mohan@gmail.com', 234)"
      ]
     },
     "execution_count": 38,
     "metadata": {},
     "output_type": "execute_result"
    }
   ],
   "source": [
    "mohan.return_student_details()"
   ]
  },
  {
   "cell_type": "code",
   "execution_count": 45,
   "id": "a322e869-93a1-4f7b-97e5-981944faf4e8",
   "metadata": {},
   "outputs": [],
   "source": [
    "class pwskills3 : \n",
    "    \n",
    "    def __init__(ram, phone_num, email_id, student_id) :\n",
    "        \n",
    "        ram.phone_num1 = phone_num\n",
    "        ram.email_id = email_id\n",
    "        ram.student_id = student_id\n",
    "        \n",
    "    def return_student_details(ram) :\n",
    "        \n",
    "        return ram.phone_num1, ram.email_id, ram.student_id"
   ]
  },
  {
   "cell_type": "code",
   "execution_count": 46,
   "id": "38645cd6-01e3-42b8-8e8d-81997892a670",
   "metadata": {},
   "outputs": [],
   "source": [
    "manohar1 = pwskills3(993254345, 'manohar1@gmail.com', 103)"
   ]
  },
  {
   "cell_type": "code",
   "execution_count": 47,
   "id": "8cce5b0d-134f-42ad-bbca-acdf9dc46c96",
   "metadata": {},
   "outputs": [
    {
     "ename": "AttributeError",
     "evalue": "'pwskills3' object has no attribute 'phone_num'",
     "output_type": "error",
     "traceback": [
      "\u001b[0;31m---------------------------------------------------------------------------\u001b[0m",
      "\u001b[0;31mAttributeError\u001b[0m                            Traceback (most recent call last)",
      "Cell \u001b[0;32mIn[47], line 1\u001b[0m\n\u001b[0;32m----> 1\u001b[0m \u001b[43mmanohar1\u001b[49m\u001b[38;5;241;43m.\u001b[39;49m\u001b[43mphone_num\u001b[49m\n",
      "\u001b[0;31mAttributeError\u001b[0m: 'pwskills3' object has no attribute 'phone_num'"
     ]
    }
   ],
   "source": [
    "manohar1.phone_num"
   ]
  },
  {
   "cell_type": "code",
   "execution_count": 48,
   "id": "61695517-06ad-4704-a0dd-3ff621f2503a",
   "metadata": {},
   "outputs": [
    {
     "data": {
      "text/plain": [
       "993254345"
      ]
     },
     "execution_count": 48,
     "metadata": {},
     "output_type": "execute_result"
    }
   ],
   "source": [
    "manohar1.phone_num1"
   ]
  },
  {
   "cell_type": "code",
   "execution_count": 49,
   "id": "7e71519c-6289-421a-a04c-2a54b9329dbe",
   "metadata": {},
   "outputs": [
    {
     "data": {
      "text/plain": [
       "(993254345, 'manohar1@gmail.com', 103)"
      ]
     },
     "execution_count": 49,
     "metadata": {},
     "output_type": "execute_result"
    }
   ],
   "source": [
    "manohar1.return_student_details()"
   ]
  },
  {
   "cell_type": "code",
   "execution_count": null,
   "id": "b70675b7-8cef-4cea-a801-2d8f8057fcbe",
   "metadata": {},
   "outputs": [],
   "source": []
  }
 ],
 "metadata": {
  "kernelspec": {
   "display_name": "Python 3 (ipykernel)",
   "language": "python",
   "name": "python3"
  },
  "language_info": {
   "codemirror_mode": {
    "name": "ipython",
    "version": 3
   },
   "file_extension": ".py",
   "mimetype": "text/x-python",
   "name": "python",
   "nbconvert_exporter": "python",
   "pygments_lexer": "ipython3",
   "version": "3.10.8"
  }
 },
 "nbformat": 4,
 "nbformat_minor": 5
}
