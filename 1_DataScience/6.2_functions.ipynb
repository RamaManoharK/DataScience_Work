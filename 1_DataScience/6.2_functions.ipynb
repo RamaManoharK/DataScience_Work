{
 "cells": [
  {
   "cell_type": "markdown",
   "id": "b11bbe72-b6ae-492c-b146-0639130012e0",
   "metadata": {},
   "source": [
    "### lambda function\n",
    "    short hand or adhoc function"
   ]
  },
  {
   "cell_type": "code",
   "execution_count": 70,
   "id": "c3716b10-4372-42a3-b6df-ab4328b6d522",
   "metadata": {},
   "outputs": [],
   "source": [
    "def test(n, p):\n",
    "    return n**p"
   ]
  },
  {
   "cell_type": "code",
   "execution_count": 71,
   "id": "787dd69a-d770-4d5c-b9dc-f702add761d9",
   "metadata": {},
   "outputs": [
    {
     "data": {
      "text/plain": [
       "9"
      ]
     },
     "execution_count": 71,
     "metadata": {},
     "output_type": "execute_result"
    }
   ],
   "source": [
    "test(3,2)"
   ]
  },
  {
   "cell_type": "code",
   "execution_count": 72,
   "id": "0a735b41-8a2a-48b8-90f2-f0fa895a1da7",
   "metadata": {},
   "outputs": [
    {
     "data": {
      "text/plain": [
       "<function __main__.<lambda>(n, p)>"
      ]
     },
     "execution_count": 72,
     "metadata": {},
     "output_type": "execute_result"
    }
   ],
   "source": [
    "lambda n, p : n**p"
   ]
  },
  {
   "cell_type": "code",
   "execution_count": 73,
   "id": "8795d009-dbc7-4356-8210-7b31f994976d",
   "metadata": {},
   "outputs": [],
   "source": [
    "a = lambda n, p : n**p"
   ]
  },
  {
   "cell_type": "code",
   "execution_count": 74,
   "id": "af63edf4-aa0e-40f9-b7e6-57d4f6642800",
   "metadata": {},
   "outputs": [
    {
     "data": {
      "text/plain": [
       "9"
      ]
     },
     "execution_count": 74,
     "metadata": {},
     "output_type": "execute_result"
    }
   ],
   "source": [
    "a(3, 2)"
   ]
  },
  {
   "cell_type": "code",
   "execution_count": 75,
   "id": "0dab5682-1edd-41d4-8e62-b987e9b94ecc",
   "metadata": {},
   "outputs": [
    {
     "data": {
      "text/plain": [
       "6561"
      ]
     },
     "execution_count": 75,
     "metadata": {},
     "output_type": "execute_result"
    }
   ],
   "source": [
    "a(9, 4)"
   ]
  },
  {
   "cell_type": "code",
   "execution_count": 76,
   "id": "bf0cc7a1-3d80-4f2d-93df-4a1b90bff041",
   "metadata": {},
   "outputs": [],
   "source": [
    "add = lambda x, y : x + y"
   ]
  },
  {
   "cell_type": "code",
   "execution_count": 77,
   "id": "635e6d95-92eb-4712-ac7f-2868b822bb68",
   "metadata": {},
   "outputs": [
    {
     "data": {
      "text/plain": [
       "4"
      ]
     },
     "execution_count": 77,
     "metadata": {},
     "output_type": "execute_result"
    }
   ],
   "source": [
    "add(1,3)"
   ]
  },
  {
   "cell_type": "code",
   "execution_count": 78,
   "id": "1cf19227-5f4c-41ef-9926-bb02f612460e",
   "metadata": {},
   "outputs": [],
   "source": [
    "c_to_f = lambda c : (9/5) *c + 32"
   ]
  },
  {
   "cell_type": "code",
   "execution_count": 79,
   "id": "9c013db3-220d-4649-b42d-fbe86dde3644",
   "metadata": {},
   "outputs": [
    {
     "data": {
      "text/plain": [
       "89.6"
      ]
     },
     "execution_count": 79,
     "metadata": {},
     "output_type": "execute_result"
    }
   ],
   "source": [
    "c_to_f(32)"
   ]
  },
  {
   "cell_type": "code",
   "execution_count": 80,
   "id": "d08b9bad-6de1-4969-9801-77ce1eaf8c3c",
   "metadata": {},
   "outputs": [],
   "source": [
    "len_str = lambda s : len(s)"
   ]
  },
  {
   "cell_type": "code",
   "execution_count": 81,
   "id": "5c4deee5-50e5-485f-8118-dbea70ef8550",
   "metadata": {},
   "outputs": [],
   "source": [
    "str1 = \"RamaManohar\""
   ]
  },
  {
   "cell_type": "code",
   "execution_count": 82,
   "id": "e923e34f-b749-49d1-ba96-de1d44622f2c",
   "metadata": {},
   "outputs": [
    {
     "data": {
      "text/plain": [
       "11"
      ]
     },
     "execution_count": 82,
     "metadata": {},
     "output_type": "execute_result"
    }
   ],
   "source": [
    "len_str(str1)"
   ]
  },
  {
   "cell_type": "markdown",
   "id": "09c4894e-d023-4ec0-a764-d448210a8666",
   "metadata": {},
   "source": [
    "### Map, Reduce, Filter\n",
    "    map - applies a function to an each element in a list and returns a list of the results.\n",
    "    reduce - applies a function cumulatively to elements of an iterable from left to right\n",
    "    filter - eturns a filtered list of elements that satisfy a coindition"
   ]
  },
  {
   "cell_type": "code",
   "execution_count": 83,
   "id": "64492736-844f-47b9-ba67-3e2b5722a2fc",
   "metadata": {},
   "outputs": [],
   "source": [
    "l = [1,2,3,4,5,6,7,8,9]"
   ]
  },
  {
   "cell_type": "code",
   "execution_count": 84,
   "id": "62922227-7ce0-4843-8a63-fa30ceed82bc",
   "metadata": {},
   "outputs": [],
   "source": [
    "def test1(l):\n",
    "    ls=[]\n",
    "    for i in l:\n",
    "        ls.append(i**2)\n",
    "    return ls"
   ]
  },
  {
   "cell_type": "code",
   "execution_count": 85,
   "id": "4c3fbccb-764b-4394-981c-1c96ed507d4c",
   "metadata": {},
   "outputs": [
    {
     "data": {
      "text/plain": [
       "[1, 4, 9, 16, 25, 36, 49, 64, 81]"
      ]
     },
     "execution_count": 85,
     "metadata": {},
     "output_type": "execute_result"
    }
   ],
   "source": [
    "test1(l)"
   ]
  },
  {
   "cell_type": "code",
   "execution_count": 86,
   "id": "4f2ddd79-1b9d-4d72-bd77-ccf61474e515",
   "metadata": {},
   "outputs": [],
   "source": [
    "def sq(x):\n",
    "    return x**2"
   ]
  },
  {
   "cell_type": "code",
   "execution_count": 87,
   "id": "7206664d-fab3-4937-b53e-4d2eb50f6552",
   "metadata": {},
   "outputs": [
    {
     "data": {
      "text/plain": [
       "<map at 0x7f80545a09a0>"
      ]
     },
     "execution_count": 87,
     "metadata": {},
     "output_type": "execute_result"
    }
   ],
   "source": [
    "map(sq, l) # applies a function to an each element in a list and returns a list of the results."
   ]
  },
  {
   "cell_type": "code",
   "execution_count": 88,
   "id": "43fd14df-5954-46d6-85c7-ea9786d9ca53",
   "metadata": {},
   "outputs": [
    {
     "data": {
      "text/plain": [
       "[1, 4, 9, 16, 25, 36, 49, 64, 81]"
      ]
     },
     "execution_count": 88,
     "metadata": {},
     "output_type": "execute_result"
    }
   ],
   "source": [
    "list(map(sq, l))"
   ]
  },
  {
   "cell_type": "code",
   "execution_count": 89,
   "id": "38fb0086-5695-4cfb-8936-111d3f84ebf6",
   "metadata": {},
   "outputs": [
    {
     "data": {
      "text/plain": [
       "[1, 4, 9, 16, 25, 36, 49, 64, 81]"
      ]
     },
     "execution_count": 89,
     "metadata": {},
     "output_type": "execute_result"
    }
   ],
   "source": [
    "list(map(lambda x : x**2, l))"
   ]
  },
  {
   "cell_type": "code",
   "execution_count": 90,
   "id": "68fa51c0-8e27-4928-ada2-1099f8f86d71",
   "metadata": {},
   "outputs": [
    {
     "data": {
      "text/plain": [
       "[3, 4, 5, 6, 7, 8, 9, 10, 11]"
      ]
     },
     "execution_count": 90,
     "metadata": {},
     "output_type": "execute_result"
    }
   ],
   "source": [
    "list(map(lambda x : x+2, l))"
   ]
  },
  {
   "cell_type": "code",
   "execution_count": 91,
   "id": "27b80cf0-9e20-4ff9-b10c-c5b41b39a133",
   "metadata": {},
   "outputs": [
    {
     "ename": "TypeError",
     "evalue": "'str' object is not callable",
     "output_type": "error",
     "traceback": [
      "\u001b[0;31m---------------------------------------------------------------------------\u001b[0m",
      "\u001b[0;31mTypeError\u001b[0m                                 Traceback (most recent call last)",
      "Cell \u001b[0;32mIn[91], line 1\u001b[0m\n\u001b[0;32m----> 1\u001b[0m \u001b[38;5;28;43mlist\u001b[39;49m\u001b[43m(\u001b[49m\u001b[38;5;28;43mmap\u001b[39;49m\u001b[43m(\u001b[49m\u001b[38;5;28;43;01mlambda\u001b[39;49;00m\u001b[43m \u001b[49m\u001b[43ms\u001b[49m\u001b[43m \u001b[49m\u001b[43m:\u001b[49m\u001b[43m \u001b[49m\u001b[38;5;28;43mstr\u001b[39;49m\u001b[43m(\u001b[49m\u001b[43ms\u001b[49m\u001b[43m)\u001b[49m\u001b[43m,\u001b[49m\u001b[43m \u001b[49m\u001b[43ml\u001b[49m\u001b[43m)\u001b[49m\u001b[43m)\u001b[49m\n",
      "Cell \u001b[0;32mIn[91], line 1\u001b[0m, in \u001b[0;36m<lambda>\u001b[0;34m(s)\u001b[0m\n\u001b[0;32m----> 1\u001b[0m \u001b[38;5;28mlist\u001b[39m(\u001b[38;5;28mmap\u001b[39m(\u001b[38;5;28;01mlambda\u001b[39;00m s : \u001b[38;5;28;43mstr\u001b[39;49m\u001b[43m(\u001b[49m\u001b[43ms\u001b[49m\u001b[43m)\u001b[49m, l))\n",
      "\u001b[0;31mTypeError\u001b[0m: 'str' object is not callable"
     ]
    }
   ],
   "source": [
    "list(map(lambda s : str(s), l))"
   ]
  },
  {
   "cell_type": "code",
   "execution_count": 94,
   "id": "63c6b337-4af7-492a-805f-2f81b04e8f18",
   "metadata": {},
   "outputs": [],
   "source": [
    "l1 = [1,2,3,4,5]\n",
    "l2 = [6,7,8,9,10]"
   ]
  },
  {
   "cell_type": "code",
   "execution_count": 95,
   "id": "a8aa60f1-43c6-42ae-8553-dd1431a33904",
   "metadata": {},
   "outputs": [
    {
     "data": {
      "text/plain": [
       "[7, 9, 11, 13, 15]"
      ]
     },
     "execution_count": 95,
     "metadata": {},
     "output_type": "execute_result"
    }
   ],
   "source": [
    "list(map(lambda x, y : x+y, l1,l2))"
   ]
  },
  {
   "cell_type": "code",
   "execution_count": 96,
   "id": "b2a53075-04b7-4896-986f-4d60174f972c",
   "metadata": {},
   "outputs": [],
   "source": [
    "f = lambda x, y : x+y"
   ]
  },
  {
   "cell_type": "code",
   "execution_count": 97,
   "id": "347f80b2-8462-4d34-aef0-b6af5658a7bb",
   "metadata": {},
   "outputs": [
    {
     "data": {
      "text/plain": [
       "[7, 9, 11, 13, 15]"
      ]
     },
     "execution_count": 97,
     "metadata": {},
     "output_type": "execute_result"
    }
   ],
   "source": [
    "list(map(f, l1, l2))"
   ]
  },
  {
   "cell_type": "code",
   "execution_count": 98,
   "id": "c6832dcc-fd2a-4171-8347-dfbafae42363",
   "metadata": {},
   "outputs": [],
   "source": [
    "s = 'RamManohar'"
   ]
  },
  {
   "cell_type": "code",
   "execution_count": 99,
   "id": "adb7d4a0-7914-457c-af7e-307b05402003",
   "metadata": {},
   "outputs": [
    {
     "data": {
      "text/plain": [
       "['R', 'A', 'M', 'M', 'A', 'N', 'O', 'H', 'A', 'R']"
      ]
     },
     "execution_count": 99,
     "metadata": {},
     "output_type": "execute_result"
    }
   ],
   "source": [
    "list(map(lambda x : x.upper(), s))"
   ]
  },
  {
   "cell_type": "code",
   "execution_count": 100,
   "id": "6e873c60-8351-4cd7-b10c-807d0ecade93",
   "metadata": {},
   "outputs": [],
   "source": [
    "from functools import reduce"
   ]
  },
  {
   "cell_type": "code",
   "execution_count": 101,
   "id": "f9600638-b48c-46c9-9aad-138c233235b8",
   "metadata": {},
   "outputs": [],
   "source": [
    "l = [1,2,3,4,5,5,6]"
   ]
  },
  {
   "cell_type": "code",
   "execution_count": 103,
   "id": "748459ca-8ccd-4b86-8566-22d69949ad78",
   "metadata": {},
   "outputs": [
    {
     "data": {
      "text/plain": [
       "26"
      ]
     },
     "execution_count": 103,
     "metadata": {},
     "output_type": "execute_result"
    }
   ],
   "source": [
    "reduce(lambda x, y : x+y, l) # applies a function cumulatively to elements of an iterable from left to right"
   ]
  },
  {
   "cell_type": "code",
   "execution_count": 104,
   "id": "135c99f3-654a-4129-91b7-aabd134bf733",
   "metadata": {},
   "outputs": [],
   "source": [
    "def add(x, y):\n",
    "    return x+y"
   ]
  },
  {
   "cell_type": "code",
   "execution_count": 105,
   "id": "e06ff189-2010-4fe3-9d9d-047f8a7cb8f5",
   "metadata": {},
   "outputs": [
    {
     "data": {
      "text/plain": [
       "26"
      ]
     },
     "execution_count": 105,
     "metadata": {},
     "output_type": "execute_result"
    }
   ],
   "source": [
    "reduce(add, l)"
   ]
  },
  {
   "cell_type": "code",
   "execution_count": 106,
   "id": "9b1c2763-097d-45b7-9cf5-57007a3240fd",
   "metadata": {},
   "outputs": [
    {
     "ename": "TypeError",
     "evalue": "<lambda>() missing 1 required positional argument: 'z'",
     "output_type": "error",
     "traceback": [
      "\u001b[0;31m---------------------------------------------------------------------------\u001b[0m",
      "\u001b[0;31mTypeError\u001b[0m                                 Traceback (most recent call last)",
      "Cell \u001b[0;32mIn[106], line 1\u001b[0m\n\u001b[0;32m----> 1\u001b[0m \u001b[43mreduce\u001b[49m\u001b[43m(\u001b[49m\u001b[38;5;28;43;01mlambda\u001b[39;49;00m\u001b[43m \u001b[49m\u001b[43mx\u001b[49m\u001b[43m,\u001b[49m\u001b[43m \u001b[49m\u001b[43my\u001b[49m\u001b[43m,\u001b[49m\u001b[43m \u001b[49m\u001b[43mz\u001b[49m\u001b[43m \u001b[49m\u001b[43m:\u001b[49m\u001b[43m \u001b[49m\u001b[43mx\u001b[49m\u001b[38;5;241;43m+\u001b[39;49m\u001b[43my\u001b[49m\u001b[38;5;241;43m+\u001b[39;49m\u001b[43mz\u001b[49m\u001b[43m,\u001b[49m\u001b[43m \u001b[49m\u001b[43ml\u001b[49m\u001b[43m)\u001b[49m\n",
      "\u001b[0;31mTypeError\u001b[0m: <lambda>() missing 1 required positional argument: 'z'"
     ]
    }
   ],
   "source": [
    "reduce(lambda x, y, z : x+y+z, l)\n"
   ]
  },
  {
   "cell_type": "code",
   "execution_count": 107,
   "id": "47257cee-d9f9-4216-a81a-ac69b8e8e432",
   "metadata": {},
   "outputs": [
    {
     "ename": "TypeError",
     "evalue": "reduce() of empty iterable with no initial value",
     "output_type": "error",
     "traceback": [
      "\u001b[0;31m---------------------------------------------------------------------------\u001b[0m",
      "\u001b[0;31mTypeError\u001b[0m                                 Traceback (most recent call last)",
      "Cell \u001b[0;32mIn[107], line 1\u001b[0m\n\u001b[0;32m----> 1\u001b[0m \u001b[43mreduce\u001b[49m\u001b[43m(\u001b[49m\u001b[38;5;28;43;01mlambda\u001b[39;49;00m\u001b[43m \u001b[49m\u001b[43mx\u001b[49m\u001b[43m,\u001b[49m\u001b[43m \u001b[49m\u001b[43my\u001b[49m\u001b[43m:\u001b[49m\u001b[43m \u001b[49m\u001b[43mx\u001b[49m\u001b[38;5;241;43m+\u001b[39;49m\u001b[43my\u001b[49m\u001b[43m,\u001b[49m\u001b[43m \u001b[49m\u001b[43m[\u001b[49m\u001b[43m]\u001b[49m\u001b[43m)\u001b[49m\n",
      "\u001b[0;31mTypeError\u001b[0m: reduce() of empty iterable with no initial value"
     ]
    }
   ],
   "source": [
    "reduce(lambda x, y: x+y, [])"
   ]
  },
  {
   "cell_type": "code",
   "execution_count": 108,
   "id": "ba455b65-967d-4d0c-a1f2-d1ccc2c230a6",
   "metadata": {},
   "outputs": [
    {
     "data": {
      "text/plain": [
       "1"
      ]
     },
     "execution_count": 108,
     "metadata": {},
     "output_type": "execute_result"
    }
   ],
   "source": [
    "reduce(lambda x, y : x+y, [1]) #exceptinal case"
   ]
  },
  {
   "cell_type": "code",
   "execution_count": 109,
   "id": "036acae1-0259-4bc6-adee-fb2e7a476602",
   "metadata": {},
   "outputs": [
    {
     "data": {
      "text/plain": [
       "1"
      ]
     },
     "execution_count": 109,
     "metadata": {},
     "output_type": "execute_result"
    }
   ],
   "source": [
    "reduce(lambda x, y : x*y, [1])"
   ]
  },
  {
   "cell_type": "code",
   "execution_count": 110,
   "id": "9af86be4-9b71-4959-9171-208dfe4b52c8",
   "metadata": {},
   "outputs": [
    {
     "data": {
      "text/plain": [
       "[1, 2, 3, 4, 5, 5, 6]"
      ]
     },
     "execution_count": 110,
     "metadata": {},
     "output_type": "execute_result"
    }
   ],
   "source": [
    "l"
   ]
  },
  {
   "cell_type": "code",
   "execution_count": 111,
   "id": "d28c70a8-8221-481f-af62-f4b986d98f03",
   "metadata": {},
   "outputs": [
    {
     "data": {
      "text/plain": [
       "6"
      ]
     },
     "execution_count": 111,
     "metadata": {},
     "output_type": "execute_result"
    }
   ],
   "source": [
    "reduce(lambda x, y : x if x>y else y, l)"
   ]
  },
  {
   "cell_type": "code",
   "execution_count": 112,
   "id": "541e44b3-0a4d-479f-8fea-a3ebb11b9b8e",
   "metadata": {},
   "outputs": [
    {
     "data": {
      "text/plain": [
       "[1, 2, 3, 4, 5, 5, 6]"
      ]
     },
     "execution_count": 112,
     "metadata": {},
     "output_type": "execute_result"
    }
   ],
   "source": [
    "l"
   ]
  },
  {
   "cell_type": "code",
   "execution_count": 114,
   "id": "e63fef19-c928-46dd-af31-607f7360782e",
   "metadata": {},
   "outputs": [
    {
     "data": {
      "text/plain": [
       "<filter at 0x7f803363e830>"
      ]
     },
     "execution_count": 114,
     "metadata": {},
     "output_type": "execute_result"
    }
   ],
   "source": [
    "filter(lambda x : x%2 ==0, l) # returns a filtered list of elements that satisfy a coindition"
   ]
  },
  {
   "cell_type": "code",
   "execution_count": 115,
   "id": "70f4c47f-c45d-4898-9123-4275929c20e5",
   "metadata": {},
   "outputs": [
    {
     "data": {
      "text/plain": [
       "[2, 4, 6]"
      ]
     },
     "execution_count": 115,
     "metadata": {},
     "output_type": "execute_result"
    }
   ],
   "source": [
    "list(filter(lambda x : x%2 ==0, l))"
   ]
  },
  {
   "cell_type": "code",
   "execution_count": 117,
   "id": "f4f22238-f97e-408e-a42b-80f14f5c6cfc",
   "metadata": {},
   "outputs": [
    {
     "data": {
      "text/plain": [
       "[1, 3, 5, 5]"
      ]
     },
     "execution_count": 117,
     "metadata": {},
     "output_type": "execute_result"
    }
   ],
   "source": [
    "list(filter(lambda x : x%2 !=0, l))"
   ]
  },
  {
   "cell_type": "code",
   "execution_count": 118,
   "id": "2d85578b-831c-421a-a2b9-66a6bd90ddb9",
   "metadata": {},
   "outputs": [],
   "source": [
    "l1 = [-2,-3, 0, 2, 6, 5]"
   ]
  },
  {
   "cell_type": "code",
   "execution_count": 119,
   "id": "609c294e-2e50-4ec9-9e9d-82be1f806cbd",
   "metadata": {},
   "outputs": [
    {
     "data": {
      "text/plain": [
       "<filter at 0x7f803363dbd0>"
      ]
     },
     "execution_count": 119,
     "metadata": {},
     "output_type": "execute_result"
    }
   ],
   "source": [
    "filter(lambda x : x < 0, l1)"
   ]
  },
  {
   "cell_type": "code",
   "execution_count": 120,
   "id": "c385749e-40f8-48a4-95e2-7126b63b7761",
   "metadata": {},
   "outputs": [
    {
     "data": {
      "text/plain": [
       "[-2, -3]"
      ]
     },
     "execution_count": 120,
     "metadata": {},
     "output_type": "execute_result"
    }
   ],
   "source": [
    "list(filter(lambda x : x < 0, l1))"
   ]
  },
  {
   "cell_type": "code",
   "execution_count": 121,
   "id": "87340147-db9c-42a7-98d8-6bd58abbeb27",
   "metadata": {},
   "outputs": [],
   "source": [
    "l2 = ['ram', 'datascience', 'python', 'bengaluru']"
   ]
  },
  {
   "cell_type": "code",
   "execution_count": 122,
   "id": "d5296c6d-bce2-4ac5-9ce6-a557457a2573",
   "metadata": {},
   "outputs": [
    {
     "data": {
      "text/plain": [
       "['ram']"
      ]
     },
     "execution_count": 122,
     "metadata": {},
     "output_type": "execute_result"
    }
   ],
   "source": [
    "list(filter(lambda x : len(x) < 6, l2))"
   ]
  },
  {
   "cell_type": "code",
   "execution_count": null,
   "id": "652f2456-5a00-4e90-b5c8-23c625da458e",
   "metadata": {},
   "outputs": [],
   "source": []
  }
 ],
 "metadata": {
  "kernelspec": {
   "display_name": "Python 3 (ipykernel)",
   "language": "python",
   "name": "python3"
  },
  "language_info": {
   "codemirror_mode": {
    "name": "ipython",
    "version": 3
   },
   "file_extension": ".py",
   "mimetype": "text/x-python",
   "name": "python",
   "nbconvert_exporter": "python",
   "pygments_lexer": "ipython3",
   "version": "3.10.8"
  }
 },
 "nbformat": 4,
 "nbformat_minor": 5
}
