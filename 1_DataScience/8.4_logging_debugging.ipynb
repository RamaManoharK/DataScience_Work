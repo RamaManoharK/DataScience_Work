{
 "cells": [
  {
   "cell_type": "code",
   "execution_count": 1,
   "id": "a162e3aa-55b5-4806-96be-c5b18df2c431",
   "metadata": {},
   "outputs": [
    {
     "name": "stdout",
     "output_type": "stream",
     "text": [
      "this is print statement\n"
     ]
    }
   ],
   "source": [
    "print(\"this is print statement\")"
   ]
  },
  {
   "cell_type": "code",
   "execution_count": 2,
   "id": "9f128f5e-5354-422d-bf2f-f012488444e6",
   "metadata": {},
   "outputs": [],
   "source": [
    "# logging : to store the data even after program shutdown"
   ]
  },
  {
   "cell_type": "code",
   "execution_count": 1,
   "id": "86996d81-ab0f-4699-869b-1f9dc838950a",
   "metadata": {},
   "outputs": [],
   "source": [
    "import logging"
   ]
  },
  {
   "cell_type": "code",
   "execution_count": 4,
   "id": "2504a146-8b0b-4c10-85ec-59d76f031290",
   "metadata": {},
   "outputs": [],
   "source": [
    "logging.basicConfig(filename = 'test.log', level = logging.INFO)"
   ]
  },
  {
   "cell_type": "code",
   "execution_count": 5,
   "id": "2ba28ff1-18b8-4d56-84a7-b05a5a252249",
   "metadata": {},
   "outputs": [],
   "source": [
    "logging.info(\"this is my line of execution\") # logging data as information"
   ]
  },
  {
   "cell_type": "code",
   "execution_count": 6,
   "id": "6fb6fe95-a665-45bf-9bcf-5979f33d3d0f",
   "metadata": {},
   "outputs": [],
   "source": [
    "logging.error(\"this is the error\")"
   ]
  },
  {
   "cell_type": "code",
   "execution_count": 7,
   "id": "c73924ac-52bc-4b36-87ae-18bbf30a7bb2",
   "metadata": {},
   "outputs": [],
   "source": [
    "logging.critical(\"this is critical error\")"
   ]
  },
  {
   "cell_type": "code",
   "execution_count": 8,
   "id": "8bc1a91a-84fb-48af-8ff0-2f17e7646d13",
   "metadata": {},
   "outputs": [],
   "source": [
    "logging.warning(\"this is warning msg\")"
   ]
  },
  {
   "cell_type": "code",
   "execution_count": 9,
   "id": "c5711c6d-2c6e-45ac-a3a5-d3f90696d9f8",
   "metadata": {},
   "outputs": [],
   "source": [
    "logging.debug(\"this is debug msg\") # will not be added since debug hierarchy is above INFO"
   ]
  },
  {
   "cell_type": "code",
   "execution_count": 10,
   "id": "52a810bb-0df9-40bd-90b6-7f23ec2b0824",
   "metadata": {},
   "outputs": [],
   "source": [
    "logging.shutdown() # close the logging"
   ]
  },
  {
   "cell_type": "code",
   "execution_count": 11,
   "id": "864a6ae8-a332-4de6-9da2-1a619b5b95c0",
   "metadata": {},
   "outputs": [
    {
     "ename": "SyntaxError",
     "evalue": "invalid syntax (622501344.py, line 5)",
     "output_type": "error",
     "traceback": [
      "\u001b[0;36m  Cell \u001b[0;32mIn[11], line 5\u001b[0;36m\u001b[0m\n\u001b[0;31m    1. NOSET # depricated in the latest version of python\u001b[0m\n\u001b[0m       ^\u001b[0m\n\u001b[0;31mSyntaxError\u001b[0m\u001b[0;31m:\u001b[0m invalid syntax\n"
     ]
    }
   ],
   "source": [
    "# logging hierarchy\n",
    "# level indicates the hiereachy. \n",
    "# whatever above the hierarchy will not be added to that log file\n",
    "\n",
    "1. NOSET # depricated in the latest version of python\n",
    "2. DEBUG\n",
    "3. INFO\n",
    "4. WARNING\n",
    "5. ERROR\n",
    "6. CRITICAL"
   ]
  },
  {
   "cell_type": "code",
   "execution_count": 2,
   "id": "9fecfa49-4567-4d24-b0f3-32fc83754662",
   "metadata": {},
   "outputs": [],
   "source": [
    "logging.basicConfig(filename = 'test1.log', level = logging.DEBUG, format = '%(asctime)s %(message)s')"
   ]
  },
  {
   "cell_type": "code",
   "execution_count": 3,
   "id": "0d972ebc-4c3e-4c19-ac6a-05e602afacf3",
   "metadata": {},
   "outputs": [],
   "source": [
    "logging.info('this is my info log')"
   ]
  },
  {
   "cell_type": "code",
   "execution_count": 4,
   "id": "658b40d1-c504-45aa-ad6a-87570d67376f",
   "metadata": {},
   "outputs": [],
   "source": [
    "logging.debug('this is my debug log')"
   ]
  },
  {
   "cell_type": "code",
   "execution_count": 5,
   "id": "f40c6c0f-f97c-487a-89c1-1030a98ae10a",
   "metadata": {},
   "outputs": [],
   "source": [
    "logging.debug('this is my warning log')"
   ]
  },
  {
   "cell_type": "code",
   "execution_count": 6,
   "id": "4bd4755e-4554-46e4-93b8-4434b78c07a4",
   "metadata": {},
   "outputs": [],
   "source": [
    "logging.shutdown()"
   ]
  },
  {
   "cell_type": "code",
   "execution_count": 2,
   "id": "cb82d4d2-fc99-4406-865e-e10ca55c8f09",
   "metadata": {},
   "outputs": [],
   "source": [
    "logging.basicConfig(filename = 'test7.log', level = logging.DEBUG, format = '%(asctime)s %(name)s %(levelname)s %(message)s')"
   ]
  },
  {
   "cell_type": "code",
   "execution_count": 3,
   "id": "5b45f6f8-c885-4744-a2a4-98faacc43865",
   "metadata": {},
   "outputs": [],
   "source": [
    "logging.info(\"this is my info log\")"
   ]
  },
  {
   "cell_type": "code",
   "execution_count": 4,
   "id": "2157a90c-8e55-4082-be56-a0acf7d29918",
   "metadata": {},
   "outputs": [],
   "source": [
    "ls = [1,2,3,4,[4,5,6], 'rama', 'manohar']"
   ]
  },
  {
   "cell_type": "code",
   "execution_count": 14,
   "id": "b94c7f36-b84c-4aa0-8f59-d4d50a65b5d3",
   "metadata": {},
   "outputs": [],
   "source": [
    "ls_int = []\n",
    "ls_str = []\n",
    "for i in ls:\n",
    "    logging.info(\"this is start of my for loop {}\".format(ls))\n",
    "    logging.info(\"this is the value of i logging {}\".format(i))\n",
    "    if type(i) == list :\n",
    "        for j in i :\n",
    "            logging.info(\"logging j {j} amd i {i}\".format(i = i, j = j))\n",
    "            if type(j) ==  int : \n",
    "                ls_int.append(j)\n",
    "    elif type(i) ==int : \n",
    "        ls_int.append(i)\n",
    "    \n",
    "    else : \n",
    "        if type(i) == str : \n",
    "            ls_str.append(i)\n",
    "logging.info(\"final result with all int {ls_int}, with all str{ls_str}\".format(ls_int = ls_int, ls_str = ls_str))"
   ]
  },
  {
   "cell_type": "code",
   "execution_count": 15,
   "id": "f55a3d83-a60a-4518-9a55-6f9d60e19c46",
   "metadata": {},
   "outputs": [
    {
     "data": {
      "text/plain": [
       "[1, 2, 3, 4, 4, 5, 6]"
      ]
     },
     "execution_count": 15,
     "metadata": {},
     "output_type": "execute_result"
    }
   ],
   "source": [
    "ls_int"
   ]
  },
  {
   "cell_type": "code",
   "execution_count": 16,
   "id": "fe93293d-f2e6-41f9-b89d-9f79f5a03ea5",
   "metadata": {},
   "outputs": [
    {
     "data": {
      "text/plain": [
       "['rama', 'manohar']"
      ]
     },
     "execution_count": 16,
     "metadata": {},
     "output_type": "execute_result"
    }
   ],
   "source": [
    "ls_str"
   ]
  },
  {
   "cell_type": "code",
   "execution_count": null,
   "id": "5ce87503-0589-4289-b687-58f9c1792930",
   "metadata": {},
   "outputs": [],
   "source": []
  },
  {
   "cell_type": "code",
   "execution_count": null,
   "id": "bee0228c-d1ac-4087-a264-fcfd41778aba",
   "metadata": {},
   "outputs": [],
   "source": []
  }
 ],
 "metadata": {
  "kernelspec": {
   "display_name": "Python 3 (ipykernel)",
   "language": "python",
   "name": "python3"
  },
  "language_info": {
   "codemirror_mode": {
    "name": "ipython",
    "version": 3
   },
   "file_extension": ".py",
   "mimetype": "text/x-python",
   "name": "python",
   "nbconvert_exporter": "python",
   "pygments_lexer": "ipython3",
   "version": "3.10.8"
  }
 },
 "nbformat": 4,
 "nbformat_minor": 5
}
