{
 "cells": [
  {
   "cell_type": "code",
   "execution_count": 32,
   "id": "cca488a3-378f-4dc1-b80e-59c8c2e0076e",
   "metadata": {},
   "outputs": [],
   "source": [
    "class test : \n",
    "    \n",
    "    def __init__(self, a, b) :\n",
    "        self.a = a\n",
    "        self.b = b"
   ]
  },
  {
   "cell_type": "code",
   "execution_count": 33,
   "id": "d911a071-a8fd-4115-9bc0-fcbd88eeb06a",
   "metadata": {},
   "outputs": [],
   "source": [
    "t = test(45, 56)"
   ]
  },
  {
   "cell_type": "code",
   "execution_count": 34,
   "id": "3e8a2812-ed3b-4a59-9490-6c2162dded10",
   "metadata": {},
   "outputs": [
    {
     "data": {
      "text/plain": [
       "45"
      ]
     },
     "execution_count": 34,
     "metadata": {},
     "output_type": "execute_result"
    }
   ],
   "source": [
    "t.a"
   ]
  },
  {
   "cell_type": "code",
   "execution_count": 35,
   "id": "366ee21f-556f-4ee4-b756-ddfea63ccf05",
   "metadata": {},
   "outputs": [
    {
     "data": {
      "text/plain": [
       "56"
      ]
     },
     "execution_count": 35,
     "metadata": {},
     "output_type": "execute_result"
    }
   ],
   "source": [
    "t.b"
   ]
  },
  {
   "cell_type": "code",
   "execution_count": 36,
   "id": "2ac1d823-a885-430c-84c3-0b34fe664fab",
   "metadata": {},
   "outputs": [],
   "source": [
    "t.a = 34 # new value assigned"
   ]
  },
  {
   "cell_type": "code",
   "execution_count": 37,
   "id": "f610b05e-6fb8-49e4-9268-0e3c703020d7",
   "metadata": {},
   "outputs": [
    {
     "data": {
      "text/plain": [
       "34"
      ]
     },
     "execution_count": 37,
     "metadata": {},
     "output_type": "execute_result"
    }
   ],
   "source": [
    "t.a"
   ]
  },
  {
   "cell_type": "code",
   "execution_count": 38,
   "id": "1f66ef3a-8df2-4b54-80c7-7bad4047c764",
   "metadata": {},
   "outputs": [],
   "source": [
    "class car : \n",
    "    \n",
    "    def __init__(self, year, make, model, speed):\n",
    "        self.__year = year # private variable\n",
    "        self.__make = make\n",
    "        self.__model = model\n",
    "        self.__speed = speed\n",
    "        \n",
    "    def set_speed(self, speed):\n",
    "        self.__speed = 0 if speed < 0 else speed\n",
    "        \n",
    "    def get_speed(self):\n",
    "        return self.__speed"
   ]
  },
  {
   "cell_type": "code",
   "execution_count": 39,
   "id": "f2226232-20a6-468b-a2db-244230a51f3a",
   "metadata": {},
   "outputs": [],
   "source": [
    "obj_car = car(2021, 'Toyota', 'Innova', 12)"
   ]
  },
  {
   "cell_type": "code",
   "execution_count": 40,
   "id": "f946dacd-b382-4dc1-9775-8e2957a1d5d9",
   "metadata": {},
   "outputs": [
    {
     "ename": "AttributeError",
     "evalue": "'car' object has no attribute '__year'",
     "output_type": "error",
     "traceback": [
      "\u001b[0;31m---------------------------------------------------------------------------\u001b[0m",
      "\u001b[0;31mAttributeError\u001b[0m                            Traceback (most recent call last)",
      "Cell \u001b[0;32mIn[40], line 1\u001b[0m\n\u001b[0;32m----> 1\u001b[0m \u001b[43mobj_car\u001b[49m\u001b[38;5;241;43m.\u001b[39;49m\u001b[43m__year\u001b[49m\n",
      "\u001b[0;31mAttributeError\u001b[0m: 'car' object has no attribute '__year'"
     ]
    }
   ],
   "source": [
    "obj_car.__year"
   ]
  },
  {
   "cell_type": "code",
   "execution_count": 41,
   "id": "0952e64a-f4be-41ee-80b8-d30d892735ac",
   "metadata": {},
   "outputs": [
    {
     "data": {
      "text/plain": [
       "2021"
      ]
     },
     "execution_count": 41,
     "metadata": {},
     "output_type": "execute_result"
    }
   ],
   "source": [
    "obj_car._car__year"
   ]
  },
  {
   "cell_type": "code",
   "execution_count": 42,
   "id": "ccac252a-3e09-4f28-8594-e93da09105ff",
   "metadata": {},
   "outputs": [],
   "source": [
    "obj_car._car__year = 2023"
   ]
  },
  {
   "cell_type": "code",
   "execution_count": 43,
   "id": "f78c34ec-7974-4082-a3c2-0702919855e4",
   "metadata": {},
   "outputs": [
    {
     "data": {
      "text/plain": [
       "2023"
      ]
     },
     "execution_count": 43,
     "metadata": {},
     "output_type": "execute_result"
    }
   ],
   "source": [
    "obj_car._car__year"
   ]
  },
  {
   "cell_type": "code",
   "execution_count": 44,
   "id": "935325fd-e952-4669-9e0b-d9cb345a65a0",
   "metadata": {},
   "outputs": [],
   "source": [
    "obj_car.set_speed(-1234)"
   ]
  },
  {
   "cell_type": "code",
   "execution_count": 45,
   "id": "50d1031c-33dc-4331-a630-9b070b7021c1",
   "metadata": {},
   "outputs": [
    {
     "data": {
      "text/plain": [
       "0"
      ]
     },
     "execution_count": 45,
     "metadata": {},
     "output_type": "execute_result"
    }
   ],
   "source": [
    "obj_car._car__speed"
   ]
  },
  {
   "cell_type": "code",
   "execution_count": 46,
   "id": "e3af7032-672e-4afe-97aa-22d179b4459e",
   "metadata": {},
   "outputs": [],
   "source": [
    "obj_car.set_speed(234)"
   ]
  },
  {
   "cell_type": "code",
   "execution_count": 47,
   "id": "eeb8ea1b-becc-4edc-bd56-3f1bff11dd20",
   "metadata": {},
   "outputs": [
    {
     "data": {
      "text/plain": [
       "234"
      ]
     },
     "execution_count": 47,
     "metadata": {},
     "output_type": "execute_result"
    }
   ],
   "source": [
    "obj_car._car__speed"
   ]
  },
  {
   "cell_type": "code",
   "execution_count": 48,
   "id": "fdbe21fa-aafe-40ca-8bb3-d6508bf34bc3",
   "metadata": {},
   "outputs": [
    {
     "data": {
      "text/plain": [
       "234"
      ]
     },
     "execution_count": 48,
     "metadata": {},
     "output_type": "execute_result"
    }
   ],
   "source": [
    "obj_car.get_speed()"
   ]
  },
  {
   "cell_type": "code",
   "execution_count": 53,
   "id": "e908450d-4c59-4143-9263-39e045aa6b84",
   "metadata": {},
   "outputs": [],
   "source": [
    "class bank_account : \n",
    "    \n",
    "    def __init__(self, balance) : \n",
    "        self.__balance = balance\n",
    "        \n",
    "    def deposit(self, amount):\n",
    "        self.__balance += amount\n",
    "    \n",
    "    def with_drawl(self, amount):\n",
    "        if self.__balance >= amount:\n",
    "            self._balance -= amount\n",
    "            return True\n",
    "        \n",
    "        else :\n",
    "            \n",
    "            return False\n",
    "    \n",
    "    def get_balance(self) : \n",
    "        return self.__balance"
   ]
  },
  {
   "cell_type": "code",
   "execution_count": 54,
   "id": "4acd9403-1bb2-422b-a34c-44695d1f51a3",
   "metadata": {},
   "outputs": [],
   "source": [
    "obj_bank_account = bank_account(1000)"
   ]
  },
  {
   "cell_type": "code",
   "execution_count": 56,
   "id": "3c5e7cf7-68ad-42db-ad5e-a6d8f02dcfdb",
   "metadata": {},
   "outputs": [
    {
     "data": {
      "text/plain": [
       "1000"
      ]
     },
     "execution_count": 56,
     "metadata": {},
     "output_type": "execute_result"
    }
   ],
   "source": [
    "obj_bank_account.get_balance()"
   ]
  },
  {
   "cell_type": "code",
   "execution_count": 57,
   "id": "f54de5eb-ce8d-48b0-ab93-6e5fd1b5e150",
   "metadata": {},
   "outputs": [],
   "source": [
    "obj_bank_account.deposit(6000)"
   ]
  },
  {
   "cell_type": "code",
   "execution_count": 58,
   "id": "0fa8c69a-c2a5-41c5-95a4-7ffcef676995",
   "metadata": {},
   "outputs": [
    {
     "data": {
      "text/plain": [
       "7000"
      ]
     },
     "execution_count": 58,
     "metadata": {},
     "output_type": "execute_result"
    }
   ],
   "source": [
    "obj_bank_account.get_balance()"
   ]
  },
  {
   "cell_type": "code",
   "execution_count": 59,
   "id": "5b14b730-da8c-4094-9c27-6d98b2a9243b",
   "metadata": {},
   "outputs": [
    {
     "data": {
      "text/plain": [
       "False"
      ]
     },
     "execution_count": 59,
     "metadata": {},
     "output_type": "execute_result"
    }
   ],
   "source": [
    "obj_bank_account.with_drawl(100000)"
   ]
  },
  {
   "cell_type": "code",
   "execution_count": null,
   "id": "3061fd4b-da27-4e11-8cc1-eba1fe8ff350",
   "metadata": {},
   "outputs": [],
   "source": []
  }
 ],
 "metadata": {
  "kernelspec": {
   "display_name": "Python 3 (ipykernel)",
   "language": "python",
   "name": "python3"
  },
  "language_info": {
   "codemirror_mode": {
    "name": "ipython",
    "version": 3
   },
   "file_extension": ".py",
   "mimetype": "text/x-python",
   "name": "python",
   "nbconvert_exporter": "python",
   "pygments_lexer": "ipython3",
   "version": "3.10.8"
  }
 },
 "nbformat": 4,
 "nbformat_minor": 5
}
