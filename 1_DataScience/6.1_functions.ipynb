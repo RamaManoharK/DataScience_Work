{
 "cells": [
  {
   "cell_type": "code",
   "execution_count": 1,
   "id": "9e1f468b-4873-4ed4-b043-c1a1177d7cbe",
   "metadata": {},
   "outputs": [],
   "source": [
    "def test():\n",
    "    return 1, 'Ram', 100.00"
   ]
  },
  {
   "cell_type": "code",
   "execution_count": 2,
   "id": "6d9562e0-84f0-4a46-9da5-d09f16fa3b33",
   "metadata": {},
   "outputs": [
    {
     "data": {
      "text/plain": [
       "(1, 'Ram', 100.0)"
      ]
     },
     "execution_count": 2,
     "metadata": {},
     "output_type": "execute_result"
    }
   ],
   "source": [
    "test()"
   ]
  },
  {
   "cell_type": "code",
   "execution_count": 3,
   "id": "27f2a1d5-2a40-484f-9e09-9ba6039f49e4",
   "metadata": {},
   "outputs": [],
   "source": [
    "a,b,c = test()"
   ]
  },
  {
   "cell_type": "code",
   "execution_count": 4,
   "id": "6b8a8141-4648-4977-9c36-1aff5266ed30",
   "metadata": {},
   "outputs": [
    {
     "data": {
      "text/plain": [
       "100.0"
      ]
     },
     "execution_count": 4,
     "metadata": {},
     "output_type": "execute_result"
    }
   ],
   "source": [
    "c"
   ]
  },
  {
   "cell_type": "code",
   "execution_count": 9,
   "id": "533980b9-d864-4d61-ad0b-7cad4375ed72",
   "metadata": {},
   "outputs": [],
   "source": [
    "def test1(a, b):\n",
    "    c = a + b\n",
    "    return c\n",
    "    "
   ]
  },
  {
   "cell_type": "code",
   "execution_count": 10,
   "id": "7381dcca-1488-4c6b-b585-9a91872763aa",
   "metadata": {},
   "outputs": [
    {
     "data": {
      "text/plain": [
       "9"
      ]
     },
     "execution_count": 10,
     "metadata": {},
     "output_type": "execute_result"
    }
   ],
   "source": [
    "test1(5,4)"
   ]
  },
  {
   "cell_type": "code",
   "execution_count": 11,
   "id": "48a1bae8-0126-452d-9ce2-e855705875e9",
   "metadata": {},
   "outputs": [
    {
     "data": {
      "text/plain": [
       "[1, 2, 3, 4, 5, 6, 7, 8]"
      ]
     },
     "execution_count": 11,
     "metadata": {},
     "output_type": "execute_result"
    }
   ],
   "source": [
    "test1([1,2,3,4], [5,6,7,8])"
   ]
  },
  {
   "cell_type": "code",
   "execution_count": 15,
   "id": "2a6d61c1-5880-4f89-9b09-139d7d6e9aff",
   "metadata": {},
   "outputs": [
    {
     "data": {
      "text/plain": [
       "'ram manohar'"
      ]
     },
     "execution_count": 15,
     "metadata": {},
     "output_type": "execute_result"
    }
   ],
   "source": [
    "test1(a = 'ram', b = ' manohar')"
   ]
  },
  {
   "cell_type": "code",
   "execution_count": 21,
   "id": "41cbed42-69af-4fd6-8ae2-3d04c2be56c2",
   "metadata": {},
   "outputs": [],
   "source": [
    "l = [1,2,3,4,5, 'ram', 'manohar', [1,3,45,6,6,77,0]]"
   ]
  },
  {
   "cell_type": "code",
   "execution_count": 24,
   "id": "232973b6-4f60-44f0-b185-dbce854435dc",
   "metadata": {},
   "outputs": [],
   "source": [
    "# create a function which will take list as an input and give me a final list with all the numeric values\n",
    "\n",
    "def test2(a):\n",
    "    n = []\n",
    "    for i in a:\n",
    "        if type(i) == int or type(i) == float : \n",
    "            n.append(i)\n",
    "    return n   "
   ]
  },
  {
   "cell_type": "code",
   "execution_count": 25,
   "id": "c1e06017-3ab2-4a69-b82f-d0bca8b45094",
   "metadata": {},
   "outputs": [
    {
     "data": {
      "text/plain": [
       "[1, 2, 3, 4, 5]"
      ]
     },
     "execution_count": 25,
     "metadata": {},
     "output_type": "execute_result"
    }
   ],
   "source": [
    "test2(l)"
   ]
  },
  {
   "cell_type": "code",
   "execution_count": 30,
   "id": "4ce14eeb-9b2c-4f36-b6d0-a5fe64a46391",
   "metadata": {},
   "outputs": [],
   "source": [
    "def test3(a):\n",
    "    n = []\n",
    "    for i in a:\n",
    "        if type(i) == list : \n",
    "            for j in i:\n",
    "                if type(j) == int or type(j) == float :\n",
    "                    n.append(j)\n",
    "        else :\n",
    "            if type(i) == int or type(i) == float :\n",
    "                n.append(i)\n",
    "    return n"
   ]
  },
  {
   "cell_type": "code",
   "execution_count": 31,
   "id": "495b2a52-c5df-4fb3-b117-10f07139fdc4",
   "metadata": {},
   "outputs": [
    {
     "data": {
      "text/plain": [
       "[1, 2, 3, 4, 5, 1, 3, 45, 6, 6, 77, 0]"
      ]
     },
     "execution_count": 31,
     "metadata": {},
     "output_type": "execute_result"
    }
   ],
   "source": [
    "test3(l)"
   ]
  },
  {
   "cell_type": "code",
   "execution_count": 32,
   "id": "664997cf-5632-49ab-ac91-0cb49b36ae5c",
   "metadata": {},
   "outputs": [],
   "source": [
    "# unknown number of parameters"
   ]
  },
  {
   "cell_type": "code",
   "execution_count": 33,
   "id": "dace7dc3-0f3a-4839-a893-0c6969d2c600",
   "metadata": {},
   "outputs": [],
   "source": [
    "def test4( *args ):\n",
    "    return args"
   ]
  },
  {
   "cell_type": "code",
   "execution_count": 34,
   "id": "4e8c74ca-8880-4711-aea3-bdecce36b8a6",
   "metadata": {},
   "outputs": [
    {
     "data": {
      "text/plain": [
       "(2,)"
      ]
     },
     "execution_count": 34,
     "metadata": {},
     "output_type": "execute_result"
    }
   ],
   "source": [
    "test4(2,)"
   ]
  },
  {
   "cell_type": "code",
   "execution_count": 35,
   "id": "850de8c3-9807-4e95-9b12-eea79ba69967",
   "metadata": {},
   "outputs": [
    {
     "data": {
      "text/plain": [
       "(1, 3, 4, 5, 6, 7, 7, 8, 8, 5, 43, 2)"
      ]
     },
     "execution_count": 35,
     "metadata": {},
     "output_type": "execute_result"
    }
   ],
   "source": [
    "test4(1,3,4,5,6,7,7,8,8,5,43,2)"
   ]
  },
  {
   "cell_type": "code",
   "execution_count": 36,
   "id": "d92bfd8c-ce19-49b2-ace9-376292ab48c9",
   "metadata": {},
   "outputs": [
    {
     "data": {
      "text/plain": [
       "(1, 2, ['ram', 100.0], (3, 4, 5, 6))"
      ]
     },
     "execution_count": 36,
     "metadata": {},
     "output_type": "execute_result"
    }
   ],
   "source": [
    "test4(1,2,['ram', 100.00], (3,4,5,6))"
   ]
  },
  {
   "cell_type": "code",
   "execution_count": 37,
   "id": "2f59c735-a854-442b-9bfd-bbe2d303177f",
   "metadata": {},
   "outputs": [],
   "source": [
    "def test5(*args, a):\n",
    "    return args, a"
   ]
  },
  {
   "cell_type": "code",
   "execution_count": 38,
   "id": "b0a3af31-f22c-42ce-80c4-8acc74c64b0e",
   "metadata": {},
   "outputs": [
    {
     "data": {
      "text/plain": [
       "((1, 2, 3, 4, 5, 5, 66, 76, 77), 'ram')"
      ]
     },
     "execution_count": 38,
     "metadata": {},
     "output_type": "execute_result"
    }
   ],
   "source": [
    "test5(1,2,3,4,5,5,66,76,77, a='ram')"
   ]
  },
  {
   "cell_type": "code",
   "execution_count": 39,
   "id": "45022928-bc81-446f-9b16-5a1f47ab8542",
   "metadata": {},
   "outputs": [],
   "source": [
    "def test6(*args):\n",
    "    l = []\n",
    "    for i in args:\n",
    "        if type(i) == list:\n",
    "            l.append(i)\n",
    "    return l"
   ]
  },
  {
   "cell_type": "code",
   "execution_count": 40,
   "id": "70f2ae6f-e0f2-4471-991a-5d3e8b73262b",
   "metadata": {},
   "outputs": [
    {
     "data": {
      "text/plain": [
       "[[5, 6, 7, 8], ['ram', 'manohar']]"
      ]
     },
     "execution_count": 40,
     "metadata": {},
     "output_type": "execute_result"
    }
   ],
   "source": [
    "test6(1,2,3,[5,6,7,8],['ram', 'manohar'],(9,10,11,12,14), 'kamarsa')"
   ]
  },
  {
   "cell_type": "code",
   "execution_count": 41,
   "id": "b0fc90b4-b2b9-4288-812e-97f689905248",
   "metadata": {},
   "outputs": [],
   "source": [
    "# unknown number of key, value pairs as parameters"
   ]
  },
  {
   "cell_type": "code",
   "execution_count": 42,
   "id": "d49dc6ea-14fb-40a0-962e-91b2dab3793d",
   "metadata": {},
   "outputs": [],
   "source": [
    "def test7(**kwargs):\n",
    "    return kwargs\n",
    "    "
   ]
  },
  {
   "cell_type": "code",
   "execution_count": 43,
   "id": "fe005442-825b-4b4f-973e-d737281aa3f7",
   "metadata": {},
   "outputs": [
    {
     "data": {
      "text/plain": [
       "{}"
      ]
     },
     "execution_count": 43,
     "metadata": {},
     "output_type": "execute_result"
    }
   ],
   "source": [
    "test7()"
   ]
  },
  {
   "cell_type": "code",
   "execution_count": 44,
   "id": "98a1b543-b15f-4942-8ccf-b72ca10782d1",
   "metadata": {},
   "outputs": [
    {
     "data": {
      "text/plain": [
       "dict"
      ]
     },
     "execution_count": 44,
     "metadata": {},
     "output_type": "execute_result"
    }
   ],
   "source": [
    "type(test7())"
   ]
  },
  {
   "cell_type": "code",
   "execution_count": 45,
   "id": "0d1cc767-b3e8-4194-a79e-9971ad526cfb",
   "metadata": {},
   "outputs": [
    {
     "data": {
      "text/plain": [
       "{'a': 34, 'b': 23, 'c': [1, 2, 3, 4], 'd': ('ram', 'manohar')}"
      ]
     },
     "execution_count": 45,
     "metadata": {},
     "output_type": "execute_result"
    }
   ],
   "source": [
    "test7(a=34, b=23, c=[1,2,3,4], d=('ram', 'manohar'))"
   ]
  },
  {
   "cell_type": "code",
   "execution_count": 46,
   "id": "7ef4deae-6bd2-49f5-9414-627f20de4e42",
   "metadata": {},
   "outputs": [],
   "source": [
    "def test8(**kwargs):\n",
    "    l = []\n",
    "    for i in kwargs.keys():\n",
    "        if type(kwargs[i]) == list:\n",
    "            return i, kwargs[i]"
   ]
  },
  {
   "cell_type": "code",
   "execution_count": 47,
   "id": "bec31217-c20f-4a22-8480-6697b26fb83d",
   "metadata": {},
   "outputs": [
    {
     "data": {
      "text/plain": [
       "('c', [1, 2, 3, 4])"
      ]
     },
     "execution_count": 47,
     "metadata": {},
     "output_type": "execute_result"
    }
   ],
   "source": [
    "test8(a=34, b=23, c=[1,2,3,4], d=('ram', 'manohar'))"
   ]
  },
  {
   "cell_type": "code",
   "execution_count": 48,
   "id": "0175bf71-b385-49f2-860e-67c9e200bab4",
   "metadata": {},
   "outputs": [],
   "source": [
    "def test9(*args, **kwargs):\n",
    "    return args, kwargs"
   ]
  },
  {
   "cell_type": "code",
   "execution_count": 52,
   "id": "10679ce9-faa1-49a9-8620-86bbea6dec5b",
   "metadata": {},
   "outputs": [
    {
     "data": {
      "text/plain": [
       "((2, 3, 4, 5), {'a': 10, 'b': 11})"
      ]
     },
     "execution_count": 52,
     "metadata": {},
     "output_type": "execute_result"
    }
   ],
   "source": [
    "test9(2,3,4,5, a=10, b =11)"
   ]
  },
  {
   "cell_type": "markdown",
   "id": "82af0513-685e-47c0-84a8-045d2d94ce34",
   "metadata": {},
   "source": [
    "## generator functions"
   ]
  },
  {
   "cell_type": "code",
   "execution_count": 54,
   "id": "d22dd9a8-486e-4add-a617-ccb9317be9f1",
   "metadata": {},
   "outputs": [
    {
     "data": {
      "text/plain": [
       "range(1, 10)"
      ]
     },
     "execution_count": 54,
     "metadata": {},
     "output_type": "execute_result"
    }
   ],
   "source": [
    "range(1, 10)"
   ]
  },
  {
   "cell_type": "code",
   "execution_count": 55,
   "id": "158ab705-0e30-4cf0-a1c0-22dd91059169",
   "metadata": {},
   "outputs": [
    {
     "name": "stdout",
     "output_type": "stream",
     "text": [
      "1\n",
      "2\n",
      "3\n",
      "4\n",
      "5\n",
      "6\n",
      "7\n",
      "8\n",
      "9\n"
     ]
    }
   ],
   "source": [
    "for i in range(1, 10) : \n",
    "    print(i)"
   ]
  },
  {
   "cell_type": "code",
   "execution_count": 56,
   "id": "98334382-990d-48c2-bc11-e0ce329ced3b",
   "metadata": {},
   "outputs": [],
   "source": [
    "l = [1,2,3,4,5,6,7,8,9, 'ram', 'manohar']"
   ]
  },
  {
   "cell_type": "code",
   "execution_count": 57,
   "id": "75ac4cec-0f92-4170-9a7b-e39c8f6a03e5",
   "metadata": {},
   "outputs": [],
   "source": [
    "def test10(a) : \n",
    "    n = []\n",
    "    for i in a :\n",
    "        if type(i) == int : \n",
    "            n.append(i)\n",
    "    return n"
   ]
  },
  {
   "cell_type": "code",
   "execution_count": 58,
   "id": "616b1033-06e4-45bb-9881-c90d29ca79c2",
   "metadata": {},
   "outputs": [
    {
     "data": {
      "text/plain": [
       "[1, 2, 3, 4, 5, 6, 7, 8, 9]"
      ]
     },
     "execution_count": 58,
     "metadata": {},
     "output_type": "execute_result"
    }
   ],
   "source": [
    "test10(l)"
   ]
  },
  {
   "cell_type": "code",
   "execution_count": 67,
   "id": "56098156-ada9-4436-b0a7-be14245b00df",
   "metadata": {},
   "outputs": [
    {
     "data": {
      "text/plain": [
       "(0, 1, 1, 2, 3, 5, 8, 13, 21, 34)"
      ]
     },
     "execution_count": 67,
     "metadata": {},
     "output_type": "execute_result"
    }
   ],
   "source": [
    "# fibanocci series\n",
    "\n",
    "0,1,1,2,3,5,8,13,21,34"
   ]
  },
  {
   "cell_type": "code",
   "execution_count": 68,
   "id": "ca6fcdac-b893-48b6-bc9f-77894de56be8",
   "metadata": {},
   "outputs": [],
   "source": [
    "def fibonacci(series_len):\n",
    "    a, b = 0, 1\n",
    "    for i in range(0, series_len):\n",
    "        yield a # gives records one by one while calling\n",
    "        a, b = b, a+b"
   ]
  },
  {
   "cell_type": "code",
   "execution_count": 69,
   "id": "c4e0fc64-5d2d-44a9-a4fe-232bcc88507c",
   "metadata": {},
   "outputs": [
    {
     "data": {
      "text/plain": [
       "<generator object fibonacci at 0x7f8276304040>"
      ]
     },
     "execution_count": 69,
     "metadata": {},
     "output_type": "execute_result"
    }
   ],
   "source": [
    "fibonacci(10)"
   ]
  },
  {
   "cell_type": "code",
   "execution_count": 70,
   "id": "deb27d59-0eac-4102-92d7-3e1945398ae7",
   "metadata": {},
   "outputs": [
    {
     "name": "stdout",
     "output_type": "stream",
     "text": [
      "0\n",
      "1\n",
      "1\n",
      "2\n",
      "3\n",
      "5\n",
      "8\n",
      "13\n",
      "21\n",
      "34\n"
     ]
    }
   ],
   "source": [
    "for i in fibonacci(10):\n",
    "    print(i)"
   ]
  },
  {
   "cell_type": "code",
   "execution_count": null,
   "id": "f1f70c1e-2bba-49f8-96c6-da5a7de18385",
   "metadata": {},
   "outputs": [],
   "source": []
  },
  {
   "cell_type": "code",
   "execution_count": null,
   "id": "c3a71b40-06aa-48dc-9f7e-63b3cf96a867",
   "metadata": {},
   "outputs": [],
   "source": []
  }
 ],
 "metadata": {
  "kernelspec": {
   "display_name": "Python 3 (ipykernel)",
   "language": "python",
   "name": "python3"
  },
  "language_info": {
   "codemirror_mode": {
    "name": "ipython",
    "version": 3
   },
   "file_extension": ".py",
   "mimetype": "text/x-python",
   "name": "python",
   "nbconvert_exporter": "python",
   "pygments_lexer": "ipython3",
   "version": "3.10.8"
  }
 },
 "nbformat": 4,
 "nbformat_minor": 5
}
