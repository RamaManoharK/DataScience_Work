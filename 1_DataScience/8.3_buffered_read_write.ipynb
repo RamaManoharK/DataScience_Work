{
 "cells": [
  {
   "cell_type": "code",
   "execution_count": 10,
   "id": "05d065ea-37db-4cdb-a112-49bed275cd6c",
   "metadata": {},
   "outputs": [],
   "source": [
    "import io"
   ]
  },
  {
   "cell_type": "code",
   "execution_count": 11,
   "id": "7ce52ec0-d5de-43d0-9520-872db2bcaa81",
   "metadata": {},
   "outputs": [],
   "source": [
    "with open('test.txt', 'wb') as f : \n",
    "    file = io.BufferedWriter(f)\n",
    "    file.write(b\"this is my buffered writer \\n\")\n",
    "    file.write(b\"this is my second line buffered writer\")\n",
    "    file.flush() # to close the stream"
   ]
  },
  {
   "cell_type": "code",
   "execution_count": 12,
   "id": "c44f415b-c261-4b2e-94c8-6a6eb9311996",
   "metadata": {},
   "outputs": [
    {
     "name": "stdout",
     "output_type": "stream",
     "text": [
      "b'this is my buffered writer \\nthis is my second line buffered writer'\n"
     ]
    }
   ],
   "source": [
    "with open('test.txt', 'rb') as f : \n",
    "    file = io.BufferedReader(f)\n",
    "    data = file.read()\n",
    "    print(data)"
   ]
  },
  {
   "cell_type": "code",
   "execution_count": 13,
   "id": "bbe4f4eb-1ae9-4131-a52b-a00015b980f5",
   "metadata": {},
   "outputs": [
    {
     "name": "stdout",
     "output_type": "stream",
     "text": [
      "b'this is my'\n"
     ]
    }
   ],
   "source": [
    "with open('test.txt', 'rb') as f : \n",
    "    file = io.BufferedReader(f)\n",
    "    data = file.read(10) # reads 10 bytes\n",
    "    print(data)"
   ]
  },
  {
   "cell_type": "code",
   "execution_count": null,
   "id": "decc4b03-593d-4b45-a56c-14465fcbc197",
   "metadata": {},
   "outputs": [],
   "source": []
  },
  {
   "cell_type": "code",
   "execution_count": null,
   "id": "0f3adba8-d5be-418a-ae47-32cb7fe75278",
   "metadata": {},
   "outputs": [],
   "source": []
  },
  {
   "cell_type": "code",
   "execution_count": null,
   "id": "ec9a9d17-1a69-46ca-9405-9a413a16a14b",
   "metadata": {},
   "outputs": [],
   "source": []
  }
 ],
 "metadata": {
  "kernelspec": {
   "display_name": "Python 3 (ipykernel)",
   "language": "python",
   "name": "python3"
  },
  "language_info": {
   "codemirror_mode": {
    "name": "ipython",
    "version": 3
   },
   "file_extension": ".py",
   "mimetype": "text/x-python",
   "name": "python",
   "nbconvert_exporter": "python",
   "pygments_lexer": "ipython3",
   "version": "3.10.8"
  }
 },
 "nbformat": 4,
 "nbformat_minor": 5
}
