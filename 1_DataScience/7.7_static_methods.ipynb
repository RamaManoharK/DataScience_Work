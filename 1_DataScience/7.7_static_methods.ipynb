{
 "cells": [
  {
   "cell_type": "code",
   "execution_count": 6,
   "id": "eed49be0-9957-4959-9b47-3447cf1cabfc",
   "metadata": {},
   "outputs": [],
   "source": [
    "class pwskills : \n",
    "    \n",
    "    def student_details(self, name, email, number) : \n",
    "        print(name, email, number)"
   ]
  },
  {
   "cell_type": "code",
   "execution_count": 7,
   "id": "292dc463-eba4-4af6-9739-f8e74f8b2438",
   "metadata": {},
   "outputs": [],
   "source": [
    "pw = pwskills()"
   ]
  },
  {
   "cell_type": "code",
   "execution_count": 8,
   "id": "6da0ee12-c81d-4b08-83ea-6ebe4488fb5c",
   "metadata": {},
   "outputs": [
    {
     "name": "stdout",
     "output_type": "stream",
     "text": [
      "ram ram@gmail.com 9454435354\n"
     ]
    }
   ],
   "source": [
    "pw.student_details('ram', 'ram@gmail.com', 9454435354)"
   ]
  },
  {
   "cell_type": "code",
   "execution_count": 16,
   "id": "5940bdec-f9fc-40f0-bc84-0b02c0dac352",
   "metadata": {},
   "outputs": [],
   "source": [
    "class pwskills1 : \n",
    "    \n",
    "    def student_details(self, name, email, number) : \n",
    "        print(name, email, number)\n",
    "        \n",
    "    @staticmethod  # available across all classes\n",
    "    def mentor_class(list_mentor) : \n",
    "        print(list_mentor)\n",
    "    \n",
    "    def mentor(self, mentor_list) : \n",
    "        print(mentor_list)"
   ]
  },
  {
   "cell_type": "code",
   "execution_count": 17,
   "id": "655bc3cf-8dcf-4c34-a9d7-49cd87e87a2f",
   "metadata": {},
   "outputs": [],
   "source": [
    "pw1 = pwskills1()"
   ]
  },
  {
   "cell_type": "code",
   "execution_count": 18,
   "id": "6e1115fd-1cb1-40ab-ba4a-6062f75193e3",
   "metadata": {},
   "outputs": [
    {
     "name": "stdout",
     "output_type": "stream",
     "text": [
      "['rama']\n"
     ]
    }
   ],
   "source": [
    "pw1.mentor(['rama'])"
   ]
  },
  {
   "cell_type": "code",
   "execution_count": 19,
   "id": "d14b65f8-6f63-45c4-9b68-f57e790128ab",
   "metadata": {},
   "outputs": [
    {
     "name": "stdout",
     "output_type": "stream",
     "text": [
      "['rama', 'k']\n"
     ]
    }
   ],
   "source": [
    "pw1.mentor_class(['rama', 'k'])"
   ]
  },
  {
   "cell_type": "code",
   "execution_count": 20,
   "id": "8a12456f-5fae-42a6-b7d6-d223c5765228",
   "metadata": {},
   "outputs": [
    {
     "name": "stdout",
     "output_type": "stream",
     "text": [
      "['ram', 'manohar']\n"
     ]
    }
   ],
   "source": [
    "pwskills1.mentor_class(['ram', 'manohar'])"
   ]
  },
  {
   "cell_type": "code",
   "execution_count": 31,
   "id": "8d31b4ab-7c54-478e-9464-a36b5c47b8f0",
   "metadata": {},
   "outputs": [],
   "source": [
    "class pwskills1 : \n",
    "    \n",
    "    def student_details(self, name, email, number) : \n",
    "        print(name, email, number)\n",
    "    \n",
    "    @staticmethod\n",
    "    def mentor_email(mentor_email) :\n",
    "        print(mentor_email)\n",
    "        \n",
    "    @staticmethod  # available across all classes\n",
    "    def mentor_class(list_mentor) : \n",
    "        print(list_mentor)\n",
    "        pwskills1.mentor_email(['ram@gmail.com', 'manohar@gmail.com'])\n",
    "    \n",
    "    @staticmethod\n",
    "    def class_name(cls, class_name) : \n",
    "        cls.mentor_class(['rama', 'k'])\n",
    "    \n",
    "    def mentor(self, mentor_list) : \n",
    "        print(mentor_list)\n",
    "        self.mentor_class(['ram', 'manohar'])"
   ]
  },
  {
   "cell_type": "code",
   "execution_count": 32,
   "id": "9f47ae6a-3694-4a0a-825e-5e34bd91190c",
   "metadata": {},
   "outputs": [],
   "source": [
    "pw1 = pwskills1()"
   ]
  },
  {
   "cell_type": "code",
   "execution_count": 33,
   "id": "26833dac-0b46-4416-8772-78b1a2ed1874",
   "metadata": {},
   "outputs": [
    {
     "name": "stdout",
     "output_type": "stream",
     "text": [
      "mohan mohan@gmail.com 90238505\n"
     ]
    }
   ],
   "source": [
    "pw1.student_details('mohan', 'mohan@gmail.com', 90238505)"
   ]
  },
  {
   "cell_type": "code",
   "execution_count": 34,
   "id": "bdcf9763-1838-4368-bb09-096160566d0b",
   "metadata": {},
   "outputs": [
    {
     "name": "stdout",
     "output_type": "stream",
     "text": [
      "['k@gmail.com', 'r@gmail.com']\n"
     ]
    }
   ],
   "source": [
    "pw1.mentor_email(['k@gmail.com', 'r@gmail.com'])"
   ]
  },
  {
   "cell_type": "code",
   "execution_count": 35,
   "id": "a2bfcbb0-2fea-48df-90fb-0980a3e287dc",
   "metadata": {},
   "outputs": [
    {
     "name": "stdout",
     "output_type": "stream",
     "text": [
      "['l@gmail.com', 'm@gmail.com']\n"
     ]
    }
   ],
   "source": [
    "pwskills1.mentor_email(['l@gmail.com', 'm@gmail.com'])"
   ]
  },
  {
   "cell_type": "code",
   "execution_count": null,
   "id": "aaa44fe7-85b9-4bef-b405-17c803fe840a",
   "metadata": {},
   "outputs": [],
   "source": []
  }
 ],
 "metadata": {
  "kernelspec": {
   "display_name": "Python 3 (ipykernel)",
   "language": "python",
   "name": "python3"
  },
  "language_info": {
   "codemirror_mode": {
    "name": "ipython",
    "version": 3
   },
   "file_extension": ".py",
   "mimetype": "text/x-python",
   "name": "python",
   "nbconvert_exporter": "python",
   "pygments_lexer": "ipython3",
   "version": "3.10.8"
  }
 },
 "nbformat": 4,
 "nbformat_minor": 5
}
