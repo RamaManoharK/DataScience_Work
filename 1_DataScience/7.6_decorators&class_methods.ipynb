{
 "cells": [
  {
   "cell_type": "code",
   "execution_count": 1,
   "id": "50e5a23d-14ad-484d-9b13-8d8f995529e9",
   "metadata": {},
   "outputs": [],
   "source": [
    "def test() : \n",
    "    print('this is start of my fun')\n",
    "    print(4+5)\n",
    "    print('this is intermediate of fun')"
   ]
  },
  {
   "cell_type": "code",
   "execution_count": 2,
   "id": "d4381c80-f042-4d75-b038-a7d78355111f",
   "metadata": {},
   "outputs": [
    {
     "name": "stdout",
     "output_type": "stream",
     "text": [
      "this is start of my fun\n",
      "9\n",
      "this is intermediate of fun\n"
     ]
    }
   ],
   "source": [
    "test()"
   ]
  },
  {
   "cell_type": "code",
   "execution_count": 3,
   "id": "526b27ff-2123-4533-addd-e29c2a3e65d3",
   "metadata": {},
   "outputs": [],
   "source": [
    "def deco(func) : \n",
    "    def inner_deco() :\n",
    "        print('this is start of my fun')\n",
    "        func()\n",
    "        print('this is intermediate of fun')\n",
    "    return inner_deco()"
   ]
  },
  {
   "cell_type": "code",
   "execution_count": 7,
   "id": "4b3a8739-0a32-44a5-99d7-4b3b7474f0ca",
   "metadata": {},
   "outputs": [
    {
     "name": "stdout",
     "output_type": "stream",
     "text": [
      "this is start of my fun\n",
      "9\n",
      "this is intermediate of fun\n"
     ]
    }
   ],
   "source": [
    "@deco\n",
    "def test1():\n",
    "    print(4+5)"
   ]
  },
  {
   "cell_type": "code",
   "execution_count": 11,
   "id": "df5edf8f-9888-4e5a-adf7-c6cd5660a603",
   "metadata": {},
   "outputs": [],
   "source": [
    "import time\n",
    "\n",
    "def timer_test(func) : \n",
    "    def timer_test_inner() :\n",
    "        start = time.time()\n",
    "        func()\n",
    "        end = time.time()\n",
    "        print(end - start)\n",
    "    return timer_test_inner"
   ]
  },
  {
   "cell_type": "code",
   "execution_count": 12,
   "id": "2c52ad0b-b791-4c31-9bf3-6c05c189958e",
   "metadata": {},
   "outputs": [],
   "source": [
    "@timer_test\n",
    "def test2() : \n",
    "    print(45 + 62)"
   ]
  },
  {
   "cell_type": "code",
   "execution_count": 13,
   "id": "a82ac329-cc53-49a9-b1fd-7e3163e373e6",
   "metadata": {},
   "outputs": [
    {
     "name": "stdout",
     "output_type": "stream",
     "text": [
      "107\n",
      "5.412101745605469e-05\n"
     ]
    }
   ],
   "source": [
    "test2()"
   ]
  },
  {
   "cell_type": "code",
   "execution_count": 23,
   "id": "74afd40a-b40e-4136-bfa7-9818aaabbe18",
   "metadata": {},
   "outputs": [],
   "source": [
    "@timer_test\n",
    "def test3():\n",
    "    for i in range(100000000) : \n",
    "        pass"
   ]
  },
  {
   "cell_type": "code",
   "execution_count": 24,
   "id": "f9f3b6b7-a317-4427-8e45-72fac1efdf45",
   "metadata": {},
   "outputs": [
    {
     "name": "stdout",
     "output_type": "stream",
     "text": [
      "2.1196091175079346\n"
     ]
    }
   ],
   "source": [
    "test3()"
   ]
  },
  {
   "cell_type": "markdown",
   "id": "b94ab9c0-e941-4539-bb6a-6c728f76e73f",
   "metadata": {},
   "source": [
    "### class methods\n",
    "\n",
    "    # method overloading is possible with @classmethods in python\n",
    "    # method overriding is possible with getter(@property) and setter class methods\n"
   ]
  },
  {
   "cell_type": "code",
   "execution_count": 31,
   "id": "1cafbbbc-7769-40bd-9766-7f2528642e1b",
   "metadata": {},
   "outputs": [],
   "source": [
    "class pwskills :\n",
    "    \n",
    "    def __init__(self, name, email) : \n",
    "        self.name = name\n",
    "        self.email = email\n",
    "    \n",
    "    def student_details(self) :\n",
    "        print(self.name, self.email)"
   ]
  },
  {
   "cell_type": "code",
   "execution_count": 32,
   "id": "27d9d02d-fa63-46e6-a12f-b48fbae8bb0c",
   "metadata": {},
   "outputs": [],
   "source": [
    "pw = pwskills('ram', 'ram@gmail.com')"
   ]
  },
  {
   "cell_type": "code",
   "execution_count": 33,
   "id": "d3165ace-9e1b-428c-a0a2-462919d2d052",
   "metadata": {},
   "outputs": [
    {
     "data": {
      "text/plain": [
       "'ram@gmail.com'"
      ]
     },
     "execution_count": 33,
     "metadata": {},
     "output_type": "execute_result"
    }
   ],
   "source": [
    "pw.email"
   ]
  },
  {
   "cell_type": "code",
   "execution_count": 34,
   "id": "aaa9a3cc-e5f9-4adb-a662-dd87d5b02a08",
   "metadata": {},
   "outputs": [
    {
     "data": {
      "text/plain": [
       "'ram'"
      ]
     },
     "execution_count": 34,
     "metadata": {},
     "output_type": "execute_result"
    }
   ],
   "source": [
    "pw.name"
   ]
  },
  {
   "cell_type": "code",
   "execution_count": 35,
   "id": "d9d6dd04-9e60-473b-8423-9eafe4d20ba6",
   "metadata": {},
   "outputs": [
    {
     "name": "stdout",
     "output_type": "stream",
     "text": [
      "ram ram@gmail.com\n"
     ]
    }
   ],
   "source": [
    "pw.student_details()"
   ]
  },
  {
   "cell_type": "code",
   "execution_count": 41,
   "id": "f960c2e6-71f5-4386-9e4c-dee01815c41d",
   "metadata": {},
   "outputs": [],
   "source": [
    "class pwskills1 :\n",
    "    \n",
    "    def __init__(self, name, email) : \n",
    "        self.name = name\n",
    "        self.email = email\n",
    "    \n",
    "    @classmethod\n",
    "    def details(cls, name1, email1) : \n",
    "        return cls(name1, email1)\n",
    "    \n",
    "    def student_details(self) :\n",
    "        print(self.name, self.email)"
   ]
  },
  {
   "cell_type": "code",
   "execution_count": 42,
   "id": "d371d588-d321-41e1-b418-45a5ad638fa4",
   "metadata": {},
   "outputs": [],
   "source": [
    "pw1 = pwskills1.details('manohar', 'manohar@gmail.com')"
   ]
  },
  {
   "cell_type": "code",
   "execution_count": 43,
   "id": "5df9f01c-7377-47dd-9f69-077831a3463b",
   "metadata": {},
   "outputs": [
    {
     "data": {
      "text/plain": [
       "'manohar'"
      ]
     },
     "execution_count": 43,
     "metadata": {},
     "output_type": "execute_result"
    }
   ],
   "source": [
    "pw1.name"
   ]
  },
  {
   "cell_type": "code",
   "execution_count": 44,
   "id": "daf0ac46-4415-4d2b-a61a-41f9163ed47d",
   "metadata": {},
   "outputs": [
    {
     "data": {
      "text/plain": [
       "'manohar@gmail.com'"
      ]
     },
     "execution_count": 44,
     "metadata": {},
     "output_type": "execute_result"
    }
   ],
   "source": [
    "pw1.email"
   ]
  },
  {
   "cell_type": "code",
   "execution_count": 56,
   "id": "bb6150e9-b7fa-40a8-ad86-74a6dc9127df",
   "metadata": {},
   "outputs": [],
   "source": [
    "class pwskills2 :\n",
    "    \n",
    "    mobile_num = 9095345034\n",
    "    \n",
    "    def __init__(self, name, email) : \n",
    "        self.name = name\n",
    "        self.email = email\n",
    "    \n",
    "    @classmethod\n",
    "    def details(cls, name1, email1) : # simply replacement of entite __init__ constructor & can be called by class name\n",
    "        return cls(name1, email1)\n",
    "    \n",
    "    def student_details(self) :\n",
    "        print(self.name, self.email, pwskills2.mobile_num)"
   ]
  },
  {
   "cell_type": "code",
   "execution_count": 57,
   "id": "a6ef53d1-4a8c-46d8-8f23-3705d9583430",
   "metadata": {},
   "outputs": [
    {
     "data": {
      "text/plain": [
       "9095345034"
      ]
     },
     "execution_count": 57,
     "metadata": {},
     "output_type": "execute_result"
    }
   ],
   "source": [
    "pwskills2.mobile_num"
   ]
  },
  {
   "cell_type": "code",
   "execution_count": 58,
   "id": "0a698286-e692-4e71-b14c-7710e82e346d",
   "metadata": {},
   "outputs": [],
   "source": [
    "pw2 = pwskills2.details('ramamanohar', 'ramamanohar@gmail.com')\n"
   ]
  },
  {
   "cell_type": "code",
   "execution_count": 59,
   "id": "f4641fcb-de0f-4cc7-82ef-cfd6249c519b",
   "metadata": {},
   "outputs": [
    {
     "name": "stdout",
     "output_type": "stream",
     "text": [
      "ramamanohar ramamanohar@gmail.com 9095345034\n"
     ]
    }
   ],
   "source": [
    "pw2.student_details()"
   ]
  },
  {
   "cell_type": "code",
   "execution_count": 60,
   "id": "72cc42f5-155a-42a2-99a2-5129ce79de59",
   "metadata": {},
   "outputs": [],
   "source": [
    "pw2_obj = pwskills2('ramamanohark', 'ramamanohark@gmail.com')"
   ]
  },
  {
   "cell_type": "code",
   "execution_count": 61,
   "id": "8546a9c0-8ddd-4a90-9141-f7147cb854bb",
   "metadata": {},
   "outputs": [
    {
     "name": "stdout",
     "output_type": "stream",
     "text": [
      "ramamanohark ramamanohark@gmail.com 9095345034\n"
     ]
    }
   ],
   "source": [
    "pw2_obj.student_details()"
   ]
  },
  {
   "cell_type": "code",
   "execution_count": 62,
   "id": "39353d83-bc85-4474-a65f-dfb0638aae0f",
   "metadata": {},
   "outputs": [],
   "source": [
    "class pwskills3 :\n",
    "    \n",
    "    mobile_num = 9095345034\n",
    "    \n",
    "    def __init__(self, name, email) : \n",
    "        self.name = name\n",
    "        self.email = email\n",
    "    \n",
    "    @classmethod\n",
    "    def details(cls, name1, email1) : # simply replacement of entite __init__ constructor & can be called by class name\n",
    "        return cls(name1, email1)\n",
    "    \n",
    "    @classmethod\n",
    "    def change_number(cls, mobile) : \n",
    "        pwskills3.mobile_num = mobile\n",
    "    \n",
    "    def student_details(self) :\n",
    "        print(self.name, self.email, pwskills2.mobile_num)"
   ]
  },
  {
   "cell_type": "code",
   "execution_count": 63,
   "id": "0b568b87-be57-411a-9720-0f9f0b5fedda",
   "metadata": {},
   "outputs": [
    {
     "data": {
      "text/plain": [
       "9095345034"
      ]
     },
     "execution_count": 63,
     "metadata": {},
     "output_type": "execute_result"
    }
   ],
   "source": [
    "pwskills3.mobile_num"
   ]
  },
  {
   "cell_type": "code",
   "execution_count": 64,
   "id": "33386b79-6abd-494f-b54b-4384910f1075",
   "metadata": {},
   "outputs": [],
   "source": [
    "pwskills3.change_number(8984693445)"
   ]
  },
  {
   "cell_type": "code",
   "execution_count": 65,
   "id": "331d2c57-4e7d-4962-822f-fe4b6c6ff8fe",
   "metadata": {},
   "outputs": [
    {
     "data": {
      "text/plain": [
       "8984693445"
      ]
     },
     "execution_count": 65,
     "metadata": {},
     "output_type": "execute_result"
    }
   ],
   "source": [
    "pwskills3.mobile_num"
   ]
  },
  {
   "cell_type": "code",
   "execution_count": 74,
   "id": "2bc09ad1-3a91-4495-8e4b-057730daea14",
   "metadata": {},
   "outputs": [],
   "source": [
    "class pwskills4 :\n",
    "    \n",
    "    mobile_num = 9095345034\n",
    "    \n",
    "    def __init__(self, name, email) : \n",
    "        self.name = name\n",
    "        self.email = email\n",
    "    \n",
    "    @classmethod\n",
    "    def details(cls, name1, email1) : # simply replacement of entite __init__ constructor & can be called by class name\n",
    "        return cls(name1, email1)\n",
    "    \n",
    "    @classmethod\n",
    "    def change_number(cls, mobile) : \n",
    "        pwskills3.mobile_num = mobile\n",
    "    \n",
    "    def student_details(self) :\n",
    "        print(self.name, self.email, pwskills2.mobile_num)"
   ]
  },
  {
   "cell_type": "code",
   "execution_count": 75,
   "id": "a96654a1-065a-4c00-b6be-42b605a6e348",
   "metadata": {},
   "outputs": [],
   "source": [
    "def course_details(cls, course_name) : #exernal class method\n",
    "    print(\"course details\", course_name)\n",
    "    "
   ]
  },
  {
   "cell_type": "code",
   "execution_count": 76,
   "id": "fef4bde6-4bb7-4593-979a-681e1220cf0a",
   "metadata": {},
   "outputs": [],
   "source": [
    "pwskills4.course_details = classmethod(course_details) # adding external class method to an existing class"
   ]
  },
  {
   "cell_type": "code",
   "execution_count": 77,
   "id": "c26d8d4d-49b1-4cff-972a-c438d11c1c80",
   "metadata": {},
   "outputs": [
    {
     "name": "stdout",
     "output_type": "stream",
     "text": [
      "course details DataScience\n"
     ]
    }
   ],
   "source": [
    "pwskills4.course_details('DataScience')"
   ]
  },
  {
   "cell_type": "code",
   "execution_count": 78,
   "id": "6388cf63-56bf-47a4-acf2-30fde5f3cd5a",
   "metadata": {},
   "outputs": [],
   "source": [
    "pw4 = pwskills4('ram', 'ram@gmail.com')"
   ]
  },
  {
   "cell_type": "code",
   "execution_count": 79,
   "id": "39de2b59-4d79-4849-b9a2-584067cb8e3f",
   "metadata": {},
   "outputs": [
    {
     "name": "stdout",
     "output_type": "stream",
     "text": [
      "course details web dev\n"
     ]
    }
   ],
   "source": [
    "pw4.course_details('web dev')"
   ]
  },
  {
   "cell_type": "code",
   "execution_count": 80,
   "id": "c03f695c-430f-4c91-969c-129e5a7d2db5",
   "metadata": {},
   "outputs": [],
   "source": [
    "class pwskills5 :\n",
    "    \n",
    "    mobile_num = 9095345034\n",
    "    \n",
    "    def __init__(self, name, email) : \n",
    "        self.name = name\n",
    "        self.email = email\n",
    "    \n",
    "    @classmethod\n",
    "    def details(cls, name1, email1) : # simply replacement of entite __init__ constructor & can be called by class name\n",
    "        return cls(name1, email1)\n",
    "    \n",
    "    @classmethod\n",
    "    def change_number(cls, mobile) : \n",
    "        pwskills3.mobile_num = mobile\n",
    "    \n",
    "    def student_details(self) :\n",
    "        print(self.name, self.email, pwskills2.mobile_num)"
   ]
  },
  {
   "cell_type": "code",
   "execution_count": 82,
   "id": "65af4f2e-4401-4b90-bf47-161f1ff39c4e",
   "metadata": {},
   "outputs": [],
   "source": [
    "del pwskills5.change_number"
   ]
  },
  {
   "cell_type": "code",
   "execution_count": 83,
   "id": "ead5b9c1-74d6-4dec-8ecd-011b05b15583",
   "metadata": {},
   "outputs": [
    {
     "ename": "AttributeError",
     "evalue": "type object 'pwskills5' has no attribute 'change_number'",
     "output_type": "error",
     "traceback": [
      "\u001b[0;31m---------------------------------------------------------------------------\u001b[0m",
      "\u001b[0;31mAttributeError\u001b[0m                            Traceback (most recent call last)",
      "Cell \u001b[0;32mIn[83], line 1\u001b[0m\n\u001b[0;32m----> 1\u001b[0m \u001b[43mpwskills5\u001b[49m\u001b[38;5;241;43m.\u001b[39;49m\u001b[43mchange_number\u001b[49m(\u001b[38;5;241m87506745\u001b[39m)\n",
      "\u001b[0;31mAttributeError\u001b[0m: type object 'pwskills5' has no attribute 'change_number'"
     ]
    }
   ],
   "source": [
    "pwskills5.change_number(87506745)"
   ]
  },
  {
   "cell_type": "code",
   "execution_count": 84,
   "id": "3f12ad2c-b42d-4e82-b7a6-df58a6cf36d6",
   "metadata": {},
   "outputs": [],
   "source": [
    "delattr(pwskills5, 'details')"
   ]
  },
  {
   "cell_type": "code",
   "execution_count": 85,
   "id": "bf92ba72-d71c-404a-b4e0-1213d94311c6",
   "metadata": {},
   "outputs": [
    {
     "ename": "AttributeError",
     "evalue": "type object 'pwskills5' has no attribute 'details'",
     "output_type": "error",
     "traceback": [
      "\u001b[0;31m---------------------------------------------------------------------------\u001b[0m",
      "\u001b[0;31mAttributeError\u001b[0m                            Traceback (most recent call last)",
      "Cell \u001b[0;32mIn[85], line 1\u001b[0m\n\u001b[0;32m----> 1\u001b[0m \u001b[43mpwskills5\u001b[49m\u001b[38;5;241;43m.\u001b[39;49m\u001b[43mdetails\u001b[49m\n",
      "\u001b[0;31mAttributeError\u001b[0m: type object 'pwskills5' has no attribute 'details'"
     ]
    }
   ],
   "source": [
    "pwskills5.details"
   ]
  },
  {
   "cell_type": "code",
   "execution_count": 86,
   "id": "51beefe1-8a21-40ef-93ba-aad7bbee23eb",
   "metadata": {},
   "outputs": [
    {
     "data": {
      "text/plain": [
       "9095345034"
      ]
     },
     "execution_count": 86,
     "metadata": {},
     "output_type": "execute_result"
    }
   ],
   "source": [
    "pwskills5.mobile_num"
   ]
  },
  {
   "cell_type": "code",
   "execution_count": 87,
   "id": "0411a737-0d8f-480f-b3ac-8449946b760d",
   "metadata": {},
   "outputs": [],
   "source": [
    "delattr(pwskills5, 'mobile_num')"
   ]
  },
  {
   "cell_type": "code",
   "execution_count": 88,
   "id": "b639862a-d999-433a-9e6b-a0c0918debb9",
   "metadata": {},
   "outputs": [
    {
     "ename": "AttributeError",
     "evalue": "type object 'pwskills5' has no attribute 'mobile_num'",
     "output_type": "error",
     "traceback": [
      "\u001b[0;31m---------------------------------------------------------------------------\u001b[0m",
      "\u001b[0;31mAttributeError\u001b[0m                            Traceback (most recent call last)",
      "Cell \u001b[0;32mIn[88], line 1\u001b[0m\n\u001b[0;32m----> 1\u001b[0m \u001b[43mpwskills5\u001b[49m\u001b[38;5;241;43m.\u001b[39;49m\u001b[43mmobile_num\u001b[49m\n",
      "\u001b[0;31mAttributeError\u001b[0m: type object 'pwskills5' has no attribute 'mobile_num'"
     ]
    }
   ],
   "source": [
    "pwskills5.mobile_num"
   ]
  },
  {
   "cell_type": "code",
   "execution_count": null,
   "id": "e4cd1106-0a9c-4bed-8097-bc756019aec4",
   "metadata": {},
   "outputs": [],
   "source": []
  }
 ],
 "metadata": {
  "kernelspec": {
   "display_name": "Python 3 (ipykernel)",
   "language": "python",
   "name": "python3"
  },
  "language_info": {
   "codemirror_mode": {
    "name": "ipython",
    "version": 3
   },
   "file_extension": ".py",
   "mimetype": "text/x-python",
   "name": "python",
   "nbconvert_exporter": "python",
   "pygments_lexer": "ipython3",
   "version": "3.10.8"
  }
 },
 "nbformat": 4,
 "nbformat_minor": 5
}
