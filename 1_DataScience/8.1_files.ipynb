{
 "cells": [
  {
   "cell_type": "code",
   "execution_count": 11,
   "id": "2044fcec-c2d1-405c-a1b4-ff4db0f9df18",
   "metadata": {},
   "outputs": [],
   "source": [
    "f = open('test.txt', 'w') # write mode overwrites the data in the file"
   ]
  },
  {
   "cell_type": "code",
   "execution_count": 12,
   "id": "5b7d86c4-c019-485c-b5b8-0867f903f0cf",
   "metadata": {},
   "outputs": [
    {
     "data": {
      "text/plain": [
       "'/home/jovyan/work/DataScienceCourse'"
      ]
     },
     "execution_count": 12,
     "metadata": {},
     "output_type": "execute_result"
    }
   ],
   "source": [
    "pwd"
   ]
  },
  {
   "cell_type": "code",
   "execution_count": 13,
   "id": "d4799288-5942-4863-9999-70dd3e21772c",
   "metadata": {},
   "outputs": [
    {
     "name": "stdout",
     "output_type": "stream",
     "text": [
      " 1_Python_Programming_Language_Overview.ipynb\n",
      " 2_Control_Flow.ipynb\n",
      " 3_Expressions_Operators_and_Precedence.ipynb\n",
      " 4_String_manipulation_and_methods.ipynb\n",
      " 5.1_Sets.ipynb\n",
      "'5.2_Dict Eng.ipynb'\n",
      "'5_Tuple Eng.ipynb'\n",
      " 6.1_functions.ipynb\n",
      " 6.2_functions.ipynb\n",
      " 7.1_OOPS.ipynb\n",
      " 7.2_Polymorphism.ipynb\n",
      " 7.3_Encapsulation.ipynb\n",
      " 7.4_Inheritance.ipynb\n",
      " 7.5_Abstraction.ipynb\n",
      "'7.6_decorators&class_methods.ipynb'\n",
      " 7.7_static_methods.ipynb\n",
      " 7.8_special_or_magic_dunder_methods.ipynb\n",
      " 7.9_property_decorator_setters_deleters.ipynb\n",
      " 8.1_files.ipynb\n",
      " test.txt\n"
     ]
    }
   ],
   "source": [
    "ls"
   ]
  },
  {
   "cell_type": "code",
   "execution_count": 14,
   "id": "679599d1-1bc0-4b51-8c4b-3a6f299dec44",
   "metadata": {},
   "outputs": [
    {
     "data": {
      "text/plain": [
       "44"
      ]
     },
     "execution_count": 14,
     "metadata": {},
     "output_type": "execute_result"
    }
   ],
   "source": [
    "f.write(\"this is my first write operation in the file\")"
   ]
  },
  {
   "cell_type": "code",
   "execution_count": 15,
   "id": "da83788a-79ef-4cc0-ac6a-1eab67dfe644",
   "metadata": {},
   "outputs": [],
   "source": [
    "f.close()"
   ]
  },
  {
   "cell_type": "code",
   "execution_count": 16,
   "id": "d21b60ea-00fa-421f-b04d-928d02c6c2c2",
   "metadata": {},
   "outputs": [],
   "source": [
    "f = open('test.txt', 'a')"
   ]
  },
  {
   "cell_type": "code",
   "execution_count": 17,
   "id": "87989e77-0bbb-459c-a9bd-004fbb23224b",
   "metadata": {},
   "outputs": [
    {
     "data": {
      "text/plain": [
       "46"
      ]
     },
     "execution_count": 17,
     "metadata": {},
     "output_type": "execute_result"
    }
   ],
   "source": [
    "f.write(\" this is my second write operation in the file\")"
   ]
  },
  {
   "cell_type": "code",
   "execution_count": 18,
   "id": "f3bd149d-d501-4893-bfe9-6c558846b4de",
   "metadata": {},
   "outputs": [],
   "source": [
    "f.close()"
   ]
  },
  {
   "cell_type": "code",
   "execution_count": 19,
   "id": "26ace482-2dfc-4b64-8b1f-a3a970f3cd99",
   "metadata": {},
   "outputs": [
    {
     "ename": "ValueError",
     "evalue": "I/O operation on closed file.",
     "output_type": "error",
     "traceback": [
      "\u001b[0;31m---------------------------------------------------------------------------\u001b[0m",
      "\u001b[0;31mValueError\u001b[0m                                Traceback (most recent call last)",
      "Cell \u001b[0;32mIn[19], line 1\u001b[0m\n\u001b[0;32m----> 1\u001b[0m \u001b[43mf\u001b[49m\u001b[38;5;241;43m.\u001b[39;49m\u001b[43mread\u001b[49m\u001b[43m(\u001b[49m\u001b[43m)\u001b[49m\n",
      "\u001b[0;31mValueError\u001b[0m: I/O operation on closed file."
     ]
    }
   ],
   "source": [
    "f.read()"
   ]
  },
  {
   "cell_type": "code",
   "execution_count": 20,
   "id": "56643314-866c-4d3a-9d9c-33b99b8a0d33",
   "metadata": {},
   "outputs": [],
   "source": [
    "f = open('test.txt', 'r')"
   ]
  },
  {
   "cell_type": "code",
   "execution_count": 21,
   "id": "292eaac1-df17-4065-8657-d5600bb41af1",
   "metadata": {},
   "outputs": [
    {
     "data": {
      "text/plain": [
       "'this is my first write operation in the file this is my second write operation in the file'"
      ]
     },
     "execution_count": 21,
     "metadata": {},
     "output_type": "execute_result"
    }
   ],
   "source": [
    "f.read()"
   ]
  },
  {
   "cell_type": "code",
   "execution_count": 22,
   "id": "06d13a56-0dbe-4d2d-9772-6d02c7e36d79",
   "metadata": {},
   "outputs": [
    {
     "data": {
      "text/plain": [
       "''"
      ]
     },
     "execution_count": 22,
     "metadata": {},
     "output_type": "execute_result"
    }
   ],
   "source": [
    "f.read() # cursor is at the end"
   ]
  },
  {
   "cell_type": "code",
   "execution_count": 23,
   "id": "a9082641-562c-4ef4-85a3-cd7f66a72684",
   "metadata": {},
   "outputs": [
    {
     "data": {
      "text/plain": [
       "0"
      ]
     },
     "execution_count": 23,
     "metadata": {},
     "output_type": "execute_result"
    }
   ],
   "source": [
    "f.seek(0) #placing the cursor to the begining"
   ]
  },
  {
   "cell_type": "code",
   "execution_count": 24,
   "id": "514e9c6d-a934-4691-a073-74784942477e",
   "metadata": {},
   "outputs": [
    {
     "data": {
      "text/plain": [
       "'this is my first write operation in the file this is my second write operation in the file'"
      ]
     },
     "execution_count": 24,
     "metadata": {},
     "output_type": "execute_result"
    }
   ],
   "source": [
    "f.read()"
   ]
  },
  {
   "cell_type": "code",
   "execution_count": 25,
   "id": "2d92e013-40c4-4865-82d6-bde2c4118d32",
   "metadata": {},
   "outputs": [
    {
     "data": {
      "text/plain": [
       "30"
      ]
     },
     "execution_count": 25,
     "metadata": {},
     "output_type": "execute_result"
    }
   ],
   "source": [
    "f.seek(30)"
   ]
  },
  {
   "cell_type": "code",
   "execution_count": 26,
   "id": "89d34940-94da-46ea-80f6-afe338c5ca8d",
   "metadata": {},
   "outputs": [
    {
     "data": {
      "text/plain": [
       "'on in the file this is my second write operation in the file'"
      ]
     },
     "execution_count": 26,
     "metadata": {},
     "output_type": "execute_result"
    }
   ],
   "source": [
    "f.read()"
   ]
  },
  {
   "cell_type": "code",
   "execution_count": 27,
   "id": "e3988371-457b-4eba-9ecd-bfb365d0b4da",
   "metadata": {},
   "outputs": [],
   "source": [
    "f1 = open('test.txt', 'r')"
   ]
  },
  {
   "cell_type": "code",
   "execution_count": 28,
   "id": "ae8d8a35-d177-4419-88e8-b8e515a51bf1",
   "metadata": {},
   "outputs": [
    {
     "name": "stdout",
     "output_type": "stream",
     "text": [
      "this is my first write operation in the file this is my second write operation in the file\n"
     ]
    }
   ],
   "source": [
    "for i in f1:\n",
    "    print(i)"
   ]
  },
  {
   "cell_type": "code",
   "execution_count": 29,
   "id": "7dd02723-8029-4139-9c46-bac8f4b1b6d2",
   "metadata": {},
   "outputs": [],
   "source": [
    "import os"
   ]
  },
  {
   "cell_type": "code",
   "execution_count": 31,
   "id": "4c14c345-30ca-47ef-96ba-4e155580784b",
   "metadata": {},
   "outputs": [
    {
     "data": {
      "text/plain": [
       "90"
      ]
     },
     "execution_count": 31,
     "metadata": {},
     "output_type": "execute_result"
    }
   ],
   "source": [
    "os.path.getsize('test.txt') # size in bytes"
   ]
  },
  {
   "cell_type": "code",
   "execution_count": 32,
   "id": "34a5d45d-1ec4-41e2-b6ea-15cc3c1c50b8",
   "metadata": {},
   "outputs": [],
   "source": [
    "import shutil"
   ]
  },
  {
   "cell_type": "code",
   "execution_count": 33,
   "id": "3466197a-69e2-4b38-b76c-d08221804fb9",
   "metadata": {},
   "outputs": [
    {
     "data": {
      "text/plain": [
       "'new_test.txt'"
      ]
     },
     "execution_count": 33,
     "metadata": {},
     "output_type": "execute_result"
    }
   ],
   "source": [
    "shutil.copy('test.txt', 'new_test.txt')"
   ]
  },
  {
   "cell_type": "code",
   "execution_count": 34,
   "id": "4f9b9b95-2e16-4f41-adda-b2d3007301a8",
   "metadata": {},
   "outputs": [],
   "source": [
    "os.remove('new_test.txt')"
   ]
  },
  {
   "cell_type": "code",
   "execution_count": 35,
   "id": "0b7ac237-b854-4d96-bf89-3ed2885995f7",
   "metadata": {},
   "outputs": [
    {
     "name": "stdout",
     "output_type": "stream",
     "text": [
      "this is my first write operation in the file this is my second write operation in the file\n"
     ]
    }
   ],
   "source": [
    "with open('test.txt', 'r') as f: \n",
    "    print(f.read())"
   ]
  },
  {
   "cell_type": "code",
   "execution_count": 36,
   "id": "b647b2f9-d87a-4fc8-aa5d-972e9e0930b7",
   "metadata": {},
   "outputs": [],
   "source": [
    "os.rename('test.txt', 'test1.txt')"
   ]
  },
  {
   "cell_type": "code",
   "execution_count": null,
   "id": "8e7b075c-06b4-4f14-9983-3d1c204e625a",
   "metadata": {},
   "outputs": [],
   "source": []
  }
 ],
 "metadata": {
  "kernelspec": {
   "display_name": "Python 3 (ipykernel)",
   "language": "python",
   "name": "python3"
  },
  "language_info": {
   "codemirror_mode": {
    "name": "ipython",
    "version": 3
   },
   "file_extension": ".py",
   "mimetype": "text/x-python",
   "name": "python",
   "nbconvert_exporter": "python",
   "pygments_lexer": "ipython3",
   "version": "3.10.8"
  }
 },
 "nbformat": 4,
 "nbformat_minor": 5
}
