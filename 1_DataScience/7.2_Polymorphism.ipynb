{
 "cells": [
  {
   "cell_type": "code",
   "execution_count": 11,
   "id": "6466e3c8-92ca-4163-baad-c162d674fbb6",
   "metadata": {},
   "outputs": [
    {
     "data": {
      "text/plain": [
       "6"
      ]
     },
     "execution_count": 11,
     "metadata": {},
     "output_type": "execute_result"
    }
   ],
   "source": [
    "def test(a, b):\n",
    "    return a+b\n",
    "\n",
    "test(2, 4)"
   ]
  },
  {
   "cell_type": "code",
   "execution_count": 12,
   "id": "f59a8b67-e2eb-4f90-8b2a-423c86fc2ea1",
   "metadata": {},
   "outputs": [
    {
     "data": {
      "text/plain": [
       "'Rama Manohar'"
      ]
     },
     "execution_count": 12,
     "metadata": {},
     "output_type": "execute_result"
    }
   ],
   "source": [
    "test('Rama', ' Manohar')"
   ]
  },
  {
   "cell_type": "code",
   "execution_count": 13,
   "id": "6c4244a2-3f01-4b0a-9f78-866a56c78559",
   "metadata": {},
   "outputs": [
    {
     "data": {
      "text/plain": [
       "[1, 2, 3, 4, 5, 6, 7, 8, 9, 10]"
      ]
     },
     "execution_count": 13,
     "metadata": {},
     "output_type": "execute_result"
    }
   ],
   "source": [
    "test([1,2,3,4,5], [6,7,8,9,10])"
   ]
  },
  {
   "cell_type": "code",
   "execution_count": 14,
   "id": "32673510-3199-4392-903e-efd1ab37b6b8",
   "metadata": {},
   "outputs": [],
   "source": [
    "class data_science :\n",
    "    \n",
    "    def syllabus(self) :\n",
    "        print(\"this is my method for data_science syllabus\")"
   ]
  },
  {
   "cell_type": "code",
   "execution_count": 15,
   "id": "ecab081b-c5c4-4e9d-ab51-38ff197ccf97",
   "metadata": {},
   "outputs": [],
   "source": [
    "class web_dev : \n",
    "    \n",
    "    def syllabus(self) : \n",
    "        print(\"this is my method for web_dev syllabus\")"
   ]
  },
  {
   "cell_type": "code",
   "execution_count": 17,
   "id": "f2d35e19-230f-49b9-aeba-05d161f3ac60",
   "metadata": {},
   "outputs": [],
   "source": [
    "def class_parser(class_obj) : \n",
    "    \n",
    "    for i in class_obj:\n",
    "        i.syllabus()"
   ]
  },
  {
   "cell_type": "code",
   "execution_count": 18,
   "id": "ac0011f0-c215-4199-a0b5-cb69956bada3",
   "metadata": {},
   "outputs": [],
   "source": [
    "obj_data_science = data_science()"
   ]
  },
  {
   "cell_type": "code",
   "execution_count": 19,
   "id": "924d3f18-6bc3-4675-9641-754f38696ba9",
   "metadata": {},
   "outputs": [],
   "source": [
    "obj_web_dev = web_dev()"
   ]
  },
  {
   "cell_type": "code",
   "execution_count": 20,
   "id": "ef263ce0-2230-46ef-90df-3e834500397c",
   "metadata": {},
   "outputs": [],
   "source": [
    "class_obj = [obj_data_science, obj_web_dev]"
   ]
  },
  {
   "cell_type": "code",
   "execution_count": 21,
   "id": "5da5040c-7de1-41c6-bc2d-9f673213ad40",
   "metadata": {},
   "outputs": [
    {
     "name": "stdout",
     "output_type": "stream",
     "text": [
      "this is my method for data_science syllabus\n",
      "this is my method for web_dev syllabus\n"
     ]
    }
   ],
   "source": [
    "class_parser(class_obj)"
   ]
  },
  {
   "cell_type": "code",
   "execution_count": null,
   "id": "0042c1fe-7787-40f0-85c6-ccceaf9706de",
   "metadata": {},
   "outputs": [],
   "source": []
  }
 ],
 "metadata": {
  "kernelspec": {
   "display_name": "Python 3 (ipykernel)",
   "language": "python",
   "name": "python3"
  },
  "language_info": {
   "codemirror_mode": {
    "name": "ipython",
    "version": 3
   },
   "file_extension": ".py",
   "mimetype": "text/x-python",
   "name": "python",
   "nbconvert_exporter": "python",
   "pygments_lexer": "ipython3",
   "version": "3.10.8"
  }
 },
 "nbformat": 4,
 "nbformat_minor": 5
}
