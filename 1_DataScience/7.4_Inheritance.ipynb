{
 "cells": [
  {
   "cell_type": "code",
   "execution_count": 1,
   "id": "e0baa153-6da5-4d7c-afdd-b85bb6134b72",
   "metadata": {},
   "outputs": [],
   "source": [
    "class parent : \n",
    "    \n",
    "    def test_parent(self):\n",
    "        print(\"this is my parent class\")"
   ]
  },
  {
   "cell_type": "code",
   "execution_count": 7,
   "id": "85968f5c-7266-44ab-beb0-0e242751e77c",
   "metadata": {},
   "outputs": [],
   "source": [
    "class child(parent) :\n",
    "    pass"
   ]
  },
  {
   "cell_type": "code",
   "execution_count": 8,
   "id": "b1d89eba-6cbe-4517-ac1a-80f3ec79c723",
   "metadata": {},
   "outputs": [],
   "source": [
    "child_obj = child()"
   ]
  },
  {
   "cell_type": "code",
   "execution_count": 9,
   "id": "abf9eecb-d741-473f-976d-727d29e30eba",
   "metadata": {},
   "outputs": [
    {
     "name": "stdout",
     "output_type": "stream",
     "text": [
      "this is my parent class\n"
     ]
    }
   ],
   "source": [
    "child_obj.test_parent()"
   ]
  },
  {
   "cell_type": "code",
   "execution_count": 10,
   "id": "cb5741e2-87a5-4a22-8b02-406525922a0c",
   "metadata": {},
   "outputs": [],
   "source": [
    "# multi-leve inheritance\n",
    "\n",
    "class class1 :\n",
    "    def test_class1(self) : \n",
    "        print(\"this is my class1\")"
   ]
  },
  {
   "cell_type": "code",
   "execution_count": 11,
   "id": "163ffbc4-7b74-4e1e-b731-a291afb1cdb5",
   "metadata": {},
   "outputs": [],
   "source": [
    "class class2(class1) :\n",
    "    def test_class2(self) : \n",
    "        print(\"this is my class 2\")"
   ]
  },
  {
   "cell_type": "code",
   "execution_count": 13,
   "id": "94bb85db-6b07-4b8b-a8f7-92826cbdbec9",
   "metadata": {},
   "outputs": [],
   "source": [
    "class class3(class2) :\n",
    "    def test_class3(self) : \n",
    "        print(\"this is my class 3\")"
   ]
  },
  {
   "cell_type": "code",
   "execution_count": 14,
   "id": "5bff9555-bee1-4dae-bbc8-8b6113833bc8",
   "metadata": {},
   "outputs": [],
   "source": [
    "class3_obj = class3()"
   ]
  },
  {
   "cell_type": "code",
   "execution_count": 15,
   "id": "c3d66c55-1eb2-4b6b-ae44-767697245850",
   "metadata": {},
   "outputs": [
    {
     "name": "stdout",
     "output_type": "stream",
     "text": [
      "this is my class 2\n"
     ]
    }
   ],
   "source": [
    "class3_obj.test_class2()"
   ]
  },
  {
   "cell_type": "code",
   "execution_count": 16,
   "id": "c66a61ea-dacc-4611-8c50-6cd8acf3d4c6",
   "metadata": {},
   "outputs": [
    {
     "name": "stdout",
     "output_type": "stream",
     "text": [
      "this is my class1\n"
     ]
    }
   ],
   "source": [
    "class3_obj.test_class1()"
   ]
  },
  {
   "cell_type": "code",
   "execution_count": 17,
   "id": "81af3b03-0470-4332-ae4b-f1e749113c56",
   "metadata": {},
   "outputs": [
    {
     "name": "stdout",
     "output_type": "stream",
     "text": [
      "this is my class 3\n"
     ]
    }
   ],
   "source": [
    "class3_obj.test_class3()"
   ]
  },
  {
   "cell_type": "code",
   "execution_count": 23,
   "id": "50662bc1-a60f-4a75-b08b-c0e990f9e31d",
   "metadata": {},
   "outputs": [],
   "source": [
    "# multiple inheritance\n",
    "class class1 :\n",
    "    def test_class1(self) : \n",
    "        print(\"this is my class1\")"
   ]
  },
  {
   "cell_type": "code",
   "execution_count": 24,
   "id": "eca82b45-354b-4c34-bd49-6b5c67bafeed",
   "metadata": {},
   "outputs": [],
   "source": [
    "class class2 :\n",
    "    def test_class2(self) : \n",
    "        print(\"this is my class 2\")"
   ]
  },
  {
   "cell_type": "code",
   "execution_count": 25,
   "id": "eb8a6ccd-1ef4-4da8-a0d4-eb63b02903df",
   "metadata": {},
   "outputs": [],
   "source": [
    "class class3(class1, class2) :\n",
    "    def test_class3(self) : \n",
    "        print(\"this is my class 3\")"
   ]
  },
  {
   "cell_type": "code",
   "execution_count": 26,
   "id": "e32882aa-d132-4964-9368-f9720c461e76",
   "metadata": {},
   "outputs": [],
   "source": [
    "obj_class3 = class3()"
   ]
  },
  {
   "cell_type": "code",
   "execution_count": 27,
   "id": "d921580f-3e16-4573-b20f-edafcd5813ef",
   "metadata": {},
   "outputs": [
    {
     "name": "stdout",
     "output_type": "stream",
     "text": [
      "this is my class 2\n"
     ]
    }
   ],
   "source": [
    "obj_class3.test_class2()"
   ]
  },
  {
   "cell_type": "code",
   "execution_count": 28,
   "id": "ccdaeca7-cc1f-48f3-a8c5-a6f5a09c5c79",
   "metadata": {},
   "outputs": [
    {
     "name": "stdout",
     "output_type": "stream",
     "text": [
      "this is my class1\n"
     ]
    }
   ],
   "source": [
    "obj_class3.test_class1()"
   ]
  },
  {
   "cell_type": "code",
   "execution_count": null,
   "id": "943f7859-3ea7-4fe6-822f-e073eb80150a",
   "metadata": {},
   "outputs": [],
   "source": []
  }
 ],
 "metadata": {
  "kernelspec": {
   "display_name": "Python 3 (ipykernel)",
   "language": "python",
   "name": "python3"
  },
  "language_info": {
   "codemirror_mode": {
    "name": "ipython",
    "version": 3
   },
   "file_extension": ".py",
   "mimetype": "text/x-python",
   "name": "python",
   "nbconvert_exporter": "python",
   "pygments_lexer": "ipython3",
   "version": "3.10.8"
  }
 },
 "nbformat": 4,
 "nbformat_minor": 5
}
