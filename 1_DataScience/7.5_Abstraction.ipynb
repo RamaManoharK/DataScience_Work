{
 "cells": [
  {
   "cell_type": "code",
   "execution_count": 57,
   "id": "20ccb110-a20f-4d13-8dfb-f4b52e124290",
   "metadata": {},
   "outputs": [],
   "source": [
    "import abc\n",
    "\n",
    "class pwskills : \n",
    "    \n",
    "    @abc.abstractmethod\n",
    "    def student_details(self) :\n",
    "        pass\n",
    "    \n",
    "    @abc.abstractmethod\n",
    "    def student_assignment(self) : \n",
    "        pass\n",
    "    \n",
    "    @abc.abstractmethod\n",
    "    def student_marks(self) : \n",
    "        pass"
   ]
  },
  {
   "cell_type": "code",
   "execution_count": 58,
   "id": "f464354c-5c91-420b-8acb-e133fa693169",
   "metadata": {},
   "outputs": [],
   "source": [
    "class data_science(pwskills) :\n",
    "    \n",
    "    def student_details(self) : \n",
    "        return 'it will try to return details of data_science masters' \n",
    "    \n",
    "    def student_assignment(self) :\n",
    "        return 'it will return the details of student_assignments from data_science'"
   ]
  },
  {
   "cell_type": "code",
   "execution_count": 59,
   "id": "01f09729-8e44-4f8e-8656-987fa2d4a5bc",
   "metadata": {},
   "outputs": [],
   "source": [
    "class web_dev(pwskills) :\n",
    "    \n",
    "    def student_details(self) : \n",
    "        return 'it will try to return details of web_dev' \n",
    "    \n",
    "    def student_marks(self) :\n",
    "        return 'it will return the marks of web_dev'"
   ]
  },
  {
   "cell_type": "code",
   "execution_count": 60,
   "id": "49baeec3-d72d-41be-a3e2-ab1b075eb0c4",
   "metadata": {},
   "outputs": [],
   "source": [
    "ds = data_science()"
   ]
  },
  {
   "cell_type": "code",
   "execution_count": 61,
   "id": "8244d3c5-ed89-42b9-b7e1-3bc593e6fb06",
   "metadata": {},
   "outputs": [
    {
     "data": {
      "text/plain": [
       "'it will try to return details of data_science masters'"
      ]
     },
     "execution_count": 61,
     "metadata": {},
     "output_type": "execute_result"
    }
   ],
   "source": [
    "ds.student_details()"
   ]
  },
  {
   "cell_type": "code",
   "execution_count": 62,
   "id": "2cbcedac-1b7b-45a0-b87f-b91f97c292f0",
   "metadata": {},
   "outputs": [],
   "source": [
    "wd = web_dev()"
   ]
  },
  {
   "cell_type": "code",
   "execution_count": 64,
   "id": "f4d670fa-36e3-441a-9f81-ddfea08d960c",
   "metadata": {},
   "outputs": [
    {
     "data": {
      "text/plain": [
       "'it will try to return details of web_dev'"
      ]
     },
     "execution_count": 64,
     "metadata": {},
     "output_type": "execute_result"
    }
   ],
   "source": [
    "wd.student_details()"
   ]
  },
  {
   "cell_type": "code",
   "execution_count": null,
   "id": "3f6e7e18-4612-48db-8045-3efc204dcf5c",
   "metadata": {},
   "outputs": [],
   "source": []
  }
 ],
 "metadata": {
  "kernelspec": {
   "display_name": "Python 3 (ipykernel)",
   "language": "python",
   "name": "python3"
  },
  "language_info": {
   "codemirror_mode": {
    "name": "ipython",
    "version": 3
   },
   "file_extension": ".py",
   "mimetype": "text/x-python",
   "name": "python",
   "nbconvert_exporter": "python",
   "pygments_lexer": "ipython3",
   "version": "3.10.8"
  }
 },
 "nbformat": 4,
 "nbformat_minor": 5
}
