{
 "cells": [
  {
   "cell_type": "markdown",
   "id": "cf911e37-13e7-4d4e-bdbf-6fec0127e482",
   "metadata": {},
   "source": [
    "### Q1. Explain Class and Object with respect to Object-Oriented Programming. Give a suitable example.\n",
    "\n",
    "    A class is a user-defined data type. It consists of data members and member functions, which can be accessed and used by creating an instance of that class. It represents the set of properties or methods that are common to all objects of one type. A class is like a blueprint for an object.\n",
    "    \n",
    "    An Object is an instance of a Class. When a class is defined, no memory is allocated but when it is instantiated (i.e. an object is created) memory is allocated. An object has an identity, state, and behavior. Each object contains data and code to manipulate the data.\n",
    "    \n",
    "    For example, consider the Class of bank_accounts. There may be many users accounts with different names and types,  but all of them will share some common properties such as balance, account holder name, etc. So here, the Account is the class.\n",
    "    \n",
    "    For Example, considering the objects for the this class Account are user_id's"
   ]
  },
  {
   "cell_type": "code",
   "execution_count": 168,
   "id": "f28ddbb3-a456-42d2-bcd9-b2906f812162",
   "metadata": {},
   "outputs": [],
   "source": [
    "class bank_account: # defining class\n",
    "    \n",
    "    # init method or constructor\n",
    "    def __init__(self, name, balance, email_id, user_id) :\n",
    "        \n",
    "        self.name = name\n",
    "        self.balance = balance\n",
    "        self.email_id = email_id\n",
    "        self.user_id = user_id\n",
    "    \n",
    "    def return_account_details(self):\n",
    "        \n",
    "         return self.name, self.balance, self.email_id, self.user_id"
   ]
  },
  {
   "cell_type": "code",
   "execution_count": 169,
   "id": "36793bc5-7a80-4fae-87cc-d54c71906c98",
   "metadata": {},
   "outputs": [],
   "source": [
    "ram = bank_account('Rama', 1500000, 'rama@gmail.com', 101) # object creation"
   ]
  },
  {
   "cell_type": "code",
   "execution_count": 170,
   "id": "4e789592-8181-4776-9efe-4a67928ca99e",
   "metadata": {},
   "outputs": [
    {
     "data": {
      "text/plain": [
       "101"
      ]
     },
     "execution_count": 170,
     "metadata": {},
     "output_type": "execute_result"
    }
   ],
   "source": [
    "ram.user_id"
   ]
  },
  {
   "cell_type": "code",
   "execution_count": 171,
   "id": "759bed65-7f7e-4654-a2f8-b4f0ec33bbb5",
   "metadata": {},
   "outputs": [
    {
     "data": {
      "text/plain": [
       "1500000"
      ]
     },
     "execution_count": 171,
     "metadata": {},
     "output_type": "execute_result"
    }
   ],
   "source": [
    "ram.balance"
   ]
  },
  {
   "cell_type": "code",
   "execution_count": 172,
   "id": "38fd75ec-b011-4e32-8f32-762a4766c269",
   "metadata": {},
   "outputs": [
    {
     "data": {
      "text/plain": [
       "('Rama', 1500000, 'rama@gmail.com', 101)"
      ]
     },
     "execution_count": 172,
     "metadata": {},
     "output_type": "execute_result"
    }
   ],
   "source": [
    "ram.return_account_details() # class method calling"
   ]
  },
  {
   "cell_type": "markdown",
   "id": "6277dd04-2436-4e63-beec-ceb53012f9dc",
   "metadata": {},
   "source": [
    "### Q2. Name the four pillars of OOPs.\n",
    "\n",
    "    There are four basic principles for writing clean and concise code. These principles are called the four pillars of object-oriented programming (OOP). \n",
    "    \n",
    "    These four pillars are:\n",
    "    \n",
    "        Inheritance :\n",
    "        \n",
    "            In Python it is possible to create an object that inherits the methods and properties of another object. This is called inheritance. In inheritance, there is a parent class and a child class. A child class inherits the properties and methods of the parent class.\n",
    "            \n",
    "        Polymorphism:\n",
    "        \n",
    "            Polymorphism simply means 'many forms'. In Python this means that you can have one function or object that can be used in different ways. Let's take an example of the addition operator (+); we can use it to add numbers, but we can also use it to concatenate strings.\n",
    "            \n",
    "        Encapsulation:\n",
    "            \n",
    "            Encapsulation is the process of making data private by wrapping data and its methods in a 'capsule' or unit, so that it can not be accessed or modified outside of that unit. This is achieved by making variables inside a class private. In Python we can make variables private by prefixing the variable name with a double underscore '__'.\n",
    "            \n",
    "            If you do not want to make the data private, you can make it protected. To make the variable protected, you only need to prefix the variable with a single underscore '_'. However, protected data can be accessed and modified outside the class. Adding a single underscore is simply a conventional way of informing other programmers that may use your code that the variable with an underscore prefix is protected and should not be modified.\n",
    "            \n",
    "        Abstraction :\n",
    "            \n",
    "            Abstraction is about keeping the process simple by hiding unnecessary details from the user.Think of a car, the actual mechanism that keeps a car moving is hidden from the user. It is important to know how to drive a car; but it is not necessarily important to know what happens under the hood when you drive the car. Abstraction is about keeping the internal mechanics of the code hidden from the user. This reduces the complexity of the code, and ensures that we only concentrate on what is important.\n",
    "            \n",
    "            In OOP abstraction is achieved by creating an interface class (base class) and implementation classes (subclasses).We can create an interface class using the built-in abc module."
   ]
  },
  {
   "cell_type": "markdown",
   "id": "8a57a9ee-d358-4382-83cc-8b28316a29d9",
   "metadata": {},
   "source": [
    "### Q3. Explain why the __init__() function is used. Give a suitable example.\n",
    "    \n",
    "    \"__init__\" is a reseved method in python classes. It is known as a constructor in object oriented concepts. This method called when an object is created from the class and it allows the class to initialize the attributes of a class."
   ]
  },
  {
   "cell_type": "code",
   "execution_count": 173,
   "id": "ab9cca90-a142-4445-ac25-69a8aef306d3",
   "metadata": {},
   "outputs": [],
   "source": [
    "class car:\n",
    "    \n",
    "    # init method or constructor\n",
    "    def __init__(self, model, color, company, speed_limit):\n",
    "        \n",
    "        self.model = model\n",
    "        self.color = color\n",
    "        self.company = company\n",
    "        self.speed_limit = speed_limit\n",
    "    \n",
    "    def return_car_details(self) :\n",
    "        \n",
    "        return self.model, self.color, self.company, self.speed_limit"
   ]
  },
  {
   "cell_type": "code",
   "execution_count": 174,
   "id": "f661497d-7b00-41df-ba35-2a5158f8aaa6",
   "metadata": {},
   "outputs": [],
   "source": [
    "maruthi_suzuki = car(\"ertiga\", \"black\", \"suzuki\", 60)\n",
    "audi = car(\"A6\", \"red\", \"audi\", 80)"
   ]
  },
  {
   "cell_type": "code",
   "execution_count": 175,
   "id": "9ac6e8ee-52db-4a77-bb1d-c9f11559e440",
   "metadata": {},
   "outputs": [
    {
     "data": {
      "text/plain": [
       "60"
      ]
     },
     "execution_count": 175,
     "metadata": {},
     "output_type": "execute_result"
    }
   ],
   "source": [
    "maruthi_suzuki.speed_limit"
   ]
  },
  {
   "cell_type": "code",
   "execution_count": 176,
   "id": "4204459d-da11-474d-a95f-b380f91ba2b7",
   "metadata": {},
   "outputs": [
    {
     "data": {
      "text/plain": [
       "('A6', 'red', 'audi', 80)"
      ]
     },
     "execution_count": 176,
     "metadata": {},
     "output_type": "execute_result"
    }
   ],
   "source": [
    "audi.return_car_details()"
   ]
  },
  {
   "cell_type": "markdown",
   "id": "b7cf65f3-842f-494a-a77b-62c5c73e2a27",
   "metadata": {},
   "source": [
    "### Q4. Why self is used in OOPs?\n",
    "\n",
    "    The self is used to represent the instance of the class. With this keyword, you can access the attributes and methods of the class in python. It binds the attributes with the given arguments. The reason why we use self is that Python does not use the '@' syntax to refer to instance attributes."
   ]
  },
  {
   "cell_type": "code",
   "execution_count": 177,
   "id": "55eca74c-6475-4afe-bc99-b89271ec2943",
   "metadata": {},
   "outputs": [
    {
     "name": "stdout",
     "output_type": "stream",
     "text": [
      "fruit is apple\n",
      "color is red\n",
      "fruit is grapes\n",
      "color is green\n"
     ]
    }
   ],
   "source": [
    "class food():\n",
    " \n",
    "    # init method or constructor\n",
    "    def __init__(self, fruit, color):\n",
    "        \n",
    "        self.fruit = fruit\n",
    "        self.color = color\n",
    "\n",
    "    def show(self):\n",
    "        \n",
    "        print(\"fruit is\", self.fruit)\n",
    "        print(\"color is\", self.color)\n",
    "\n",
    "\n",
    "apple = food(\"apple\", \"red\")\n",
    "grapes = food(\"grapes\", \"green\")\n",
    " \n",
    "apple.show()\n",
    "grapes.show()"
   ]
  },
  {
   "cell_type": "markdown",
   "id": "d1c25adb-8291-49ff-959f-253040bb6760",
   "metadata": {},
   "source": [
    "### Q5. What is inheritance? Give an example for each type of inheritance.\n",
    "\n",
    "    Inheritance in python programming is the concept of deriving a new class from an existing class. Using the concept of inheritance we can inherit the properties of the existing class to our new class. The new derived class is called the child class and the existing class is called the parent class.\n",
    "    \n",
    "    There are five types of inheritance in python programming:\n",
    "\n",
    "        1). Single inheritance\n",
    "        2). Multiple inheritances\n",
    "        3). Multilevel inheritance\n",
    "        4). Hierarchical inheritance\n",
    "        5). Hybrid inheritance"
   ]
  },
  {
   "cell_type": "code",
   "execution_count": 178,
   "id": "d8e3eb7c-fe75-47e2-a89f-bba0e517f993",
   "metadata": {},
   "outputs": [],
   "source": [
    "# single inheritance : When child class is derived from only one parent class. This is called single inheritance.\n",
    "\n",
    "class brand_names: # parent class\n",
    "    \n",
    "    brand_name_1 = \"Amazon\"\n",
    "    brand_name_2 = \"Ebay\"\n",
    "    brand_name_3 = \"OLX\"\n",
    "        \n",
    "class products(brand_names) : # child class\n",
    "    \n",
    "    prod_1 = \"Online Ecommerce Store\"\n",
    "    prod_2 = \"Online Store\"\n",
    "    prod_3 = \"Online Buy Sell Store\"     "
   ]
  },
  {
   "cell_type": "code",
   "execution_count": 180,
   "id": "4c85fe81-b0b2-49d0-a49f-75fe11ae3912",
   "metadata": {},
   "outputs": [
    {
     "name": "stdout",
     "output_type": "stream",
     "text": [
      "Amazon is Online Ecommerce Store \n",
      "Ebay is Online Store \n",
      "OLX is Online Buy Sell Store \n"
     ]
    }
   ],
   "source": [
    "obj_1 = products() # object initiation for child class which inheritates attributes & methods from parent class\n",
    "\n",
    "print('{} is {} '.format(obj_1.brand_name_1, obj_1.prod_1)) # accessing parent class attributes using child class object\n",
    "print('{} is {} '.format(obj_1.brand_name_2, obj_1.prod_2))\n",
    "print('{} is {} '.format(obj_1.brand_name_3, obj_1.prod_3))\n"
   ]
  },
  {
   "cell_type": "code",
   "execution_count": 181,
   "id": "72e01e43-246c-4968-882c-3961ff95144c",
   "metadata": {},
   "outputs": [],
   "source": [
    "# Multiple Inheritance: When child class is derived or inherited from more than one parent class. This is called multiple inheritance.\n",
    "# In multiple inheritance, we have two parent classes/base classes and one child class that inherits both parent classes properties.\n",
    "\n",
    "class brand_names: # parent class\n",
    "    \n",
    "    brand_name_1 = \"Amazon\"\n",
    "    brand_name_2 = \"Ebay\"\n",
    "    brand_name_3 = \"OLX\"\n",
    "        \n",
    "class products : # parent class\n",
    "    \n",
    "    prod_1 = \"Online Ecommerce Store\"\n",
    "    prod_2 = \"Online Store\"\n",
    "    prod_3 = \"Online Buy Sell Store\" \n",
    "    \n",
    "class popularity(brand_names, products) : # child class\n",
    "    \n",
    "    prod_1_popularity = 100\n",
    "    prod_2_popularity = 70\n",
    "    prod_3_popularity = 60\n"
   ]
  },
  {
   "cell_type": "code",
   "execution_count": 182,
   "id": "61a57cf3-28c0-44e4-a27f-d29a91f09328",
   "metadata": {},
   "outputs": [
    {
     "name": "stdout",
     "output_type": "stream",
     "text": [
      "Amazon is an Online Ecommerce Store with popularity 100\n",
      "Ebay is an Online Store with popularity 70\n",
      "OLX is an Online Buy Sell Store with popularity 60\n"
     ]
    }
   ],
   "source": [
    "\n",
    "obj_2 = popularity() # object initiation for child class which inheritates attributes & methods from parent class\n",
    "\n",
    "# accessing parent class attributes using child class object\n",
    "\n",
    "print('{} is an {} with popularity {}'.format(obj_2.brand_name_1, obj_2.prod_1, obj_2.prod_1_popularity))\n",
    "print('{} is an {} with popularity {}'.format(obj_2.brand_name_2, obj_2.prod_2, obj_2.prod_2_popularity)) \n",
    "print('{} is an {} with popularity {}'.format(obj_2.brand_name_3, obj_2.prod_3, obj_2.prod_3_popularity)) \n"
   ]
  },
  {
   "cell_type": "code",
   "execution_count": 183,
   "id": "c713d685-051e-4cf3-8a6c-58150dc81315",
   "metadata": {},
   "outputs": [],
   "source": [
    "# Multilevel Inheritance: \n",
    "# In multilevel inheritance, we have one parent class and child class that is derived or inherited from that parent class. \n",
    "# We have a grand-child class that is derived from the child class."
   ]
  },
  {
   "cell_type": "code",
   "execution_count": 184,
   "id": "85cded5b-0031-49b6-b5a7-c84c77d3e11c",
   "metadata": {},
   "outputs": [],
   "source": [
    "class brand_names: # parent class\n",
    "    \n",
    "    brand_name_1 = \"Amazon\"\n",
    "    brand_name_2 = \"Ebay\"\n",
    "    brand_name_3 = \"OLX\"\n",
    "        \n",
    "class products(brand_names): # child class\n",
    "    \n",
    "    prod_1 = \"Online Ecommerce Store\"\n",
    "    prod_2 = \"Online Store\"\n",
    "    prod_3 = \"Online Buy Sell Store\" \n",
    "    \n",
    "class popularity(products) : # grand child class\n",
    "    \n",
    "    prod_1_popularity = 100\n",
    "    prod_2_popularity = 70\n",
    "    prod_3_popularity = 60"
   ]
  },
  {
   "cell_type": "code",
   "execution_count": 185,
   "id": "36c6dbe9-8080-45ed-87af-4e30ce628373",
   "metadata": {},
   "outputs": [
    {
     "name": "stdout",
     "output_type": "stream",
     "text": [
      "Amazon is an Online Ecommerce Store with popularity 100\n",
      "Ebay is an Online Store with popularity 70\n",
      "OLX is an Online Buy Sell Store with popularity 60\n"
     ]
    }
   ],
   "source": [
    "obj_3 = popularity() # object initiation for child class which inheritates attributes & methods from parent class\n",
    "\n",
    "# accessing parent class attributes using child class object\n",
    "\n",
    "print('{} is an {} with popularity {}'.format(obj_3.brand_name_1, obj_3.prod_1, obj_3.prod_1_popularity))\n",
    "print('{} is an {} with popularity {}'.format(obj_3.brand_name_2, obj_3.prod_2, obj_3.prod_2_popularity)) \n",
    "print('{} is an {} with popularity {}'.format(obj_3.brand_name_3, obj_3.prod_3, obj_3.prod_3_popularity)) "
   ]
  },
  {
   "cell_type": "code",
   "execution_count": 186,
   "id": "2efa0146-596f-466b-92d1-f1efeba52d09",
   "metadata": {},
   "outputs": [],
   "source": [
    "# Hierarchical inheritance: \n",
    "# When we derive or inherit more than one child class from one(same) parent class.\n",
    "# Then this type of inheritance is called hierarchical inheritance."
   ]
  },
  {
   "cell_type": "code",
   "execution_count": 187,
   "id": "ccdfb8e8-c70c-4b8c-94c0-00fb80adce7b",
   "metadata": {},
   "outputs": [],
   "source": [
    "class brand_names: # parent class\n",
    "    \n",
    "    brand_name_1 = \"Amazon\"\n",
    "    brand_name_2 = \"Ebay\"\n",
    "    brand_name_3 = \"OLX\"\n",
    "        \n",
    "class products(brand_names): # child class\n",
    "    \n",
    "    prod_1 = \"Online Ecommerce Store\"\n",
    "    prod_2 = \"Online Store\"\n",
    "    prod_3 = \"Online Buy Sell Store\" \n",
    "    \n",
    "class popularity(brand_names) : # child class\n",
    "    \n",
    "    prod_1_popularity = 100\n",
    "    prod_2_popularity = 70\n",
    "    prod_3_popularity = 60\n",
    "    \n",
    "class value(brand_names) :\n",
    "    \n",
    "    prod_1_value = \"Excellent Value\"\n",
    "    prod_2_value = \"Better Value\"\n",
    "    prod_3_value = \"Good Value\""
   ]
  },
  {
   "cell_type": "code",
   "execution_count": 188,
   "id": "6e8ffec5-a088-4847-9b24-b3c5cea7cd1b",
   "metadata": {},
   "outputs": [
    {
     "name": "stdout",
     "output_type": "stream",
     "text": [
      "Amazon is an Online Ecommerce Store\n",
      "Amazon with popularity 100\n",
      "Amazon company Excellent Value\n"
     ]
    }
   ],
   "source": [
    "obj_4 = products()\n",
    "obj_5 = popularity()\n",
    "obj_6 = value()\n",
    "\n",
    "print('{} is an {}'.format(obj_4.brand_name_1, obj_4.prod_1))\n",
    "\n",
    "print('{} with popularity {}'.format(obj_5.brand_name_1, obj_5.prod_1_popularity))\n",
    "\n",
    "print('{} company {}'.format(obj_6.brand_name_1, obj_6.prod_1_value))"
   ]
  },
  {
   "cell_type": "code",
   "execution_count": 189,
   "id": "3516b28c-071d-43ce-97a6-73729131abb7",
   "metadata": {},
   "outputs": [],
   "source": [
    "# Hybrid Inheritance is the combinations of simple, multiple, multilevel and hierarchical inheritance.\n",
    "\n",
    "class PC:\n",
    "    \n",
    "    def pc(self) :\n",
    "        print(\"this is PC parent class\")\n",
    "\n",
    "class Laptop: # child class\n",
    "    \n",
    "    def laptop(self) :\n",
    "        print(\"this is laptop class inheriting PC class\")\n",
    "        \n",
    "class Mouse(Laptop): #grand child class\n",
    "    \n",
    "    def mouse(self) :\n",
    "        print(\"this is mouse class inheriting laptop class\")\n",
    "        \n",
    "class Student(Mouse, Laptop): #grand child class\n",
    "    \n",
    "    def student(self) :\n",
    "        print(\"this is student class inheriting from Laptop & Mouse class\")\n",
    "    "
   ]
  },
  {
   "cell_type": "code",
   "execution_count": 190,
   "id": "65deb77d-0335-43d1-b563-cf020a3a74a8",
   "metadata": {},
   "outputs": [],
   "source": [
    "obj_7 = Student()\n",
    "obj_8 = Mouse()"
   ]
  },
  {
   "cell_type": "code",
   "execution_count": 191,
   "id": "5a89b333-d57b-4c7c-89fc-416d47461ea6",
   "metadata": {},
   "outputs": [
    {
     "name": "stdout",
     "output_type": "stream",
     "text": [
      "this is student class inheriting from Laptop & Mouse class\n"
     ]
    }
   ],
   "source": [
    "obj_7.student()"
   ]
  },
  {
   "cell_type": "code",
   "execution_count": 192,
   "id": "d55b6f32-2078-4f98-913a-e7a61041ccc7",
   "metadata": {},
   "outputs": [
    {
     "name": "stdout",
     "output_type": "stream",
     "text": [
      "this is laptop class inheriting PC class\n"
     ]
    }
   ],
   "source": [
    "obj_7.laptop()"
   ]
  },
  {
   "cell_type": "code",
   "execution_count": 193,
   "id": "1eadbca1-5c9a-4908-8a55-1adb36e78640",
   "metadata": {},
   "outputs": [
    {
     "name": "stdout",
     "output_type": "stream",
     "text": [
      "this is laptop class inheriting PC class\n"
     ]
    }
   ],
   "source": [
    "obj_8.laptop()"
   ]
  },
  {
   "cell_type": "code",
   "execution_count": null,
   "id": "d6cd9d39-fb5b-4e4d-b662-830c5af74c10",
   "metadata": {},
   "outputs": [],
   "source": []
  }
 ],
 "metadata": {
  "kernelspec": {
   "display_name": "Python 3 (ipykernel)",
   "language": "python",
   "name": "python3"
  },
  "language_info": {
   "codemirror_mode": {
    "name": "ipython",
    "version": 3
   },
   "file_extension": ".py",
   "mimetype": "text/x-python",
   "name": "python",
   "nbconvert_exporter": "python",
   "pygments_lexer": "ipython3",
   "version": "3.10.8"
  }
 },
 "nbformat": 4,
 "nbformat_minor": 5
}
