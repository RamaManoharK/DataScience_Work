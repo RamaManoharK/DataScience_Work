{
 "cells": [
  {
   "cell_type": "markdown",
   "id": "60d93ea8-2baa-4789-b8f7-88ed3b44f43a",
   "metadata": {},
   "source": [
    "### Q1. Which function is used to open a file? What are the different modes of opening a file? Explain each mode of file opening.\n",
    "\n",
    "    open() method is used to open a file.\n",
    "    modes to open a file:\n",
    "        r -  for reading – The file pointer is placed at the beginning of the file. This is the default mode.\n",
    "        \n",
    "        r+ - Opens a file for both reading and writing. The file pointer will be at the beginning of the file.\n",
    "        \n",
    "        w - Opens a file for writing only. Overwrites the file if the file exists. If the file does not exist, creates a new file for writing.\n",
    "        \n",
    "        w+ - Opens a file for both writing and reading. Overwrites the existing file if the file exists. If the file does not exist, it creates a new file for reading and writing.\n",
    "        \n",
    "        rb - Opens a file for reading only in binary format. The file pointer is placed at the beginning of the file.\n",
    "        \n",
    "        rb+ - Opens a file for both reading and writing in binary format.\n",
    "        \n",
    "        wb+ - Opens a file for both writing and reading in binary format. Overwrites the existing file if the file exists. If the file does not exist, it creates a new file for reading and writing.\n",
    "        \n",
    "        a - Opens a file for appending. The file pointer is at the end of the file if the file exists. That is, the file is in the append mode. If the file does not exist, it creates a new file for writing.\n",
    "        \n",
    "        ab - Opens a file for appending in binary format. The file pointer is at the end of the file if the file exists. That is, the file is in the append mode. If the file does not exist, it creates a new file for writing.\n",
    "        \n",
    "        a+ - Opens a file for both appending and reading. The file pointer is at the end of the file if the file exists. The file opens in the append mode. If the file does not exist, it creates a new file for reading and writing.\n",
    "        \n",
    "        ab+ - Opens a file for both appending and reading in binary format. The file pointer is at the end of the file if the file exists. The file opens in the append mode. If the file does not exist, it creates a new file for reading and writing.\n",
    "        \n",
    "        x - open for exclusive creation, failing if the file already exists (Python 3)"
   ]
  },
  {
   "cell_type": "code",
   "execution_count": 59,
   "id": "03b0392f-fb8c-484e-8e55-3f03f19244ea",
   "metadata": {},
   "outputs": [],
   "source": [
    "with open(\"testFile.txt\", \"w\") as f: # creates files if not exists and writes data to it.\n",
    "    f.write(\"Hello file\")"
   ]
  },
  {
   "cell_type": "markdown",
   "id": "bac60f08-4c81-4823-aadc-15fdb734aaf7",
   "metadata": {},
   "source": [
    "### Q2. Why close() function is used? Why is it important to close a file?\n",
    "    \n",
    "    The close() method closes an open file.\n",
    "    \n",
    "    We should always close your files, in some cases, due to buffering, changes made to a file may not show until we close the file.\n",
    "    \n",
    "    If the file has any sort of buffering behind it it and we don't call close then we could potentially lose data.\n",
    "\n",
    "    If the OS has limited resources (e.g. number of open files) then by not closing files we are wasting system resources.\n",
    "    "
   ]
  },
  {
   "cell_type": "code",
   "execution_count": 60,
   "id": "102bec40-7058-447e-97aa-d0b12ef27c43",
   "metadata": {},
   "outputs": [
    {
     "name": "stdout",
     "output_type": "stream",
     "text": [
      "Hello file\n"
     ]
    }
   ],
   "source": [
    "f =  open('testFile.txt', 'r')\n",
    "\n",
    "print(f.read())\n",
    "\n",
    "f.close()"
   ]
  },
  {
   "cell_type": "markdown",
   "id": "b8086036-430f-4689-b173-d4188652112f",
   "metadata": {},
   "source": [
    "### Q3. Write a python program to create a text file. Write ‘I want to become a Data Scientist’ in that file. Then close the file. Open this file and read the content of the file."
   ]
  },
  {
   "cell_type": "code",
   "execution_count": 61,
   "id": "06d9dbe5-75e6-4703-a786-ea38aafd4f51",
   "metadata": {},
   "outputs": [],
   "source": [
    "f = open(\"testFile1.txt\", 'w') # creates file if not exists and writes data to it.\n",
    "f.write(\"I want to become a Data Scientist\")\n",
    "f.close()"
   ]
  },
  {
   "cell_type": "code",
   "execution_count": 62,
   "id": "311977b6-eb42-4b00-b450-6ececbd62e1c",
   "metadata": {},
   "outputs": [
    {
     "name": "stdout",
     "output_type": "stream",
     "text": [
      "I want to become a Data Scientist\n"
     ]
    }
   ],
   "source": [
    "f = open(\"testFile1.txt\", 'r') # read file\n",
    "print(f.read())\n",
    "f.close()"
   ]
  },
  {
   "cell_type": "markdown",
   "id": "8e3281fc-edfa-4349-b85f-032458b3e593",
   "metadata": {},
   "source": [
    "### Q4. Explain the following with python code: read(), readline() and readlines()."
   ]
  },
  {
   "cell_type": "code",
   "execution_count": 63,
   "id": "9e4c1414-e6d7-4a3c-923e-f8b9c5e9009e",
   "metadata": {},
   "outputs": [],
   "source": [
    "with open(\"testFile2.txt\", 'w') as f:\n",
    "    f.write(\"Data science is the study of data to extract meaningful insights for business.\\n It is a multidisciplinary approach that combines principles and practices from the fields of mathematics, statistics, artificial intelligence, and computer engineering to analyze large amounts of data.\") "
   ]
  },
  {
   "cell_type": "code",
   "execution_count": 64,
   "id": "6a4949d9-5246-47a9-aaeb-7b00128c403e",
   "metadata": {},
   "outputs": [
    {
     "name": "stdout",
     "output_type": "stream",
     "text": [
      "Data science is the study of data to extract meaningful insights for business.\n",
      " It is a multidisciplinary approach that combines principles and practices from the fields of mathematics, statistics, artificial intelligence, and computer engineering to analyze large amounts of data.\n"
     ]
    }
   ],
   "source": [
    "# Reads and returns a string of n characters, or the entire file as a single string if n is not provided.\n",
    "\n",
    "with open(\"testFile2.txt\", 'r') as f: # read file\n",
    "    print(f.read()) # Reads and returns a string of n characters, or the entire file as a single string if n is not provided."
   ]
  },
  {
   "cell_type": "code",
   "execution_count": 65,
   "id": "eda2c3ca-2136-48ce-9a2f-1f31450f755f",
   "metadata": {},
   "outputs": [
    {
     "name": "stdout",
     "output_type": "stream",
     "text": [
      "Data science is the study of data to extract meaningful insights for business.\n",
      "\n"
     ]
    }
   ],
   "source": [
    "# Returns the next line of the file with all text up to and including the newline character. \n",
    "# If n is provided as a parameter than only n characters will be returned if the line is longer than n.\n",
    "\n",
    "with open(\"testFile2.txt\", 'r') as f: # read file\n",
    "    print(f.readline())"
   ]
  },
  {
   "cell_type": "code",
   "execution_count": 66,
   "id": "27438506-d625-4f2b-9e4d-095741257ba9",
   "metadata": {},
   "outputs": [
    {
     "name": "stdout",
     "output_type": "stream",
     "text": [
      "['Data science is the study of data to extract meaningful insights for business.\\n', ' It is a multidisciplinary approach that combines principles and practices from the fields of mathematics, statistics, artificial intelligence, and computer engineering to analyze large amounts of data.']\n"
     ]
    }
   ],
   "source": [
    "# Returns a list of strings, each representing a single line of the file. If n is not provided then all lines of the file are returned. \n",
    "# If n is provided then n characters are read but n is rounded up so that an entire line is returned.\n",
    "\n",
    "with open(\"testFile2.txt\", 'r') as f: # read file\n",
    "    print(f.readlines())"
   ]
  },
  {
   "cell_type": "markdown",
   "id": "a01a7d8b-9c7a-4e5e-9157-9082ed458e08",
   "metadata": {},
   "source": [
    "### Q5. Explain why with statement is used with open(). What is the advantage of using with statement and open() together?\n",
    "    \n",
    "    The with statement works with the open()function to open a file to perform operation on the data of the file.\n",
    "    \n",
    "    when we used “with statement” with open() function, an execution block started and the file object returned by open() function is assigned to file_object. When this execution block of “with statement” end, then the file object’s close function gets called automatically, and the file will be closed gracefully. We don’t need to manually call the close() function anymore if we are using “with statement”\n",
    "    "
   ]
  },
  {
   "cell_type": "code",
   "execution_count": 67,
   "id": "f55533e1-19df-46b5-b065-ac125b4b0b25",
   "metadata": {},
   "outputs": [],
   "source": [
    "with open(\"testFile3.txt\" , 'w') as f: # create file if not exists and writes data to it, then closes file.\n",
    "    f.write(\"test data\")"
   ]
  },
  {
   "cell_type": "markdown",
   "id": "33e83ddb-815a-4add-ac22-7a9956393c25",
   "metadata": {},
   "source": [
    "### Q6. Explain the write() and writelines() functions. Give a suitable example.\n",
    "\n",
    "    write() method takes a string as an argument and writes it to the text file.\n",
    "    \n",
    "    writelines() method is used to write multiple strings to a file. We need to pass an iterable object like lists, tuples, etc. containing strings to the writelines() method."
   ]
  },
  {
   "cell_type": "code",
   "execution_count": 76,
   "id": "8235a4e5-bbd9-4de5-9e06-c22779bd964f",
   "metadata": {},
   "outputs": [],
   "source": [
    "\n",
    "with open(\"testFile4.txt\", 'w') as f: \n",
    "    f.write('writing a new line.\\nwriting 2nd line') # write a string to the file"
   ]
  },
  {
   "cell_type": "code",
   "execution_count": 77,
   "id": "11cf5903-a1b2-4e13-8284-cdf210fc42d6",
   "metadata": {},
   "outputs": [],
   "source": [
    "with open(\"testFile4.txt\", 'a') as f:\n",
    "    f.writelines([\"\\nwriting 3rd line\", \"\\nwriting 4th line\"]) # write multiple strings to the file."
   ]
  },
  {
   "cell_type": "code",
   "execution_count": null,
   "id": "d4d2940a-51bd-45f8-94f8-c4c30a468743",
   "metadata": {},
   "outputs": [],
   "source": [
    "\n"
   ]
  },
  {
   "cell_type": "code",
   "execution_count": null,
   "id": "80d1d10f-48ee-403a-a38e-624a6949d2a8",
   "metadata": {},
   "outputs": [],
   "source": []
  }
 ],
 "metadata": {
  "kernelspec": {
   "display_name": "Python 3 (ipykernel)",
   "language": "python",
   "name": "python3"
  },
  "language_info": {
   "codemirror_mode": {
    "name": "ipython",
    "version": 3
   },
   "file_extension": ".py",
   "mimetype": "text/x-python",
   "name": "python",
   "nbconvert_exporter": "python",
   "pygments_lexer": "ipython3",
   "version": "3.10.8"
  }
 },
 "nbformat": 4,
 "nbformat_minor": 5
}
