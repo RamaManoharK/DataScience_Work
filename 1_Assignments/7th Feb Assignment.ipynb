{
 "cells": [
  {
   "cell_type": "markdown",
   "id": "23874de5-6fdc-4a81-a46b-203ad4ac953f",
   "metadata": {},
   "source": [
    "### Q1. You are writing code for a company. The requirement of the company is that you create a python function that will check whether the password entered by the user is correct or not. The function should take the password as input and return the string “Valid Password” if the entered password follows the below-given password guidelines else it should return “Invalid Password”.\n",
    "    \n",
    "    Note: \n",
    "    1. The Password should contain at least two uppercase letters and at least two lowercase letters.\n",
    "    2. The Password should contain at least a number and three special characters.\n",
    "    3. The length of the password should be 10 characters long."
   ]
  },
  {
   "cell_type": "code",
   "execution_count": 16,
   "id": "72760dda-9941-4eb7-a5c5-9f5a2562fb83",
   "metadata": {},
   "outputs": [],
   "source": [
    "import re\n",
    "\n",
    "def password_validation(s) :\n",
    "    \n",
    "    sc_count = upper_count = lower_count = 0\n",
    "        \n",
    "    special_chars = \"!@#$%^&*()-+?_=,<>/\"\n",
    "    \n",
    "    lower_chars = list(map(chr, range(97, 123)))\n",
    "    upper_chars = list(map(chr, range(65, 91)))\n",
    "    \n",
    "    for i in s:\n",
    "        if i in special_chars:\n",
    "            sc_count += 1\n",
    "        elif i in lower_chars:\n",
    "            lower_count += 1\n",
    "        elif i in upper_chars:\n",
    "            upper_count += 1\n",
    "    \n",
    "    if len(s) == 10 and any(char.isdigit() for char in s) and \\\n",
    "         (sc_count >= 3) and (lower_count >= 2) and (upper_count >= 2) :\n",
    "        return \"Valid Password\"\n",
    "    \n",
    "    else : \n",
    "        return \"Invalid Password\""
   ]
  },
  {
   "cell_type": "code",
   "execution_count": 17,
   "id": "5638c72e-cf3c-4ba4-adfb-1d515aca9bd4",
   "metadata": {},
   "outputs": [
    {
     "data": {
      "text/plain": [
       "'Valid Password'"
      ]
     },
     "execution_count": 17,
     "metadata": {},
     "output_type": "execute_result"
    }
   ],
   "source": [
    "password_validation(\"P@55W0rd#$\")"
   ]
  },
  {
   "cell_type": "markdown",
   "id": "e0b42fd3-2ffb-4d48-88d0-06ed0c2461c6",
   "metadata": {},
   "source": [
    "### 2. Solve the below-given questions using at least one of the following:\n",
    "\n",
    "    1. Lambda function\n",
    "    2. Filter function\n",
    "    3. Zip function\n",
    "    4. List Comprehension\n",
    "    \n",
    "    Check if the string starts with a particular letter\n",
    "    Check if the string is numeric\n",
    "    Sort a list of tuples having fruit names and their quantity. [(\"mango\",99),(\"orange\",80), (\"grapes\", 1000)]\n",
    "    Find the squares of numbers from 1 to 10\n",
    "    Find the cube root of numbers from 1 to 10\n",
    "    Check if a given number is even\n",
    "    Filter odd numbers from the given list.\n",
    "    [1,2,3,4,5,6,7,8,9,10]\n",
    "    Sort a list of integers into positive and negative integers lists.\n",
    "    [1,2,3,4,5,6,-1,-2,-3,-4,-5,0]"
   ]
  },
  {
   "cell_type": "code",
   "execution_count": 18,
   "id": "bfe806cd-6f6c-4a94-ae74-1546c9a675a5",
   "metadata": {},
   "outputs": [],
   "source": [
    "# Check if the string starts with a particular letter\n",
    "\n",
    "# check if the string starts with letter 'a' or 'A'\n",
    "\n",
    "ls =['apple', 'any', 'ant', 'car', 'dog', 'Apply']\n",
    "\n",
    "filter_list = list(filter(lambda s : s[0] == 'a' or s[0] == 'A', ls))"
   ]
  },
  {
   "cell_type": "code",
   "execution_count": 19,
   "id": "7a443aef-30bb-475e-afef-806aa8e29af0",
   "metadata": {},
   "outputs": [
    {
     "data": {
      "text/plain": [
       "['apple', 'any', 'ant', 'Apply']"
      ]
     },
     "execution_count": 19,
     "metadata": {},
     "output_type": "execute_result"
    }
   ],
   "source": [
    "filter_list"
   ]
  },
  {
   "cell_type": "code",
   "execution_count": 20,
   "id": "fdf8d3e1-1192-44a2-98a1-9ccd314e7f87",
   "metadata": {},
   "outputs": [],
   "source": [
    "# Check if the string is numeric\n",
    "\n",
    "ls1 = ['123', 'any', '465646', 'err123', '947597']\n",
    "\n",
    "filter_list1 = list(filter(lambda s : s.isnumeric(), ls1))"
   ]
  },
  {
   "cell_type": "code",
   "execution_count": 21,
   "id": "932c2df6-94fc-4002-bce4-2b926bb632ba",
   "metadata": {},
   "outputs": [
    {
     "data": {
      "text/plain": [
       "['123', '465646', '947597']"
      ]
     },
     "execution_count": 21,
     "metadata": {},
     "output_type": "execute_result"
    }
   ],
   "source": [
    "filter_list1 "
   ]
  },
  {
   "cell_type": "code",
   "execution_count": 40,
   "id": "29518490-a272-4234-9331-da8f6c764dd7",
   "metadata": {},
   "outputs": [
    {
     "data": {
      "text/plain": [
       "[('orange', 80), ('mango', 99), ('grapes', 1000)]"
      ]
     },
     "execution_count": 40,
     "metadata": {},
     "output_type": "execute_result"
    }
   ],
   "source": [
    "# Sort a list of tuples having fruit names and their quantity. [(\"mango\",99),(\"orange\",80), (\"grapes\", 1000)]\n",
    "\n",
    "def reverse_list(ls):\n",
    "    return [ tuple(reversed(x)) for x in ls ]\n",
    "\n",
    "ls2 = [(\"mango\",99),(\"orange\",80), (\"grapes\", 1000)]\n",
    "\n",
    "sorted_list = reverse_list(ls2)\n",
    "\n",
    "reverse_list(sorted(sorted_list))\n"
   ]
  },
  {
   "cell_type": "code",
   "execution_count": 49,
   "id": "7a037760-bd7c-4ea4-85da-97ac9a82a60b",
   "metadata": {},
   "outputs": [
    {
     "data": {
      "text/plain": [
       "{'1': 1,\n",
       " '2': 4,\n",
       " '3': 9,\n",
       " '4': 16,\n",
       " '5': 25,\n",
       " '6': 36,\n",
       " '7': 49,\n",
       " '8': 64,\n",
       " '9': 81,\n",
       " '10': 100}"
      ]
     },
     "execution_count": 49,
     "metadata": {},
     "output_type": "execute_result"
    }
   ],
   "source": [
    "# Find the squares of numbers from 1 to 10\n",
    "\n",
    "squares_nums = list(map(lambda x : x**2, range(1, 11)))\n",
    "\n",
    "nums = [str(i) for i in range(1,11)]\n",
    "\n",
    "dict(zip(nums, squares_nums))"
   ]
  },
  {
   "cell_type": "code",
   "execution_count": 51,
   "id": "a25d73ff-64e4-44aa-a268-881150899a30",
   "metadata": {},
   "outputs": [
    {
     "data": {
      "text/plain": [
       "{'1': 1.0,\n",
       " '2': 1.2599210498948732,\n",
       " '3': 1.4422495703074083,\n",
       " '4': 1.5874010519681994,\n",
       " '5': 1.7099759466766968,\n",
       " '6': 1.8171205928321397,\n",
       " '7': 1.912931182772389,\n",
       " '8': 2.0,\n",
       " '9': 2.080083823051904,\n",
       " '10': 2.154434690031884}"
      ]
     },
     "execution_count": 51,
     "metadata": {},
     "output_type": "execute_result"
    }
   ],
   "source": [
    "# Find the cube root of numbers from 1 to 10\n",
    "\n",
    "cube_roots = list(map(lambda x : x ** (1. / 3), range(1,11)))\n",
    "\n",
    "nums = [str(i) for i in range(1,11)]\n",
    "\n",
    "dict(zip(nums, cube_roots))"
   ]
  },
  {
   "cell_type": "code",
   "execution_count": 53,
   "id": "ab504db5-2ffc-4a5a-b3cd-f523caee1289",
   "metadata": {},
   "outputs": [
    {
     "data": {
      "text/plain": [
       "[24, 36, 8, 44]"
      ]
     },
     "execution_count": 53,
     "metadata": {},
     "output_type": "execute_result"
    }
   ],
   "source": [
    "# Check if a given number is even\n",
    "\n",
    "ls3 = [24, 45, 36, 8, 91, 44]\n",
    "\n",
    "even_num = list(filter(lambda x : x%2 == 0, ls3))\n",
    "\n",
    "even_num"
   ]
  },
  {
   "cell_type": "code",
   "execution_count": 55,
   "id": "e9f1f449-b4c2-41e0-9548-8236916c7d86",
   "metadata": {},
   "outputs": [
    {
     "data": {
      "text/plain": [
       "[1, 3, 5, 7, 9]"
      ]
     },
     "execution_count": 55,
     "metadata": {},
     "output_type": "execute_result"
    }
   ],
   "source": [
    "# Filter odd numbers from the given list.\n",
    "\n",
    "ls4 = [1,2,3,4,5,6,7,8,9,10]\n",
    "\n",
    "filter_list1 = list(filter(lambda x : x % 2 !=0, ls4))\n",
    "\n",
    "filter_list1"
   ]
  },
  {
   "cell_type": "code",
   "execution_count": 66,
   "id": "06ebd64b-60ee-496d-8a54-265b06a60ee3",
   "metadata": {},
   "outputs": [
    {
     "data": {
      "text/plain": [
       "[0, 1, 2, 3, 4, 5, 6]"
      ]
     },
     "execution_count": 66,
     "metadata": {},
     "output_type": "execute_result"
    }
   ],
   "source": [
    "#Sort a list of integers into positive and negative integers lists.\n",
    "\n",
    "ls5 = [1,2,3,4,5,6,-1,-2,-3,-4,-5,0]\n",
    "\n",
    "num_pos = sorted([i for i in ls5 if i>=0])\n",
    "num_pos"
   ]
  },
  {
   "cell_type": "code",
   "execution_count": 67,
   "id": "29cfc089-a915-4d33-9a99-6bee085ee279",
   "metadata": {},
   "outputs": [
    {
     "data": {
      "text/plain": [
       "[-5, -4, -3, -2, -1]"
      ]
     },
     "execution_count": 67,
     "metadata": {},
     "output_type": "execute_result"
    }
   ],
   "source": [
    "num_neg = sorted([i for i in ls5 if i<0])\n",
    "num_neg"
   ]
  },
  {
   "cell_type": "code",
   "execution_count": null,
   "id": "648ce6c0-3848-42fc-8e33-0a47a230f786",
   "metadata": {},
   "outputs": [],
   "source": []
  }
 ],
 "metadata": {
  "kernelspec": {
   "display_name": "Python 3 (ipykernel)",
   "language": "python",
   "name": "python3"
  },
  "language_info": {
   "codemirror_mode": {
    "name": "ipython",
    "version": 3
   },
   "file_extension": ".py",
   "mimetype": "text/x-python",
   "name": "python",
   "nbconvert_exporter": "python",
   "pygments_lexer": "ipython3",
   "version": "3.10.8"
  }
 },
 "nbformat": 4,
 "nbformat_minor": 5
}
