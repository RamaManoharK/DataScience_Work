{
 "cells": [
  {
   "cell_type": "markdown",
   "id": "3bde6667-eea1-4d61-9cfe-f7a6eba2a661",
   "metadata": {},
   "source": [
    "### Q1. What is multiprocessing in python? Why is it useful?\n",
    "\n",
    "    Multiprocessing in python is a process of running mutiple processes simultaneously within a single thread\n",
    "    \n",
    "    The multiprocessing Python module provides functionality for distributing work between multiple processes, taking advantage of multiple CPU cores and larger amounts of available system memory.\n",
    "    \n",
    "    It improves the performance of the program\n",
    "    "
   ]
  },
  {
   "cell_type": "markdown",
   "id": "5bb0ac10-7edc-40dc-93dd-dd3cc71a04e1",
   "metadata": {},
   "source": [
    "### Q2. What are the differences between multiprocessing and multithreading?\n",
    "\n",
    "     Multithreading focuses on generating computing threads from a single process, whereas multiprocessing increases computing power by adding CPUs.\n",
    "    \n",
    "    Multiprocessing executes many processes simultaneously within a single thread, whereas multithreading executes many threads simultaneously within a single process.\n",
    "    \n",
    "    Multithreading uses a common address space for all the threads, whereas multiprocessing creates a separate address space for each process.\n",
    "    \n",
    "    Multiprocessing is used to create a more reliable system, whereas multithreading is used to create threads that run parallel to each other.\n",
    "    \n",
    "    multithreading is quick to create and requires few resources, whereas multiprocessing requires a significant amount of time and specific resources to create."
   ]
  },
  {
   "cell_type": "markdown",
   "id": "a61d87e5-6ea6-4ecc-aa60-36a5b499df2e",
   "metadata": {},
   "source": [
    "### Q3. Write a python code to create a process using the multiprocessing module."
   ]
  },
  {
   "cell_type": "code",
   "execution_count": 59,
   "id": "1d5bc3e9-00a9-43e2-a32c-a63736b61484",
   "metadata": {},
   "outputs": [
    {
     "name": "stdout",
     "output_type": "stream",
     "text": [
      " name of the continent Asia\n",
      " name of the continent Africa\n",
      " name of the continent Australia\n",
      "\n",
      " name of the continent Antarctica name of the continent Europe\n",
      " name of the continent North America\n",
      " name of the continent South America\n"
     ]
    }
   ],
   "source": [
    "import multiprocessing\n",
    "\n",
    "def display(name) : \n",
    "    print(\" name of the continent {}\".format(name))\n",
    "    \n",
    "if __name__ == '__main__' : # confirms the code is under main function\n",
    "    \n",
    "    continents = ['Asia', 'Africa', 'Australia', 'Antarctica', 'Europe', 'North America', 'South America']\n",
    "    process = []\n",
    "    \n",
    "    for continent in continents : \n",
    "        m = multiprocessing.Process(target=display, args=(continent, ))   # instantiating process with argument through loop\n",
    "        process.append(m)\n",
    "        m.start()\n",
    "    \n",
    "    for m in process : \n",
    "        m.join()\n",
    "        "
   ]
  },
  {
   "cell_type": "markdown",
   "id": "6c8296f9-36b7-4a67-a01b-f4946367e7c9",
   "metadata": {},
   "source": [
    "### Q4. What is a multiprocessing pool in python? Why is it used?\n",
    "    \n",
    "    The Python Multiprocessing Pool class allows us to create and manage process pools in Python.\n",
    "    \n",
    "    Python multiprocessing Pool can be used for parallel execution of a function across multiple input values, distributing the input data across processes (data parallelism).\n",
    "\n",
    "    "
   ]
  },
  {
   "cell_type": "markdown",
   "id": "043ab28b-c18b-4d0f-ad74-6f0702ca0a94",
   "metadata": {},
   "source": [
    "### Q5. How can we create a pool of worker processes in python using the multiprocessing module?\n",
    "\n",
    "        multiprocessing moduel has a class called 'Pool\". using this we can create pool of worker processes.\n",
    "        \n",
    "        The Pool class represents a pool of worker processes. It has methods which allows tasks to be offloaded to the worker processes in a few different ways."
   ]
  },
  {
   "cell_type": "code",
   "execution_count": 60,
   "id": "20ec84d4-151d-4c22-bc35-f3b7afb5db99",
   "metadata": {},
   "outputs": [
    {
     "name": "stdout",
     "output_type": "stream",
     "text": [
      " Process A is waiting for 5 seconds ;  Process B is waiting for 1 seconds ; \n",
      "\n",
      "process B finished ; \n",
      " Process c is waiting for 3 seconds ; \n",
      "process c finished ; \n",
      " Process D is waiting for 4 seconds ; \n",
      "process A finished ; \n",
      " Process E is waiting for 3 seconds ; \n",
      "process E finished ; \n",
      "process D finished ; \n"
     ]
    }
   ],
   "source": [
    "# example\n",
    "\n",
    "import multiprocessing\n",
    "import time\n",
    "\n",
    "process_waiting = (('A' , 5), ('B' , 1), ('c' , 3), ('D' , 4), ('E' , 3))\n",
    "\n",
    "def display_details(d) : \n",
    "    \n",
    "    print( \" Process {} is waiting for {} seconds ; \".format(d[0], d[1]), end='\\n')\n",
    "    time.sleep(int(d[1]))\n",
    "    print('process {} finished ; '.format(d[0]))\n",
    "\n",
    "if __name__ == '__main__' :\n",
    "    \n",
    "    with multiprocessing.Pool(processes=2) as pool :\n",
    "        pool.map(display_details, process_waiting)\n",
    "            "
   ]
  },
  {
   "cell_type": "markdown",
   "id": "250c8891-f311-4b49-9098-3416b36fce5d",
   "metadata": {},
   "source": [
    "### Q6. Write a python program to create 4 processes, each process should print a different number using the multiprocessing module in python."
   ]
  },
  {
   "cell_type": "code",
   "execution_count": 61,
   "id": "3bd1bd16-fc03-45a7-b1f1-9c86e90efbac",
   "metadata": {},
   "outputs": [
    {
     "name": "stdout",
     "output_type": "stream",
     "text": [
      "Task No : 0\n",
      "Task No : 1\n",
      "Task No : 2\n",
      "Task No : 3\n",
      "Task No : 4\n",
      "Task No : 5\n",
      "Task No : 6\n",
      "Task No : 7\n",
      "Task No : 8\n",
      "Task No : 9\n",
      "Task No : 0 is done by process Process-174\n",
      "Task No : 1 is done by process Process-175\n",
      "Task No : 2 is done by process Process-176\n",
      "Task No : 3 is done by process Process-177\n",
      "Task No : 4 is done by process Process-174\n",
      "Task No : 5 is done by process Process-175\n",
      "Task No : 6 is done by process Process-176\n",
      "Task No : 7 is done by process Process-177\n",
      "Task No : 8 is done by process Process-174\n",
      "Task No : 9 is done by process Process-175\n",
      " 1 process id : Process-174\n",
      " 2 process id : Process-175\n",
      " 3 process id : Process-176\n",
      " 4 process id : Process-177\n"
     ]
    }
   ],
   "source": [
    "import multiprocessing\n",
    "\n",
    "def display_processes(pending_tasks, completed_tasks) :\n",
    "    while True:\n",
    "        \n",
    "        try :\n",
    "            # try to get task from the queue. get_nowait() function will raise queue. Empty exception if the queue is empty. queue(False) function would do the same task also.\n",
    "            task = pending_tasks.get_nowait()\n",
    "\n",
    "        except queue.Empty : \n",
    "            break\n",
    "\n",
    "        else:\n",
    "            print(task)\n",
    "            completed_tasks.put('{} is done by process {}'.format(task, multiprocessing.current_process().name)) # adding the completed task alng process id to the completed task queue\n",
    "            time.sleep(.5)\n",
    "    \n",
    "    return True\n",
    "    \n",
    "\n",
    "if __name__ == '__main__' :\n",
    "    \n",
    "    pending_tasks =  multiprocessing.Queue()\n",
    "    completed_tasks = multiprocessing.Queue()\n",
    "    \n",
    "    number_of_tasks = 10 # no of tasks to be performed\n",
    "    for i in range(number_of_tasks) : \n",
    "        pending_tasks.put(\"Task No : {}\".format(str(i))) # adding tasks to pending tasks queue\n",
    "    \n",
    "    number_of_processes = 4 # no of process          \n",
    "    processes = []\n",
    "    \n",
    "    for process in range(number_of_processes) : # initializing multi processes\n",
    "        \n",
    "        m = multiprocessing.Process(target = display_processes, args = (pending_tasks, completed_tasks)) # initializing the process with args\n",
    "        processes.append(m)\n",
    "        m.start() # starts the process\n",
    "    \n",
    "    for m in processes : \n",
    "        m.join() # completes/closes the process\n",
    "    \n",
    "    while not completed_tasks.empty(): # printing the completed queue\n",
    "        print(completed_tasks.get())\n",
    "    \n",
    "    for i, j in enumerate(processes) : # printing the processes ids \n",
    "        print(\" {} process id : {}\".format(i+1, j.name))"
   ]
  },
  {
   "cell_type": "code",
   "execution_count": null,
   "id": "192f18ff-3b76-40a5-95be-5724a5586d58",
   "metadata": {},
   "outputs": [],
   "source": []
  },
  {
   "cell_type": "code",
   "execution_count": null,
   "id": "9e821ae8-c715-4834-8eed-a4e049d9d3ca",
   "metadata": {},
   "outputs": [],
   "source": []
  },
  {
   "cell_type": "code",
   "execution_count": null,
   "id": "b8f9dfc0-4422-41c1-8674-14297cd8980f",
   "metadata": {},
   "outputs": [],
   "source": []
  }
 ],
 "metadata": {
  "kernelspec": {
   "display_name": "Python 3 (ipykernel)",
   "language": "python",
   "name": "python3"
  },
  "language_info": {
   "codemirror_mode": {
    "name": "ipython",
    "version": 3
   },
   "file_extension": ".py",
   "mimetype": "text/x-python",
   "name": "python",
   "nbconvert_exporter": "python",
   "pygments_lexer": "ipython3",
   "version": "3.10.8"
  }
 },
 "nbformat": 4,
 "nbformat_minor": 5
}
