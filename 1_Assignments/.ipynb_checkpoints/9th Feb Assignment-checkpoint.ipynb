{
 "cells": [
  {
   "cell_type": "markdown",
   "id": "e9fa715c-0c75-46d5-8160-dfe6433463f5",
   "metadata": {},
   "source": [
    "### Q1, Create a vehicle class with an init method having instance variables as name_of_vehicle, max_speed and average_of_vehicle."
   ]
  },
  {
   "cell_type": "code",
   "execution_count": 52,
   "id": "6b83787b-7b64-4b40-a0fd-536c1d4b031e",
   "metadata": {},
   "outputs": [],
   "source": [
    "class Vehicle :\n",
    "    \n",
    "    def __init__(self, name_of_vehicle, max_speed, average_of_vehicle) :\n",
    "        self.name_of_vehicle = name_of_vehicle\n",
    "        self.max_speed = max_speed\n",
    "        self.average_of_vehicle = average_of_vehicle"
   ]
  },
  {
   "cell_type": "markdown",
   "id": "1d3945fb-55b2-41c4-849c-72edb02d5647",
   "metadata": {},
   "source": [
    "### Q2. Create a child class car from the vehicle class created in Que 1, which will inherit the vehicle class. Create a method named seating_capacity which takes capacity as an argument and returns the name of the vehicle and its seating capacity."
   ]
  },
  {
   "cell_type": "code",
   "execution_count": 53,
   "id": "2357a461-5983-40a2-acf7-305c7563a59a",
   "metadata": {},
   "outputs": [],
   "source": [
    "class Car(Vehicle) :\n",
    "    \n",
    "    def seating_capacity(self, capacity) :\n",
    "        self.capacity = capacity\n",
    "        return self.name_of_vehicle, self.capacity\n",
    "        \n",
    "    "
   ]
  },
  {
   "cell_type": "code",
   "execution_count": 54,
   "id": "f095f577-e689-4bc2-b1b2-8ce3408a1997",
   "metadata": {},
   "outputs": [],
   "source": [
    "obj_car = Car('Hyundai', 500, 10)"
   ]
  },
  {
   "cell_type": "code",
   "execution_count": 55,
   "id": "673a1afa-22f1-4774-90f6-6bab8a34e6e4",
   "metadata": {},
   "outputs": [
    {
     "data": {
      "text/plain": [
       "('Hyundai', 5)"
      ]
     },
     "execution_count": 55,
     "metadata": {},
     "output_type": "execute_result"
    }
   ],
   "source": [
    "obj_car.seating_capacity(5)"
   ]
  },
  {
   "cell_type": "markdown",
   "id": "f81c7ed4-4fe2-4269-8ebb-b286bb7deb64",
   "metadata": {},
   "source": [
    "### Q3. What is multiple inheritance? Write a python code to demonstrate multiple inheritance.\n",
    "    \n",
    "    A class can inherit attributes & methods from morethan one parent class. this is called Multiple Inheritnace."
   ]
  },
  {
   "cell_type": "code",
   "execution_count": 56,
   "id": "a5956e64-4aa1-464b-9743-1935aea4814a",
   "metadata": {},
   "outputs": [],
   "source": [
    "class Calculation1 :\n",
    "    \n",
    "    def summation(self, a, b) :\n",
    "        return a + b"
   ]
  },
  {
   "cell_type": "code",
   "execution_count": 57,
   "id": "cedcbf67-1673-418f-bce9-4c7d7681785c",
   "metadata": {},
   "outputs": [],
   "source": [
    "class Calculation2 :\n",
    "    \n",
    "    def multiplication(self, a, b) : \n",
    "        return a * b"
   ]
  },
  {
   "cell_type": "code",
   "execution_count": 58,
   "id": "9185ca30-2cd3-4d5b-a85b-e7cb2e75b08c",
   "metadata": {},
   "outputs": [],
   "source": [
    "class Derived(Calculation1, Calculation2) :\n",
    "    \n",
    "    def division(self, a, b) : \n",
    "        if b!=0 : \n",
    "            return a/b\n",
    "        else :\n",
    "            return \"division by zero error\""
   ]
  },
  {
   "cell_type": "code",
   "execution_count": 59,
   "id": "68919a9b-2121-489f-bebe-b5161d1c0ca6",
   "metadata": {},
   "outputs": [],
   "source": [
    "d = Derived()"
   ]
  },
  {
   "cell_type": "code",
   "execution_count": 60,
   "id": "67dfe683-16bc-4e72-b320-826d76ee9144",
   "metadata": {},
   "outputs": [
    {
     "data": {
      "text/plain": [
       "5"
      ]
     },
     "execution_count": 60,
     "metadata": {},
     "output_type": "execute_result"
    }
   ],
   "source": [
    "d.summation(2,3)"
   ]
  },
  {
   "cell_type": "code",
   "execution_count": 61,
   "id": "edb4ec9b-166f-4377-a986-2ddbbfc170b4",
   "metadata": {},
   "outputs": [
    {
     "name": "stdout",
     "output_type": "stream",
     "text": [
      "True\n"
     ]
    }
   ],
   "source": [
    "print(isinstance(d, Derived))"
   ]
  },
  {
   "cell_type": "code",
   "execution_count": 62,
   "id": "9314acef-67fe-4bab-bad4-d3bbfe63fec9",
   "metadata": {},
   "outputs": [
    {
     "name": "stdout",
     "output_type": "stream",
     "text": [
      "True\n"
     ]
    }
   ],
   "source": [
    "print(isinstance(d, Calculation1))"
   ]
  },
  {
   "cell_type": "code",
   "execution_count": 63,
   "id": "ab76abb8-c4c4-41ba-9b86-f514e39ca48e",
   "metadata": {},
   "outputs": [
    {
     "name": "stdout",
     "output_type": "stream",
     "text": [
      "True\n"
     ]
    }
   ],
   "source": [
    "print(isinstance(d, Calculation2))"
   ]
  },
  {
   "cell_type": "markdown",
   "id": "407169be-741a-443a-8a37-b92d7177230b",
   "metadata": {},
   "source": [
    "### Q4. What are getter and setter in python? Create a class and create a getter and a setter method in this class.\n",
    "\n",
    "    The main purpose of using getters and setters in object-oriented programs is to ensure data encapsulation.\n",
    "    \n",
    "    A getter is a method that gets the value of a property. In OOPs this helps to access private attributes from a class.\n",
    "\n",
    "    A setter is a method that sets the value of a property. In OOPs this helps to set the value to private attributes in a class."
   ]
  },
  {
   "cell_type": "code",
   "execution_count": 64,
   "id": "858c172c-343c-4265-83f0-676b8f337484",
   "metadata": {},
   "outputs": [],
   "source": [
    "class Employee : \n",
    "    \n",
    "    def __init__(self, name, company, retired = 'No') : \n",
    "        self.__name = name\n",
    "        self.__company = company\n",
    "        self.__retired = retired\n",
    "        \n",
    "    @property  #getter\n",
    "    def company(self) :\n",
    "        print('@property class method called') \n",
    "        return self.__company\n",
    "    \n",
    "    @company.setter #setter\n",
    "    def company(self, value) :\n",
    "        print('@company.setter method called')\n",
    "        self.__company = value"
   ]
  },
  {
   "cell_type": "code",
   "execution_count": 65,
   "id": "4a243ab7-bf00-45cf-bc97-61f2dd041133",
   "metadata": {},
   "outputs": [],
   "source": [
    "obj_emp = Employee('Ram', 'TCS')"
   ]
  },
  {
   "cell_type": "code",
   "execution_count": 66,
   "id": "a4d4bf57-cf9c-4908-943c-53af4e87a49d",
   "metadata": {},
   "outputs": [
    {
     "name": "stdout",
     "output_type": "stream",
     "text": [
      "@property class method called\n"
     ]
    },
    {
     "data": {
      "text/plain": [
       "'TCS'"
      ]
     },
     "execution_count": 66,
     "metadata": {},
     "output_type": "execute_result"
    }
   ],
   "source": [
    "obj_emp.company"
   ]
  },
  {
   "cell_type": "code",
   "execution_count": 67,
   "id": "185f457e-3e4c-4322-90b2-5038ea594e8b",
   "metadata": {},
   "outputs": [
    {
     "name": "stdout",
     "output_type": "stream",
     "text": [
      "@company.setter method called\n"
     ]
    }
   ],
   "source": [
    "obj_emp.company = \"New Company\""
   ]
  },
  {
   "cell_type": "code",
   "execution_count": 68,
   "id": "09de6403-d201-4ce1-8a1c-f216ddc8a554",
   "metadata": {},
   "outputs": [
    {
     "name": "stdout",
     "output_type": "stream",
     "text": [
      "@property class method called\n"
     ]
    },
    {
     "data": {
      "text/plain": [
       "'New Company'"
      ]
     },
     "execution_count": 68,
     "metadata": {},
     "output_type": "execute_result"
    }
   ],
   "source": [
    "obj_emp.company"
   ]
  },
  {
   "cell_type": "markdown",
   "id": "3f671b87-9d19-492f-8f4d-274491a5e5fc",
   "metadata": {},
   "source": [
    "### Q5.What is method overriding in python? Write a python code to demonstrate method overriding.\n",
    "\n",
    "    Overriding is the ability of a class to change the implementation of a method provided by one of its parent class.\n",
    "    \n",
    "    Through method overriding a class may \"copy\" another class, avoiding duplicated code.\n",
    "    \n",
    "    Method overriding is thus a strict part of the inheritance mechanism.\n",
    "    \n",
    "    Python method overriding occurs simply defining in the child class a method with the same name of a method in the parent class."
   ]
  },
  {
   "cell_type": "code",
   "execution_count": 69,
   "id": "5a3453c5-a7fa-49c5-b915-cc517dea5e48",
   "metadata": {},
   "outputs": [],
   "source": [
    "class parent : \n",
    "    \n",
    "    def greetings(self, msg = \"Hello\") :\n",
    "        print(\" greetings from parent class : \", msg)"
   ]
  },
  {
   "cell_type": "code",
   "execution_count": 70,
   "id": "3f935149-ce5b-4495-804a-700f42d440b6",
   "metadata": {},
   "outputs": [],
   "source": [
    "class child(parent) : \n",
    "    \n",
    "    def greetings(self, msg = None) : # method overriding.\n",
    "        print(\"greetinngs from child class : \", msg)"
   ]
  },
  {
   "cell_type": "code",
   "execution_count": 71,
   "id": "d4b8ab21-0afa-4098-bc4e-1cfd3d941261",
   "metadata": {},
   "outputs": [],
   "source": [
    "obj_pr = parent()\n",
    "obj_ch = child()"
   ]
  },
  {
   "cell_type": "code",
   "execution_count": 72,
   "id": "b6fc5ff5-048c-4206-b3f7-d4161d401d33",
   "metadata": {},
   "outputs": [
    {
     "name": "stdout",
     "output_type": "stream",
     "text": [
      " greetings from parent class :  Hello\n"
     ]
    }
   ],
   "source": [
    "obj_pr.greetings()"
   ]
  },
  {
   "cell_type": "code",
   "execution_count": 73,
   "id": "7400e437-db6d-4aaa-8585-d9741f63f473",
   "metadata": {},
   "outputs": [
    {
     "name": "stdout",
     "output_type": "stream",
     "text": [
      "greetinngs from child class :  None\n"
     ]
    }
   ],
   "source": [
    "obj_ch.greetings() "
   ]
  },
  {
   "cell_type": "code",
   "execution_count": null,
   "id": "c0e2bc7e-2255-481d-b4b9-6f0de3f22613",
   "metadata": {},
   "outputs": [],
   "source": []
  },
  {
   "cell_type": "code",
   "execution_count": null,
   "id": "5de4be43-c035-40c3-9965-bf95ed7672af",
   "metadata": {},
   "outputs": [],
   "source": []
  }
 ],
 "metadata": {
  "kernelspec": {
   "display_name": "Python 3 (ipykernel)",
   "language": "python",
   "name": "python3"
  },
  "language_info": {
   "codemirror_mode": {
    "name": "ipython",
    "version": 3
   },
   "file_extension": ".py",
   "mimetype": "text/x-python",
   "name": "python",
   "nbconvert_exporter": "python",
   "pygments_lexer": "ipython3",
   "version": "3.10.8"
  }
 },
 "nbformat": 4,
 "nbformat_minor": 5
}
