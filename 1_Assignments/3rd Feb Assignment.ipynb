{
 "cells": [
  {
   "cell_type": "markdown",
   "id": "f8025f31-7354-4002-a99a-c66ce6499d97",
   "metadata": {},
   "source": [
    "### Q1. Which keyword is used to create a function? Create a function to return a list of odd numbers in the range of 1 to 25.\n",
    "    def keyword is used to create a fucntion"
   ]
  },
  {
   "cell_type": "code",
   "execution_count": 53,
   "id": "dc188963-9360-43a5-abbc-2b9d36da4353",
   "metadata": {},
   "outputs": [],
   "source": [
    "def odd_numbers(n):\n",
    "    return [i for i in range(1, n+1) if i%2 !=0 ]"
   ]
  },
  {
   "cell_type": "code",
   "execution_count": 54,
   "id": "13b8ba9c-5252-41f8-ba80-7b9b190c9719",
   "metadata": {},
   "outputs": [
    {
     "data": {
      "text/plain": [
       "[1, 3, 5, 7, 9, 11, 13, 15, 17, 19, 21, 23, 25]"
      ]
     },
     "execution_count": 54,
     "metadata": {},
     "output_type": "execute_result"
    }
   ],
   "source": [
    "odd_numbers(25)"
   ]
  },
  {
   "cell_type": "markdown",
   "id": "80371d06-c1a9-4fb4-b8ef-04bd37b64f3d",
   "metadata": {},
   "source": [
    "### Q2. Why *args and **kwargs is used in some functions? Create a function each for *args and **kwargs to demonstrate their use.\n",
    "    \n",
    "    *args is used to pass unknown number of parameters as arguments to a function\n",
    "    \n",
    "    **kwargs is used to pass unknown nukber key, value parameters as arguments to a function"
   ]
  },
  {
   "cell_type": "code",
   "execution_count": 55,
   "id": "32e2bbb4-1031-4787-aa3b-d870e957e355",
   "metadata": {},
   "outputs": [],
   "source": [
    "def squares(*args) : # function to return the squares of the unknown or n number of numbers.\n",
    "    return [i**2 for i in args]      "
   ]
  },
  {
   "cell_type": "code",
   "execution_count": 56,
   "id": "9f3e8dd5-bbaa-424b-a36a-bef56ef1a8ce",
   "metadata": {},
   "outputs": [
    {
     "data": {
      "text/plain": [
       "[1, 9, 25, 36, 49, 64, 81]"
      ]
     },
     "execution_count": 56,
     "metadata": {},
     "output_type": "execute_result"
    }
   ],
   "source": [
    "squares(1,3,5,6,7,8,9)"
   ]
  },
  {
   "cell_type": "code",
   "execution_count": 57,
   "id": "16da6a16-0d08-43f1-8b2e-52e218d5517b",
   "metadata": {},
   "outputs": [
    {
     "data": {
      "text/plain": [
       "[1, 4]"
      ]
     },
     "execution_count": 57,
     "metadata": {},
     "output_type": "execute_result"
    }
   ],
   "source": [
    "squares(1,2)"
   ]
  },
  {
   "cell_type": "code",
   "execution_count": 58,
   "id": "cae18e77-33be-447b-880b-a009cdd27cb0",
   "metadata": {},
   "outputs": [],
   "source": [
    "def details(**kwargs) : # function to return numerics from the given unknown or n number of dictionaries as arguments.\n",
    "    ls = []\n",
    "    for i in kwargs.keys():\n",
    "        if type(kwargs[i]) == list:\n",
    "            for j in kwargs[i]:\n",
    "                if type(j) == int or type(j) == float:\n",
    "                    ls.append(j)\n",
    "        else :\n",
    "            if type(i) == int or type(i) == float :\n",
    "                ls.append(i)\n",
    "    return ls"
   ]
  },
  {
   "cell_type": "code",
   "execution_count": 59,
   "id": "1be9b2be-0fe3-4bc0-98ae-ad813bad1fff",
   "metadata": {},
   "outputs": [
    {
     "data": {
      "text/plain": [
       "[4321, 7, 8, 8.9, 6, 5, 43, 3, 7, 4, 3, 5, 7, 3]"
      ]
     },
     "execution_count": 59,
     "metadata": {},
     "output_type": "execute_result"
    }
   ],
   "source": [
    "details(a=[4321,7,8,8.9,6,5,43,'ram', 'ranam'], b = [3,7,4,3,5,7,3,'manohar', 'roudram'], c = 'kwargs', \n",
    "        d=(1.4,7,9,79,5,'rudhiram'))"
   ]
  },
  {
   "cell_type": "markdown",
   "id": "dab8acb5-dfac-41c1-8387-708432979899",
   "metadata": {},
   "source": [
    "### Q3. What is an iterator in python? Name the method used to initialise the iterator object and the method used for iteration. Use these methods to print the first five elements of the given list [2, 4, 6, 8, 10, 12, 14, 16, 18, 20].\n",
    "    \n",
    "    Python objects that iterate through iterable objects are called Iterators. It is used to iterate over objects by returning one value at a time. Iterators are created by using the iter() function. The function next() is used to get the subsequent value from the iterator.\n",
    "    Ex : iter(), range()\n",
    "    "
   ]
  },
  {
   "cell_type": "code",
   "execution_count": 60,
   "id": "a4e2a94a-02d8-463d-8209-1edbf3c54302",
   "metadata": {},
   "outputs": [],
   "source": [
    "ls = [2, 4, 6, 8, 10, 12, 14, 16, 18, 20]\n",
    "\n",
    "obj = iter(ls) # create list_iterator"
   ]
  },
  {
   "cell_type": "code",
   "execution_count": 61,
   "id": "c05ff38b-3be3-45de-90e1-5272deb7ae79",
   "metadata": {},
   "outputs": [
    {
     "name": "stdout",
     "output_type": "stream",
     "text": [
      "2\n",
      "4\n",
      "6\n",
      "8\n",
      "10\n"
     ]
    }
   ],
   "source": [
    "print(next(obj))\n",
    "print(next(obj))\n",
    "print(next(obj))\n",
    "print(next(obj))\n",
    "print(next(obj))"
   ]
  },
  {
   "cell_type": "code",
   "execution_count": 62,
   "id": "44077592-9c1f-4ed5-94be-62fae4da3aa6",
   "metadata": {},
   "outputs": [
    {
     "name": "stdout",
     "output_type": "stream",
     "text": [
      "12\n",
      "14\n",
      "16\n",
      "18\n",
      "20\n"
     ]
    }
   ],
   "source": [
    "while True:\n",
    "    item = next(obj, 'end') # item will be \"end\" if iteration is complete\n",
    "    if item == 'end' : \n",
    "        break\n",
    "    print(item)\n",
    "    "
   ]
  },
  {
   "cell_type": "markdown",
   "id": "33f81e33-b489-4774-8be3-80daefcb0715",
   "metadata": {},
   "source": [
    "### Q4. What is a generator function in python? Why yield keyword is used? Give an example of a generator function.\n",
    "\n",
    "    A generator is a type of function that returns a generator object, which can return a sequence of values instead of a single result. The def keyword is commonly used to define generators. At least one yield statement is required in a generator.\n",
    "    \n",
    "    yield keyword is used to create a generator function. A type of function that is memory efficient and can be used like an iterator object.\n",
    "    \n",
    "    The yield keyword will turn any expression that is given with it into a generator object and return it to the caller. Therefore, you must iterate over the generator object if you wish to obtain the values stored there. "
   ]
  },
  {
   "cell_type": "code",
   "execution_count": 63,
   "id": "be2da88b-a90b-4978-841f-fca902e6f77f",
   "metadata": {},
   "outputs": [],
   "source": [
    "def nums(n) : \n",
    "    for i in range(1, n+1) : \n",
    "        yield i\n",
    "\n",
    "obj = nums(10)"
   ]
  },
  {
   "cell_type": "code",
   "execution_count": 64,
   "id": "ae017f4d-e42d-40c2-8aef-f8ad684efa4d",
   "metadata": {},
   "outputs": [
    {
     "name": "stdout",
     "output_type": "stream",
     "text": [
      "1\n",
      "2\n",
      "3\n",
      "4\n",
      "5\n"
     ]
    }
   ],
   "source": [
    "print(next(obj))\n",
    "print(next(obj))\n",
    "print(next(obj))\n",
    "print(next(obj))\n",
    "print(next(obj))"
   ]
  },
  {
   "cell_type": "code",
   "execution_count": 65,
   "id": "37aef3d2-7b91-46dc-b01b-439ff7614aa7",
   "metadata": {},
   "outputs": [
    {
     "name": "stdout",
     "output_type": "stream",
     "text": [
      "6\n",
      "7\n",
      "8\n",
      "9\n",
      "10\n"
     ]
    }
   ],
   "source": [
    "for i in obj :\n",
    "    print(i)"
   ]
  },
  {
   "cell_type": "markdown",
   "id": "6fb746b0-62de-40c4-9418-c7a0a6fc49dd",
   "metadata": {},
   "source": [
    "### Q5. Create a generator function for prime numbers less than 1000. Use the next() method to print the first 20 prime numbers."
   ]
  },
  {
   "cell_type": "code",
   "execution_count": 66,
   "id": "14fe8633-fc83-4850-902f-a50736245d8a",
   "metadata": {},
   "outputs": [],
   "source": [
    "def prime_numbers(n) : # generator function with yield key\n",
    "    for num in range(2, n+1):\n",
    "        for i in range(2, num):\n",
    "            if num % i == 0 :\n",
    "                break\n",
    "        else:\n",
    "            yield num"
   ]
  },
  {
   "cell_type": "code",
   "execution_count": 67,
   "id": "0e1e8abf-aa64-42c4-bb86-e9dfa724282a",
   "metadata": {},
   "outputs": [],
   "source": [
    "l = prime_numbers(1000)"
   ]
  },
  {
   "cell_type": "code",
   "execution_count": 68,
   "id": "5940046c-c4d9-488c-add9-4950e8722de9",
   "metadata": {},
   "outputs": [
    {
     "name": "stdout",
     "output_type": "stream",
     "text": [
      "2\n",
      "3\n",
      "5\n",
      "7\n",
      "11\n",
      "13\n",
      "17\n",
      "19\n",
      "23\n",
      "29\n",
      "31\n",
      "37\n",
      "41\n",
      "43\n",
      "47\n",
      "53\n",
      "59\n",
      "61\n",
      "67\n",
      "71\n",
      "73\n"
     ]
    }
   ],
   "source": [
    "i = 0\n",
    "while i <= 20 :\n",
    "    print(next(l))\n",
    "    i += 1\n",
    "    "
   ]
  },
  {
   "cell_type": "code",
   "execution_count": null,
   "id": "92954069-f508-4c66-a521-e960a6925ab7",
   "metadata": {},
   "outputs": [],
   "source": []
  },
  {
   "cell_type": "code",
   "execution_count": null,
   "id": "ccfe4ff1-51d5-4407-905b-a80784cb791f",
   "metadata": {},
   "outputs": [],
   "source": []
  }
 ],
 "metadata": {
  "kernelspec": {
   "display_name": "Python 3 (ipykernel)",
   "language": "python",
   "name": "python3"
  },
  "language_info": {
   "codemirror_mode": {
    "name": "ipython",
    "version": 3
   },
   "file_extension": ".py",
   "mimetype": "text/x-python",
   "name": "python",
   "nbconvert_exporter": "python",
   "pygments_lexer": "ipython3",
   "version": "3.10.8"
  }
 },
 "nbformat": 4,
 "nbformat_minor": 5
}
