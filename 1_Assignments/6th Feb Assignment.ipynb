{
 "cells": [
  {
   "cell_type": "markdown",
   "id": "198a8aed-9eba-4318-8d18-9ff2b3bb5c81",
   "metadata": {},
   "source": [
    "### Q1. Create a function which will take a list as an argument and return the product of all the numbers after creating a flat list.\n",
    "\n",
    "    Use the below-given list as an argument for your function.\n",
    "    list1 = [1,2,3,4, [44,55,66, True], False, (34,56,78,89,34), {1,2,3,3,2,1}, {1:34, \"key2\": [55, 67, 78, 89], 4: (45,\n",
    "    22, 61, 34)}, [56, 'data science'], 'Machine Learning']\n",
    "    Note: you must extract numeric keys and values of the dictionary also.\n"
   ]
  },
  {
   "cell_type": "code",
   "execution_count": 162,
   "id": "299b3bdc-2425-4368-b099-713e421c2f99",
   "metadata": {},
   "outputs": [],
   "source": [
    "list1 = [1,2,3,4, [44,55,66, True], False, (34,56,78,89,34), {1,2,3,3,2,1}, {1:34, \"key2\": [55, 67, 78, 89], 4: (45,\n",
    "22, 61, 34)}, [56, 'data science'], 'Machine Learning']"
   ]
  },
  {
   "cell_type": "code",
   "execution_count": 165,
   "id": "bf7db639-2643-4b96-88bd-f70c77b22da5",
   "metadata": {},
   "outputs": [],
   "source": [
    "from functools import reduce\n",
    "\n",
    "def flat_list(ls):\n",
    "    \n",
    "    def recur(item):\n",
    "        if not (isinstance(item, list) or isinstance(item, tuple) or isinstance(item, set) or \\\n",
    "                isinstance(item, dict)): #recur 1 & will extract all keys from dict too\n",
    "            return [item]\n",
    "        return [j for i in item for j in recur(i)]  # recur 2\n",
    "    \n",
    "    flat_list = recur(ls)\n",
    "    \n",
    "    for i in ls:\n",
    "        if isinstance(i, dict): # extracting values from dict through recur\n",
    "            for k, v in i.items():\n",
    "                flat_list.extend(recur(v))\n",
    "                \n",
    "    flat_list = [x for x in flat_list if not (isinstance(x, str) or isinstance(x, bool))]\n",
    "       \n",
    "    flat_list_product = reduce(lambda x, y : x * y, flat_list)\n",
    "    \n",
    "    return flat_list, flat_list_product"
   ]
  },
  {
   "cell_type": "code",
   "execution_count": 166,
   "id": "f9531fdd-997d-4bf7-855d-64bbf6fe92b8",
   "metadata": {},
   "outputs": [
    {
     "data": {
      "text/plain": [
       "([1,\n",
       "  2,\n",
       "  3,\n",
       "  4,\n",
       "  44,\n",
       "  55,\n",
       "  66,\n",
       "  34,\n",
       "  56,\n",
       "  78,\n",
       "  89,\n",
       "  34,\n",
       "  1,\n",
       "  2,\n",
       "  3,\n",
       "  1,\n",
       "  4,\n",
       "  56,\n",
       "  34,\n",
       "  55,\n",
       "  67,\n",
       "  78,\n",
       "  89,\n",
       "  45,\n",
       "  22,\n",
       "  61,\n",
       "  34],\n",
       " 4134711838987085478833841242112000)"
      ]
     },
     "execution_count": 166,
     "metadata": {},
     "output_type": "execute_result"
    }
   ],
   "source": [
    "flat_list(list1)"
   ]
  },
  {
   "cell_type": "markdown",
   "id": "a85054e3-d42e-41da-8935-fb65b08c9641",
   "metadata": {},
   "source": [
    "### Q2. Write a python program for encrypting a message sent to you by your friend. The logic of encryption should be such that, for a the output should be z. For b, the output should be y. For c, the output should be x respectively. Also, the whitespace should be replaced with a dollar sign. Keep the punctuation marks unchanged.\n",
    "\n",
    "    Input Sentence: I want to become a Data Scientist.\n",
    "    Encrypt the above input sentence using the program you just created.\n",
    "    Note: Convert the given input sentence into lowercase before encrypting. The final output should be lowercase."
   ]
  },
  {
   "cell_type": "code",
   "execution_count": 231,
   "id": "2fe19843-12e2-4c57-93d0-a5418ffaf4fc",
   "metadata": {},
   "outputs": [],
   "source": [
    "import re\n",
    "\n",
    "string1 = \"I want to become a Data Scientist.\"\n",
    "\n",
    "string2 = string1.lower()\n",
    "\n",
    "chars = list(map(chr, range(97, 123)))\n",
    "\n",
    "reverse_chars = chars[::-1]\n",
    "\n",
    "encryption = dict(zip(chars, reverse_chars))\n",
    "\n",
    "encryption[' '] = '$'\n",
    "encryption['.'] = '.'"
   ]
  },
  {
   "cell_type": "code",
   "execution_count": 232,
   "id": "ba7eaf8c-7892-4bb8-a74f-e6b1c4221617",
   "metadata": {},
   "outputs": [],
   "source": [
    "ecrypted_str=''\n",
    "\n",
    "for s in string2 :\n",
    "    for item in encryption.keys() :\n",
    "        if s == item:\n",
    "            ecrypted_str += encryption[item]"
   ]
  },
  {
   "cell_type": "code",
   "execution_count": 233,
   "id": "94d2dba1-eaa6-4e1c-ab2a-50e751bafb4a",
   "metadata": {},
   "outputs": [
    {
     "name": "stdout",
     "output_type": "stream",
     "text": [
      "given string : i want to become a data scientist.\n",
      "encry string : r$dzmg$gl$yvxlnv$z$wzgz$hxrvmgrhg.\n"
     ]
    }
   ],
   "source": [
    "print(\"given string :\", string2)\n",
    "\n",
    "print(\"encry string :\", str2)"
   ]
  },
  {
   "cell_type": "code",
   "execution_count": null,
   "id": "d15313f6-43ae-4457-9701-1494a7c5532b",
   "metadata": {},
   "outputs": [],
   "source": []
  }
 ],
 "metadata": {
  "kernelspec": {
   "display_name": "Python 3 (ipykernel)",
   "language": "python",
   "name": "python3"
  },
  "language_info": {
   "codemirror_mode": {
    "name": "ipython",
    "version": 3
   },
   "file_extension": ".py",
   "mimetype": "text/x-python",
   "name": "python",
   "nbconvert_exporter": "python",
   "pygments_lexer": "ipython3",
   "version": "3.10.8"
  }
 },
 "nbformat": 4,
 "nbformat_minor": 5
}
