{
 "cells": [
  {
   "cell_type": "code",
   "execution_count": 2,
   "id": "deab2cda-6a5e-4a25-a93e-5fb8765cb5fa",
   "metadata": {},
   "outputs": [
    {
     "name": "stdout",
     "output_type": "stream",
     "text": [
      "division by zero\n"
     ]
    }
   ],
   "source": [
    "# use always a specific exception\n",
    "\n",
    "try : \n",
    "    10/0\n",
    "except Exception as e:\n",
    "    print(e)"
   ]
  },
  {
   "cell_type": "code",
   "execution_count": 3,
   "id": "badbd4a2-27b0-4529-b185-c26cd1e48dad",
   "metadata": {},
   "outputs": [
    {
     "name": "stdout",
     "output_type": "stream",
     "text": [
      "division by zero\n"
     ]
    }
   ],
   "source": [
    "\n",
    "try : \n",
    "    10/0\n",
    "except ZeroDivisionError as e:\n",
    "    print(e)"
   ]
  },
  {
   "cell_type": "code",
   "execution_count": 4,
   "id": "5398cee4-6d80-4830-b902-258f93cf4e73",
   "metadata": {},
   "outputs": [
    {
     "name": "stdout",
     "output_type": "stream",
     "text": [
      "this is my zero division error i am handling\n"
     ]
    }
   ],
   "source": [
    "# print always a valid error msg\n",
    "\n",
    "try : \n",
    "    10/0\n",
    "except ZeroDivisionError as e :\n",
    "    print(\"this is my zero division error i am handling\")"
   ]
  },
  {
   "cell_type": "code",
   "execution_count": 5,
   "id": "639b9f32-8c79-4b5a-b6d1-96b884ecd351",
   "metadata": {},
   "outputs": [],
   "source": [
    "# always try to log\n",
    "\n",
    "import logging\n",
    "\n",
    "logging.basicConfig(filename = 'error.log', level = logging.ERROR)\n",
    "try :\n",
    "    10/0\n",
    "except ZeroDivisionError as e : \n",
    "    logging.error(\"this is my zero division error i am handling {}\".format(e))"
   ]
  },
  {
   "cell_type": "code",
   "execution_count": 6,
   "id": "48e15a81-e860-4a20-b3e4-e3abbe9cc40c",
   "metadata": {},
   "outputs": [],
   "source": [
    "# always avoid to write a mutiple exception handling\n",
    "\n",
    "try :\n",
    "    10/0\n",
    "    \n",
    "except FileNotFoundError as e :\n",
    "    logging.error(\"this is FileNotFound error i am handling {}\".format(e))\n",
    "except AttributeError as e : \n",
    "    logging.error(\"this is Attribute error i am handling {}\".format(e))\n",
    "except ZeroDivisionError as e : \n",
    "    logging.error(\"this is my zero division error i am handling {}\".format(e))"
   ]
  },
  {
   "cell_type": "code",
   "execution_count": 7,
   "id": "8ab592fc-06b3-4444-8263-3995eb903848",
   "metadata": {},
   "outputs": [],
   "source": [
    "# always try to prepare proper documention\n",
    "\n"
   ]
  },
  {
   "cell_type": "code",
   "execution_count": null,
   "id": "f35ab80e-c311-410c-90ca-c9abfe26f280",
   "metadata": {},
   "outputs": [],
   "source": [
    "# clean up all the resources\n",
    "\n",
    "try :\n",
    "    with open(\"test.txt\", 'w') as f :\n",
    "        f.write(\"this is msg file\")\n",
    "except FileNotFoundError as e : \n",
    "    logging.error(\" file not found {}\".format(e))\n",
    "finally : \n",
    "    f.close()"
   ]
  }
 ],
 "metadata": {
  "kernelspec": {
   "display_name": "Python 3 (ipykernel)",
   "language": "python",
   "name": "python3"
  },
  "language_info": {
   "codemirror_mode": {
    "name": "ipython",
    "version": 3
   },
   "file_extension": ".py",
   "mimetype": "text/x-python",
   "name": "python",
   "nbconvert_exporter": "python",
   "pygments_lexer": "ipython3",
   "version": "3.10.8"
  }
 },
 "nbformat": 4,
 "nbformat_minor": 5
}
