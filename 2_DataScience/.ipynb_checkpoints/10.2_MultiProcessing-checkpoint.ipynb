{
 "cells": [
  {
   "cell_type": "code",
   "execution_count": null,
   "id": "684f5649-4eb3-40cd-8108-3501765971b6",
   "metadata": {},
   "outputs": [],
   "source": [
    "import multiprocessing\n",
    "\n",
    "def test():\n",
    "    print(\"this is my multiprocessing program\")\n",
    "    \n",
    "if __name__ == '__main__': # this calls main method, main method is \n",
    "    m = multiprocessing.Process(target = test)\n",
    "    print(\"this is my main prod\")\n",
    "    m.start()\n",
    "    m.join() # waits till the child process terminates / waits for the end of the program / "
   ]
  },
  {
   "cell_type": "code",
   "execution_count": null,
   "id": "24c511e7-721d-486d-98d7-82bbbb24d38a",
   "metadata": {},
   "outputs": [],
   "source": [
    "test()"
   ]
  },
  {
   "cell_type": "code",
   "execution_count": null,
   "id": "0717783c-c4c6-44ca-af97-3a4f09e7f36a",
   "metadata": {},
   "outputs": [],
   "source": [
    "def square(n) :\n",
    "    return n ** 2\n",
    "\n",
    "if __name__ == '__main__' : \n",
    "    with multiprocessing.Pool(processes=5) as pool : # creates a pool of 5 processes\n",
    "        out = pool.map(square, [3,2,5,3,5,4,64,46])\n",
    "        print(out)"
   ]
  },
  {
   "cell_type": "code",
   "execution_count": null,
   "id": "7e02fa68-95f1-4403-ab5f-914fa8e3da8c",
   "metadata": {},
   "outputs": [],
   "source": [
    "# put the data into the queue using multiprocessing"
   ]
  },
  {
   "cell_type": "code",
   "execution_count": null,
   "id": "8cda443a-e248-4557-91a8-adcff622ffdd",
   "metadata": {},
   "outputs": [],
   "source": [
    "import multiprocessing\n",
    "\n",
    "def producer(q) : \n",
    "    for i in ['rama', 'manohar', 'python', 'datascience'] :\n",
    "        q.put(i)\n",
    "\n",
    "def consume(q) :\n",
    "    while True : \n",
    "        item = q.get()\n",
    "        if item is None : \n",
    "            break\n",
    "        print(item)\n",
    "        \n",
    "if __name__ == '__main__' : \n",
    "    queue = multiprocessing.Queue()\n",
    "    m1 = multiprocessing.Process(target = producer, args = (queue,))\n",
    "    m2 = multiprocessing.Process(target = consume, args = (queue,))\n",
    "    m1.start()\n",
    "    m2.start()\n",
    "    queue.put('xyz')\n",
    "    m1.join()\n",
    "    m2.join()"
   ]
  },
  {
   "cell_type": "code",
   "execution_count": null,
   "id": "4c98f6d2-8e3b-4021-bef2-3f8a0cc9276b",
   "metadata": {},
   "outputs": [],
   "source": [
    "import multiprocessing\n",
    "\n",
    "def square(index, value) :\n",
    "    value[index] = value[index] ** 2\n",
    "\n",
    "if __name__ == '__main__' :\n",
    "    arr = multiprocessing.Array('i', [2,2,3,2,5,4,5,4,5,4]) # returns a synchronised shared array\n",
    "    process = []\n",
    "    for i in range(10) : \n",
    "        m = multiprocessing.Process(target=square, args=(i, arr))\n",
    "        process.append(m)\n",
    "        m.start()\n",
    "    for m in process :\n",
    "        m.join()\n",
    "    print(list(arr))\n",
    "        "
   ]
  },
  {
   "cell_type": "code",
   "execution_count": null,
   "id": "5888faa2-40d9-474f-a2a2-de0b3128c9a6",
   "metadata": {},
   "outputs": [],
   "source": [
    "# example for PIPE\n",
    "\n",
    "import multiprocessing\n",
    "\n",
    "\n",
    "def sender(conn, msg) :  # send function\n",
    "    for i in msg :\n",
    "        conn.send(i)\n",
    "    conn.close()\n",
    "    \n",
    "def receive(conn) : # receive function\n",
    "    while True : \n",
    "        try :\n",
    "            msg = conn.recv()\n",
    "        except Exception as e :\n",
    "            print(e)\n",
    "            break\n",
    "        print(msg)\n",
    "        \n",
    "if __name__ == '__main__' : \n",
    "    msg = ['my name is ram', 'this is my msg to universe', 'learn', 'practice']\n",
    "    #creating pipe between sender and receive\n",
    "    parent_conn, child_conn = multiprocessing.Pipe()\n",
    "    m1 = multiprocessing.Process(target=sender, args = (child_conn, msg))\n",
    "    m2 = multiprocessing.Process(target=receive, args = (parent_conn,))\n",
    "    m1.start()\n",
    "    m2.start()\n",
    "    m1.join() # releases all resources\n",
    "    child_conn.close()\n",
    "    m2.join()\n",
    "    parent_conn.close()"
   ]
  },
  {
   "cell_type": "code",
   "execution_count": null,
   "id": "dcdf8077-b82d-45b7-97c9-8bb9e1659b5d",
   "metadata": {},
   "outputs": [],
   "source": []
  },
  {
   "cell_type": "code",
   "execution_count": null,
   "id": "b25957e4-b47b-4a21-ae4e-e9f1a3c98aab",
   "metadata": {},
   "outputs": [],
   "source": []
  }
 ],
 "metadata": {
  "kernelspec": {
   "display_name": "Python 3 (ipykernel)",
   "language": "python",
   "name": "python3"
  },
  "language_info": {
   "codemirror_mode": {
    "name": "ipython",
    "version": 3
   },
   "file_extension": ".py",
   "mimetype": "text/x-python",
   "name": "python",
   "nbconvert_exporter": "python",
   "pygments_lexer": "ipython3",
   "version": "3.10.8"
  }
 },
 "nbformat": 4,
 "nbformat_minor": 5
}
