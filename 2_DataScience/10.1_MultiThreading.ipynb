{
 "cells": [
  {
   "cell_type": "code",
   "execution_count": 11,
   "id": "74bab478-d238-46dd-a97c-66e5d6906623",
   "metadata": {},
   "outputs": [],
   "source": [
    "import threading"
   ]
  },
  {
   "cell_type": "code",
   "execution_count": 12,
   "id": "d5cd5885-a9d7-40a8-af9a-adda7e1f3fd0",
   "metadata": {},
   "outputs": [],
   "source": [
    "def test(id):\n",
    "    print(\"this is my test id {}\".format(id))"
   ]
  },
  {
   "cell_type": "code",
   "execution_count": 13,
   "id": "af49c5a7-28de-4407-9b63-5d09d5cd2e84",
   "metadata": {},
   "outputs": [
    {
     "name": "stdout",
     "output_type": "stream",
     "text": [
      "this is my test id 10\n"
     ]
    }
   ],
   "source": [
    "test(10)"
   ]
  },
  {
   "cell_type": "code",
   "execution_count": 14,
   "id": "623a0859-25f5-4844-905f-acbfbbb12c3d",
   "metadata": {},
   "outputs": [
    {
     "name": "stdout",
     "output_type": "stream",
     "text": [
      "this is my test id 1\n"
     ]
    }
   ],
   "source": [
    "test(1)"
   ]
  },
  {
   "cell_type": "code",
   "execution_count": 15,
   "id": "bd111c78-12b9-4128-9a51-9569069652b6",
   "metadata": {},
   "outputs": [
    {
     "name": "stdout",
     "output_type": "stream",
     "text": [
      "this is my test id 3\n"
     ]
    }
   ],
   "source": [
    "test(3)"
   ]
  },
  {
   "cell_type": "code",
   "execution_count": 16,
   "id": "b32a24d1-e9d9-4555-b259-e8c984bb3e1d",
   "metadata": {},
   "outputs": [],
   "source": [
    "thread = [threading.Thread(target=test, args = (i,)) for i in [10, 1, 3]]"
   ]
  },
  {
   "cell_type": "code",
   "execution_count": 17,
   "id": "ed43ddf0-7aa1-4b9f-a015-b2e1acbff183",
   "metadata": {},
   "outputs": [
    {
     "data": {
      "text/plain": [
       "[<Thread(Thread-8 (test), initial)>,\n",
       " <Thread(Thread-9 (test), initial)>,\n",
       " <Thread(Thread-10 (test), initial)>]"
      ]
     },
     "execution_count": 17,
     "metadata": {},
     "output_type": "execute_result"
    }
   ],
   "source": [
    "thread"
   ]
  },
  {
   "cell_type": "code",
   "execution_count": 18,
   "id": "f7b8cb37-36d6-4874-ab43-c8cef353ab07",
   "metadata": {},
   "outputs": [
    {
     "name": "stdout",
     "output_type": "stream",
     "text": [
      "this is my test id 10\n",
      "this is my test id 1\n",
      "this is my test id 3\n"
     ]
    }
   ],
   "source": [
    "for t in thread : \n",
    "    t.start()"
   ]
  },
  {
   "cell_type": "code",
   "execution_count": 20,
   "id": "8d700b03-2fff-4eaf-b2b4-8f02cd23efe3",
   "metadata": {},
   "outputs": [],
   "source": [
    "import urllib.request\n",
    "\n",
    "def file_download(url, filename) : \n",
    "    urllib.request.urlretrieve(url, filename)"
   ]
  },
  {
   "cell_type": "code",
   "execution_count": 22,
   "id": "c9fea5d7-a180-4423-93c7-74259e7625f2",
   "metadata": {},
   "outputs": [],
   "source": [
    "file_download('https://raw.githubusercontent.com/itsfoss/text-files/master/agatha.txt', 'test1.txt')"
   ]
  },
  {
   "cell_type": "code",
   "execution_count": 30,
   "id": "270d7d5e-70fa-4111-8159-b62293a3167d",
   "metadata": {},
   "outputs": [],
   "source": [
    "url_list = ['https://raw.githubusercontent.com/itsfoss/text-files/master/agatha.txt',\n",
    "           'https://raw.githubusercontent.com/itsfoss/text-files/master/sherlock.txt',\n",
    "           'https://raw.githubusercontent.com/itsfoss/text-files/master/sample_log_file.txt']"
   ]
  },
  {
   "cell_type": "code",
   "execution_count": 31,
   "id": "1a085499-a465-4269-b896-fd75f5957114",
   "metadata": {},
   "outputs": [],
   "source": [
    "data_file_list = ['data.txt', 'data2.txt', 'data3.txt']"
   ]
  },
  {
   "cell_type": "code",
   "execution_count": 32,
   "id": "c603948b-6bcd-4bbd-8c57-56874dea9f7d",
   "metadata": {},
   "outputs": [],
   "source": [
    "thread1 = [threading.Thread(target = file_download, args = (url_list[i], data_file_list[i])) for i in range(len(url_list))]"
   ]
  },
  {
   "cell_type": "code",
   "execution_count": 33,
   "id": "3430fa79-11b9-4cf0-89a6-9eadac6c24da",
   "metadata": {},
   "outputs": [
    {
     "data": {
      "text/plain": [
       "[<Thread(Thread-14 (file_download), initial)>,\n",
       " <Thread(Thread-15 (file_download), initial)>,\n",
       " <Thread(Thread-16 (file_download), initial)>]"
      ]
     },
     "execution_count": 33,
     "metadata": {},
     "output_type": "execute_result"
    }
   ],
   "source": [
    "thread1"
   ]
  },
  {
   "cell_type": "code",
   "execution_count": 34,
   "id": "9a3af025-8964-49a5-9a39-f88e85f60b13",
   "metadata": {},
   "outputs": [],
   "source": [
    "for t in thread1 :\n",
    "    t.start()"
   ]
  },
  {
   "cell_type": "code",
   "execution_count": 35,
   "id": "56f47e3f-5125-4a50-8d7b-16ac3939edf6",
   "metadata": {},
   "outputs": [
    {
     "data": {
      "text/plain": [
       "[<Thread(Thread-14 (file_download), stopped 139962632623680)>,\n",
       " <Thread(Thread-15 (file_download), stopped 139962595915328)>,\n",
       " <Thread(Thread-16 (file_download), stopped 139962604308032)>]"
      ]
     },
     "execution_count": 35,
     "metadata": {},
     "output_type": "execute_result"
    }
   ],
   "source": [
    "thread1"
   ]
  },
  {
   "cell_type": "code",
   "execution_count": 40,
   "id": "f48c7e69-4281-4bb1-ab4b-c35eeea54d39",
   "metadata": {},
   "outputs": [],
   "source": [
    "import time\n",
    "\n",
    "def test2(x) : \n",
    "    for i in range(10) : \n",
    "        #print(\" test1 print the value of x {} & print the value of i {}\".format(x, i))\n",
    "        print(\" test1 print the value of x %d & print the value of i %d\" %(x, i))\n",
    "        time.sleep(1)"
   ]
  },
  {
   "cell_type": "code",
   "execution_count": 41,
   "id": "bfe6bb07-1bcd-4a1d-9bfb-d4af9fca36ad",
   "metadata": {},
   "outputs": [
    {
     "name": "stdout",
     "output_type": "stream",
     "text": [
      " test1 print the value of x 10 & print the value of i 0\n",
      " test1 print the value of x 10 & print the value of i 1\n",
      " test1 print the value of x 10 & print the value of i 2\n",
      " test1 print the value of x 10 & print the value of i 3\n",
      " test1 print the value of x 10 & print the value of i 4\n",
      " test1 print the value of x 10 & print the value of i 5\n",
      " test1 print the value of x 10 & print the value of i 6\n",
      " test1 print the value of x 10 & print the value of i 7\n",
      " test1 print the value of x 10 & print the value of i 8\n",
      " test1 print the value of x 10 & print the value of i 9\n"
     ]
    }
   ],
   "source": [
    "test2(10)"
   ]
  },
  {
   "cell_type": "code",
   "execution_count": 43,
   "id": "96bcfdb0-86b9-481d-a59f-3e690e0dffaf",
   "metadata": {},
   "outputs": [],
   "source": [
    "thread2 = [threading.Thread(target = test2, args = (i,)) for i in [100, 10, 20, 5]]"
   ]
  },
  {
   "cell_type": "code",
   "execution_count": 44,
   "id": "5f0d9df2-ac24-4560-b241-6532bee98a47",
   "metadata": {},
   "outputs": [
    {
     "name": "stdout",
     "output_type": "stream",
     "text": [
      " test1 print the value of x 100 & print the value of i 0\n",
      " test1 print the value of x 10 & print the value of i 0\n",
      " test1 print the value of x 20 & print the value of i 0\n",
      " test1 print the value of x 5 & print the value of i 0\n",
      " test1 print the value of x 100 & print the value of i 1 test1 print the value of x 10 & print the value of i 1\n",
      "\n",
      " test1 print the value of x 20 & print the value of i 1\n",
      " test1 print the value of x 5 & print the value of i 1\n",
      " test1 print the value of x 10 & print the value of i 2\n",
      " test1 print the value of x 5 & print the value of i 2\n",
      " test1 print the value of x 20 & print the value of i 2\n",
      " test1 print the value of x 100 & print the value of i 2\n",
      " test1 print the value of x 10 & print the value of i 3\n",
      " test1 print the value of x 20 & print the value of i 3\n",
      " test1 print the value of x 5 & print the value of i 3\n",
      " test1 print the value of x 100 & print the value of i 3\n",
      " test1 print the value of x 10 & print the value of i 4 test1 print the value of x 20 & print the value of i 4\n",
      " test1 print the value of x 5 & print the value of i 4\n",
      " test1 print the value of x 100 & print the value of i 4\n",
      "\n",
      " test1 print the value of x 20 & print the value of i 5 test1 print the value of x 10 & print the value of i 5\n",
      "\n",
      " test1 print the value of x 5 & print the value of i 5\n",
      " test1 print the value of x 100 & print the value of i 5\n",
      " test1 print the value of x 10 & print the value of i 6 test1 print the value of x 5 & print the value of i 6\n",
      "\n",
      " test1 print the value of x 20 & print the value of i 6\n",
      " test1 print the value of x 100 & print the value of i 6\n",
      " test1 print the value of x 5 & print the value of i 7\n",
      " test1 print the value of x 20 & print the value of i 7\n",
      " test1 print the value of x 10 & print the value of i 7\n",
      " test1 print the value of x 100 & print the value of i 7\n",
      " test1 print the value of x 5 & print the value of i 8\n",
      " test1 print the value of x 20 & print the value of i 8\n",
      " test1 print the value of x 10 & print the value of i 8\n",
      " test1 print the value of x 100 & print the value of i 8\n",
      " test1 print the value of x 5 & print the value of i 9\n",
      " test1 print the value of x 10 & print the value of i 9\n",
      " test1 print the value of x 100 & print the value of i 9\n",
      " test1 print the value of x 20 & print the value of i 9\n"
     ]
    }
   ],
   "source": [
    "for t in thread2 :\n",
    "    t.start()"
   ]
  },
  {
   "cell_type": "code",
   "execution_count": 56,
   "id": "bb0193bb-65b9-450f-8be4-e8adaa23baaf",
   "metadata": {},
   "outputs": [
    {
     "name": "stdout",
     "output_type": "stream",
     "text": [
      "value of x 1 & value of shared_var 1\n",
      "value of x 2 & value of shared_var 2\n",
      "value of x 3 & value of shared_var 3\n",
      "value of x 4 & value of shared_var 4\n",
      "value of x 4 & value of shared_var 5\n",
      "value of x 5 & value of shared_var 6\n",
      "value of x 6 & value of shared_var 7\n",
      "value of x 5 & value of shared_var 8\n",
      "value of x 6 & value of shared_var 9\n"
     ]
    }
   ],
   "source": [
    "shared_var = 0\n",
    "lock_var = threading.Lock()\n",
    "\n",
    "def test3(x) :\n",
    "    global shared_var # shared variable\n",
    "    with lock_var :\n",
    "        shared_var = shared_var + 1\n",
    "        print(\"value of x %d & value of shared_var %d\" %(x, shared_var))\n",
    "        time.sleep(1)\n",
    "        \n",
    "thread4 = [threading.Thread(target=test3, args=(i, )) for i in [1,2,3,4,4,5,6,5,6]]\n",
    "\n",
    "for t in thread4 : \n",
    "    t.start()"
   ]
  },
  {
   "cell_type": "code",
   "execution_count": null,
   "id": "114ff0e6-f2d0-4405-8266-272f7b25f034",
   "metadata": {},
   "outputs": [],
   "source": []
  }
 ],
 "metadata": {
  "kernelspec": {
   "display_name": "Python 3 (ipykernel)",
   "language": "python",
   "name": "python3"
  },
  "language_info": {
   "codemirror_mode": {
    "name": "ipython",
    "version": 3
   },
   "file_extension": ".py",
   "mimetype": "text/x-python",
   "name": "python",
   "nbconvert_exporter": "python",
   "pygments_lexer": "ipython3",
   "version": "3.10.8"
  }
 },
 "nbformat": 4,
 "nbformat_minor": 5
}
