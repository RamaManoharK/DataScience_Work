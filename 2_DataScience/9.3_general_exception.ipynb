{
 "cells": [
  {
   "cell_type": "code",
   "execution_count": 1,
   "id": "c7be8808-40c6-45cc-a269-a7fdfb35a56f",
   "metadata": {},
   "outputs": [
    {
     "name": "stdout",
     "output_type": "stream",
     "text": [
      "division by zero\n"
     ]
    }
   ],
   "source": [
    "try : \n",
    "    a = 10\n",
    "    10/0\n",
    "    \n",
    "except ZeroDivisionError as e : \n",
    "    print(e)"
   ]
  },
  {
   "cell_type": "code",
   "execution_count": 2,
   "id": "ce6c8600-5892-4973-ad87-fd56d872eca4",
   "metadata": {},
   "outputs": [
    {
     "name": "stdout",
     "output_type": "stream",
     "text": [
      "invalid literal for int() with base 10: 'Rama'\n"
     ]
    }
   ],
   "source": [
    "try :\n",
    "    int(\"Rama\")\n",
    "\n",
    "except (ValueError, TypeError) as e : \n",
    "    print(e)"
   ]
  },
  {
   "cell_type": "code",
   "execution_count": 4,
   "id": "50907b42-fab7-4e23-9964-9a92c7afd354",
   "metadata": {},
   "outputs": [
    {
     "name": "stdout",
     "output_type": "stream",
     "text": [
      "this will catch an error\n"
     ]
    }
   ],
   "source": [
    "try :\n",
    "    int(\"Rama\")\n",
    "\n",
    "except : # not a good pratcice\n",
    "    print(\"this will catch an error\")"
   ]
  },
  {
   "cell_type": "code",
   "execution_count": 5,
   "id": "0602de7a-250b-4a28-b05e-6ee133d57395",
   "metadata": {},
   "outputs": [
    {
     "name": "stdout",
     "output_type": "stream",
     "text": [
      "No module named 'rama'\n"
     ]
    }
   ],
   "source": [
    "try :\n",
    "    import rama\n",
    "\n",
    "except ImportError as e : \n",
    "    print(e)"
   ]
  },
  {
   "cell_type": "code",
   "execution_count": 6,
   "id": "76a03a18-3f16-47a8-851e-76a0a8e8ab41",
   "metadata": {},
   "outputs": [
    {
     "name": "stdout",
     "output_type": "stream",
     "text": [
      "'key10'\n"
     ]
    }
   ],
   "source": [
    "try :\n",
    "    d = { 1 : [3,4,5,6], 'key' : 'rama'}\n",
    "    d['key10']\n",
    "    \n",
    "except KeyError as e :\n",
    "    print(e)"
   ]
  },
  {
   "cell_type": "code",
   "execution_count": 7,
   "id": "cb6824f0-e948-4985-bcd0-d7cb02c4b548",
   "metadata": {},
   "outputs": [
    {
     "name": "stdout",
     "output_type": "stream",
     "text": [
      "'str' object has no attribute 'test'\n"
     ]
    }
   ],
   "source": [
    "try :\n",
    "    \"rama\".test()\n",
    "    \n",
    "except AttributeError as e :\n",
    "    print(e)"
   ]
  },
  {
   "cell_type": "code",
   "execution_count": 8,
   "id": "8cf86f49-da02-4c33-b8c7-3b4eabd51bb3",
   "metadata": {},
   "outputs": [
    {
     "name": "stdout",
     "output_type": "stream",
     "text": [
      "list index out of range\n"
     ]
    }
   ],
   "source": [
    "try :\n",
    "    ls = [1,2,3,4]\n",
    "    ls[10]\n",
    "    \n",
    "except IndexError as e :\n",
    "    print(e)"
   ]
  },
  {
   "cell_type": "code",
   "execution_count": 9,
   "id": "f67b78a1-86f8-4e83-9823-a79b7e4d3421",
   "metadata": {},
   "outputs": [
    {
     "name": "stdout",
     "output_type": "stream",
     "text": [
      "unsupported operand type(s) for +: 'int' and 'str'\n"
     ]
    }
   ],
   "source": [
    "try :\n",
    "    123 + \"rama\"\n",
    "    \n",
    "except TypeError as e : \n",
    "    print(e)\n",
    "    "
   ]
  },
  {
   "cell_type": "code",
   "execution_count": 12,
   "id": "9a7be49a-5904-4408-b13a-e7af6edcf663",
   "metadata": {},
   "outputs": [
    {
     "name": "stdout",
     "output_type": "stream",
     "text": [
      "[Errno 2] No such file or directory: 'sample.txt'\n"
     ]
    }
   ],
   "source": [
    "try :\n",
    "    with open(\"sample.txt\", 'r') as f:\n",
    "        f.read()\n",
    "\n",
    "except FileNotFoundError as e :\n",
    "    print(e)"
   ]
  },
  {
   "cell_type": "code",
   "execution_count": 16,
   "id": "ab4d9db0-d38c-40e5-b1fa-9310be34bdd4",
   "metadata": {},
   "outputs": [
    {
     "name": "stdout",
     "output_type": "stream",
     "text": [
      "this is my file not found type error\n"
     ]
    }
   ],
   "source": [
    "try :\n",
    "    with open(\"sample.txt\", 'r') as f:\n",
    "        f.read()\n",
    "        \n",
    "except FileNotFoundError as e :\n",
    "    print(\"this is my file not found type error\")\n",
    "        \n",
    "except Exception as e : # Exception is super class, shouldn't be written at first as exception class & can be added at last\n",
    "    print(e)"
   ]
  },
  {
   "cell_type": "code",
   "execution_count": 17,
   "id": "40b53bb5-4c35-4810-a267-7fd69f018084",
   "metadata": {},
   "outputs": [],
   "source": [
    "def test_file(file) : \n",
    "    try :\n",
    "        with open(\"sample.txt\", 'r') as f:\n",
    "            f.read()\n",
    "\n",
    "    except FileNotFoundError as e :\n",
    "        print(\"this is my file not found type error\")\n",
    "\n",
    "    except Exception as e : # Exception is super class, shouldn't be written at first as exception class & can be added at last\n",
    "        print(e)"
   ]
  },
  {
   "cell_type": "code",
   "execution_count": null,
   "id": "36610c37-290a-4de6-b09f-4b90a4b40458",
   "metadata": {},
   "outputs": [],
   "source": []
  }
 ],
 "metadata": {
  "kernelspec": {
   "display_name": "Python 3 (ipykernel)",
   "language": "python",
   "name": "python3"
  },
  "language_info": {
   "codemirror_mode": {
    "name": "ipython",
    "version": 3
   },
   "file_extension": ".py",
   "mimetype": "text/x-python",
   "name": "python",
   "nbconvert_exporter": "python",
   "pygments_lexer": "ipython3",
   "version": "3.10.8"
  }
 },
 "nbformat": 4,
 "nbformat_minor": 5
}
