{
 "cells": [
  {
   "cell_type": "markdown",
   "id": "e5129262-b205-4e0f-a9e4-3128553d5e21",
   "metadata": {},
   "source": [
    "### Q1. what is multithreading in python? hy is it used? Name the module used to handle threads in python\n",
    "\n",
    "        A thread is a unit of execution within a process.\n",
    "        \n",
    "        Multithreading is a threading technique in Python programming to run multiple threads concurrently by rapidly switching between threads with a CPU help (called context switching). \n",
    "        \n",
    "        Besides, it allows sharing of its data space with the main threads inside a process that share information and communication with other threads easier than individual processes. \n",
    "        \n",
    "        Multithreading aims to perform multiple tasks simultaneously, which increases performance, speed and improves the rendering of the application.\n",
    "        \n",
    "        threading : is the module we use to handle threads."
   ]
  },
  {
   "cell_type": "markdown",
   "id": "5e6cadfd-bfd7-481b-a59a-e5ccfe97b5fa",
   "metadata": {},
   "source": [
    "### Q2. Why threading module used? write the use of the following functions\n",
    "\n",
    "        The Python Threading module allows us to create and manage new threads of execution in Python.\n",
    "        \n",
    "        activeCount() :\n",
    "            In Python, the method threading.active_co unt() from the threading module is used to count the currently active or running threads.\n",
    "            \n",
    "        currentThread() : \n",
    "            Return the current Thread object, corresponding to the caller’s thread of control. If the caller’s thread of control was not created through the threading module, a dummy thread object with limited functionality is returned.\n",
    "            \n",
    "        enumerate() : \n",
    "            It is an inbuilt method of the threading module in Python. It is used to return the list of all the Thread class objects which are currently alive. It also includes daemonic threads, the main thread, and dummy thread objects created by current_thread(). It does not count the threads that have terminated or which have not started yet."
   ]
  },
  {
   "cell_type": "markdown",
   "id": "a54b6855-a2e7-414c-988e-7aeba5d283b3",
   "metadata": {},
   "source": [
    "### Q3. Explain the following functions\n",
    "    \n",
    "    run() : The .run() method executes any target function belonging to a given thread object that is now active. It normally executes in the background after the .start() method is invoked.\n",
    "    \n",
    "    start() : the start() Activates and prompts a thread object to be run.\n",
    "    \n",
    "    join() : the join() method Delays the flow of execution of a program until the target thread is completely read.\n",
    "    \n",
    "    is_alive() : The .is_alive() method returns True if the thread is still running and False, otherwise."
   ]
  },
  {
   "cell_type": "markdown",
   "id": "ad180195-009b-4f05-80ca-17f0afd5d4a5",
   "metadata": {},
   "source": [
    "### Q4. Write a python program to create two threads. Thread one must print the list of squares and thread two must print the list of cubes"
   ]
  },
  {
   "cell_type": "code",
   "execution_count": 33,
   "id": "3ebd280b-2901-4a7c-bf1b-474766d64694",
   "metadata": {},
   "outputs": [],
   "source": [
    "import threading\n",
    "\n",
    "def squares(num):\n",
    "    print([i ** 2 for i in range(num)])\n",
    "\n",
    "def cubes(num):\n",
    "    print([i ** 3 for i in range(num)])\n",
    "\n",
    "thread1 = threading.Thread(target = squares, args=(10, )) # thread1\n",
    "\n",
    "thread2 = threading.Thread(target = cubes, args=(10, )) # thread2"
   ]
  },
  {
   "cell_type": "code",
   "execution_count": 34,
   "id": "a3a4b0cf-8fe2-4b64-b39b-0c11c80b0d46",
   "metadata": {},
   "outputs": [
    {
     "name": "stdout",
     "output_type": "stream",
     "text": [
      "[0, 1, 4, 9, 16, 25, 36, 49, 64, 81]\n"
     ]
    }
   ],
   "source": [
    "thread1.start()"
   ]
  },
  {
   "cell_type": "code",
   "execution_count": 32,
   "id": "7261c667-ae12-4449-8e83-a691df2c3d0a",
   "metadata": {},
   "outputs": [
    {
     "name": "stdout",
     "output_type": "stream",
     "text": [
      "[0, 1, 8, 27, 64, 125, 216, 343, 512, 729]\n"
     ]
    }
   ],
   "source": [
    "thread2.start()"
   ]
  },
  {
   "cell_type": "markdown",
   "id": "31243d08-98e7-4b08-9129-e7c8dcf41865",
   "metadata": {},
   "source": [
    "### Q5. State advantages and disadvantages of multithreading\n",
    "    \n",
    "    Advantages:\n",
    "    \n",
    "    Effective utilization of resources\n",
    "    More responsive\n",
    "    Resource sharing makes it more economical\n",
    "    Effective use of Multiprocessor architecture due to parallelism\n",
    "    Saves time\n",
    "    Threads (since part of the same process) communicate with each other more easily than if they were separate processes\n",
    "    They do not require much memory overhead\n",
    "    Multi-threaded servers and interactive GUIs use multithreading exclusively.\n",
    "\n",
    "    Disadvantages:\n",
    "    \n",
    "    Increases the complexity of the program.\n",
    "    Synchronization of shared resources (objects, data) is necessary.\n",
    "    Difficult to debug unpredictable results\n",
    "    Constructing and synchronizing threads is CPU/memory intensive.\n",
    "    \n"
   ]
  },
  {
   "cell_type": "markdown",
   "id": "f269df41-f74f-4c87-9463-25a282387aaa",
   "metadata": {},
   "source": [
    "### Q6. Explain deadlocks and race conditions.\n",
    "    \n",
    "    deadlock : \n",
    "        A deadlock is a concurrency failure mode where a thread or threads wait for a condition that never occurs. The result is that the deadlock threads are unable to progress and the program is stuck or frozen and must be terminated forcefully.\n",
    "\n",
    "    Cause of threading deadlocks include:\n",
    "\n",
    "    A thread that waits on itself (e.g. attempts to acquire the same mutex lock twice).\n",
    "    Threads that wait on each other (e.g. A waits on B, B waits on A).\n",
    "    Thread that fails to release a resource (e.g. mutex lock, semaphore, barrier, condition, event, etc.).\n",
    "    Threads that acquire mutex locks in different orders (e.g. fail to perform lock ordering).\n",
    "    \n",
    "    race condition:\n",
    "        A race condition happens when more than one thread is trying to access a shared piece of data at the same time.\n",
    "        This happens when 2 or more threads run in parallel but end up giving a result which is wrong and not equivalent if all the operations are done in sequential order.\n",
    "        \n",
    "        Here all the threads run and execute there operations."
   ]
  },
  {
   "cell_type": "code",
   "execution_count": null,
   "id": "baf1163a-2ab7-48e4-989b-b9cec4a54417",
   "metadata": {},
   "outputs": [],
   "source": []
  }
 ],
 "metadata": {
  "kernelspec": {
   "display_name": "Python 3 (ipykernel)",
   "language": "python",
   "name": "python3"
  },
  "language_info": {
   "codemirror_mode": {
    "name": "ipython",
    "version": 3
   },
   "file_extension": ".py",
   "mimetype": "text/x-python",
   "name": "python",
   "nbconvert_exporter": "python",
   "pygments_lexer": "ipython3",
   "version": "3.10.8"
  }
 },
 "nbformat": 4,
 "nbformat_minor": 5
}
