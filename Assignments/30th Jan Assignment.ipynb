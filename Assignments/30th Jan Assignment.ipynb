{
 "cells": [
  {
   "cell_type": "markdown",
   "id": "b8d6e96e-92cd-4027-a90d-9f667d70bfd0",
   "metadata": {},
   "source": [
    "### 1. Write a program to accept percentage from the user and display the grade according to the following criteria:"
   ]
  },
  {
   "cell_type": "code",
   "execution_count": 6,
   "id": "97ce79c4-6dfa-43ed-b3b8-9d89c37508bd",
   "metadata": {},
   "outputs": [
    {
     "name": "stdin",
     "output_type": "stream",
     "text": [
      "Enter the Percentage 67\n"
     ]
    },
    {
     "name": "stdout",
     "output_type": "stream",
     "text": [
      "C Grade\n"
     ]
    }
   ],
   "source": [
    "percentage = float(input(\"Enter the Percentage\"))\n",
    "\n",
    "if percentage > 90 :\n",
    "    print(\"A Grade\")\n",
    "elif percentage > 80  and percentage <= 90 :\n",
    "    print(\"B Grade\")\n",
    "elif percentage >= 60 and percentage <= 80 :\n",
    "    print(\"C Grade\")\n",
    "else:\n",
    "    print(\"D Grade\")"
   ]
  },
  {
   "cell_type": "markdown",
   "id": "07cbbf87-49bf-4568-b1cc-b95d410ad1c8",
   "metadata": {},
   "source": [
    "### 2. Write a program to accept the cost price of a bike and display the road tax to be paid according to the following criteria:"
   ]
  },
  {
   "cell_type": "code",
   "execution_count": 7,
   "id": "8c6c63a8-ae5d-42d1-839b-463521109bbf",
   "metadata": {},
   "outputs": [
    {
     "name": "stdin",
     "output_type": "stream",
     "text": [
      "Enter the cost of the Bike 345000\n"
     ]
    },
    {
     "name": "stdout",
     "output_type": "stream",
     "text": [
      "Road tax to be paid : 51750.0\n"
     ]
    }
   ],
   "source": [
    "bike_cost = float(input(\"Enter the cost of the Bike\"))\n",
    "\n",
    "if bike_cost > 100000 :\n",
    "    print(\"Road tax to be paid : {}\".format(bike_cost * 0.15))\n",
    "elif bike_cost > 50000 and bike_cost <= 100000 :\n",
    "    print(\"Road tax to be paid : {}\".format(bike_cost * 0.1))\n",
    "else :\n",
    "    print(\"Road tax to be paid : {}\".format(bike_cost * 0.05))\n",
    "        "
   ]
  },
  {
   "cell_type": "markdown",
   "id": "dd350265-1385-4545-9344-696e4bf6e309",
   "metadata": {},
   "source": [
    "### 3. Accept any city from the user and display monuments of that city."
   ]
  },
  {
   "cell_type": "code",
   "execution_count": 9,
   "id": "c12e4963-9261-4ea7-90c4-c74430afa94a",
   "metadata": {},
   "outputs": [
    {
     "name": "stdin",
     "output_type": "stream",
     "text": [
      "Enter the city name hhfh\n"
     ]
    },
    {
     "name": "stdout",
     "output_type": "stream",
     "text": [
      "hhfh city not available in the list\n"
     ]
    }
   ],
   "source": [
    "city_name = input(\"Enter the city name\").lower()\n",
    "\n",
    "city_names = {'delhi' : 'Red Fort', 'agra' : 'Taj Mahal', 'jaipur' : 'Jal Mahal'}\n",
    "\n",
    "if city_name in city_names.keys():\n",
    "    print(city_names[city_name])\n",
    "else:\n",
    "    print('{} city not available in the list'.format(city_name))"
   ]
  },
  {
   "cell_type": "markdown",
   "id": "31bdcd5f-25ee-4a45-b368-511e3467f708",
   "metadata": {},
   "source": [
    "### 4. Check how many times a given number can be divided by 3 before it is less than or equal to 10."
   ]
  },
  {
   "cell_type": "code",
   "execution_count": 10,
   "id": "1f23c7d2-4a44-47d1-87a9-fd1447a1bf1c",
   "metadata": {},
   "outputs": [
    {
     "name": "stdin",
     "output_type": "stream",
     "text": [
      "Enter the number :  34\n"
     ]
    },
    {
     "name": "stdout",
     "output_type": "stream",
     "text": [
      "8\n"
     ]
    }
   ],
   "source": [
    "number = int(input(\"Enter the number : \"))\n",
    "\n",
    "count = 0\n",
    "while number >= 10:\n",
    "    if number % 3 == 0:\n",
    "        count += 1\n",
    "    number -= 1\n",
    "print(count)"
   ]
  },
  {
   "cell_type": "markdown",
   "id": "0a75c258-2d87-458d-829e-d039e1d9292b",
   "metadata": {},
   "source": [
    "### 5. Why and When to Use while Loop in Python give a detailed description with example"
   ]
  },
  {
   "cell_type": "code",
   "execution_count": 11,
   "id": "2f8da42f-2bb3-46f5-83de-d730eb534a61",
   "metadata": {},
   "outputs": [
    {
     "name": "stdout",
     "output_type": "stream",
     "text": [
      "0\n",
      "1\n",
      "2\n",
      "3\n",
      "4\n",
      "5\n",
      "6\n",
      "7\n",
      "8\n",
      "9\n",
      "10\n"
     ]
    }
   ],
   "source": [
    "'''\n",
    "    A while loop will run a piece of code while a condition is True. \n",
    "    It will keep executing the desired set of code statements until that condition is no longer True. \n",
    "    A while loop will always first check the condition before running.\n",
    "    If the condition evaluates to True then the loop will run the code within the loop's body.\n",
    "'''\n",
    "\n",
    "i = 0\n",
    "\n",
    "while True: # loop continues infinitely until it meets if condition and break command\n",
    "    print(i)\n",
    "    if i >= 10 :\n",
    "        break # breaks the while condition and exits the loop\n",
    "    i += 1"
   ]
  },
  {
   "cell_type": "markdown",
   "id": "8ad3a505-c7a3-4d22-8513-6ff60cf0a1b1",
   "metadata": {},
   "source": [
    "### 6. Use nested while loop to print 3 different pattern."
   ]
  },
  {
   "cell_type": "code",
   "execution_count": 12,
   "id": "b6ad444c-f15a-47eb-b4e5-0c82ad166d36",
   "metadata": {},
   "outputs": [
    {
     "name": "stdout",
     "output_type": "stream",
     "text": [
      "Pattern 1\n",
      "*                             \n",
      "* *                           \n",
      "* * *                         \n",
      "* * * *                       \n",
      "* * * * *                     \n",
      "* * * * * *                   \n",
      "* * * * * * *                 \n",
      "* * * * * * * *               \n",
      "* * * * * * * * *             \n",
      "* * * * * * * * * *           \n",
      "* * * * * * * * * * *         \n",
      "* * * * * * * * * * * *       \n",
      "* * * * * * * * * * * * *     \n",
      "* * * * * * * * * * * * * *   \n",
      "\n",
      "Pattern 2\n",
      "                            * \n",
      "                          * * \n",
      "                        * * * \n",
      "                      * * * * \n",
      "                    * * * * * \n",
      "                  * * * * * * \n",
      "                * * * * * * * \n",
      "              * * * * * * * * \n",
      "            * * * * * * * * * \n",
      "          * * * * * * * * * * \n",
      "        * * * * * * * * * * * \n",
      "      * * * * * * * * * * * * \n",
      "    * * * * * * * * * * * * * \n",
      "  * * * * * * * * * * * * * * \n",
      "\n",
      "Pattern 3\n",
      "              *               \n",
      "             * *              \n",
      "            * * *             \n",
      "           * * * *            \n",
      "          * * * * *           \n",
      "         * * * * * *          \n",
      "        * * * * * * *         \n",
      "       * * * * * * * *        \n",
      "      * * * * * * * * *       \n",
      "     * * * * * * * * * *      \n",
      "    * * * * * * * * * * *     \n",
      "   * * * * * * * * * * * *    \n",
      "  * * * * * * * * * * * * *   \n",
      " * * * * * * * * * * * * * *  \n"
     ]
    }
   ],
   "source": [
    "i = j= k = 1\n",
    "\n",
    "pattern_length = 15\n",
    "\n",
    "while True:\n",
    "    \n",
    "    print(\"Pattern 1\", end='\\n')\n",
    "    while i < pattern_length:\n",
    "        print((\"* \" * i).ljust(pattern_length * 2, ' '), end='\\n')\n",
    "        i += 1\n",
    "    \n",
    "    print()\n",
    "    print(\"Pattern 2\", end='\\n')\n",
    "    while j < pattern_length:\n",
    "        print((\"* \" * j).rjust(pattern_length * 2, ' '), end='\\n')\n",
    "        j += 1\n",
    "        \n",
    "    print()\n",
    "    print(\"Pattern 3\", end='\\n')\n",
    "    while k < pattern_length:\n",
    "        print((\"* \" * k).center(pattern_length * 2, ' '), end='\\n')\n",
    "        k += 1\n",
    "        \n",
    "    break\n",
    "        "
   ]
  },
  {
   "cell_type": "markdown",
   "id": "f953ec56-4266-4ace-a9a4-59b1c8a3fd90",
   "metadata": {},
   "source": [
    "### 7. Reverse a while loop to display numbers from 10 to 1."
   ]
  },
  {
   "cell_type": "code",
   "execution_count": 13,
   "id": "48c07596-5d81-49da-8a5e-72f1ca6b5e5c",
   "metadata": {},
   "outputs": [
    {
     "name": "stdout",
     "output_type": "stream",
     "text": [
      "10\n",
      "9\n",
      "8\n",
      "7\n",
      "6\n",
      "5\n",
      "4\n",
      "3\n",
      "2\n",
      "1\n"
     ]
    }
   ],
   "source": [
    "i = 10\n",
    "\n",
    "while i >= 1:\n",
    "    print(i)\n",
    "    i -= 1"
   ]
  },
  {
   "cell_type": "markdown",
   "id": "37da6826-8e3e-4f91-8750-0c643f7f12b2",
   "metadata": {},
   "source": [
    "### 8. Reversea while loopt o display numbers from 10 to 1"
   ]
  },
  {
   "cell_type": "code",
   "execution_count": 14,
   "id": "e4a4b96a-402b-4dc8-bfc1-ec099a699a4a",
   "metadata": {},
   "outputs": [
    {
     "name": "stdout",
     "output_type": "stream",
     "text": [
      "10\n",
      "9\n",
      "8\n",
      "7\n",
      "6\n",
      "5\n",
      "4\n",
      "3\n",
      "2\n",
      "1\n"
     ]
    }
   ],
   "source": [
    "# 7th question repeated again in the given assignment\n",
    "\n",
    "i = 10\n",
    "\n",
    "while i >= 1:\n",
    "    print(i)\n",
    "    i -= 1"
   ]
  },
  {
   "cell_type": "code",
   "execution_count": null,
   "id": "ac00bae0-ce5d-447e-b1b5-d06ddb1b59c0",
   "metadata": {},
   "outputs": [],
   "source": []
  }
 ],
 "metadata": {
  "kernelspec": {
   "display_name": "Python 3 (ipykernel)",
   "language": "python",
   "name": "python3"
  },
  "language_info": {
   "codemirror_mode": {
    "name": "ipython",
    "version": 3
   },
   "file_extension": ".py",
   "mimetype": "text/x-python",
   "name": "python",
   "nbconvert_exporter": "python",
   "pygments_lexer": "ipython3",
   "version": "3.10.8"
  }
 },
 "nbformat": 4,
 "nbformat_minor": 5
}
