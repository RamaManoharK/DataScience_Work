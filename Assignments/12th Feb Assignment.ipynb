{
 "cells": [
  {
   "cell_type": "markdown",
   "id": "2447ac1d-0665-473d-85fc-1a09e8dd40d2",
   "metadata": {},
   "source": [
    "### Q1. What is an Exception in python? Write the difference between Exception and syntax errors ?\n",
    "    \n",
    "    An exception is an event, which occurs during the execution of a program that disrupts the normal flow of the program's instructions   "
   ]
  },
  {
   "cell_type": "code",
   "execution_count": 28,
   "id": "db421cee-db0d-41d7-a896-18f5a71fb161",
   "metadata": {},
   "outputs": [
    {
     "ename": "SyntaxError",
     "evalue": "expected ':' (949795732.py, line 5)",
     "output_type": "error",
     "traceback": [
      "\u001b[0;36m  Cell \u001b[0;32mIn[28], line 5\u001b[0;36m\u001b[0m\n\u001b[0;31m    if price > 1000\u001b[0m\n\u001b[0m                   ^\u001b[0m\n\u001b[0;31mSyntaxError\u001b[0m\u001b[0;31m:\u001b[0m expected ':'\n"
     ]
    }
   ],
   "source": [
    "# Syntax Error: As the name suggests this error is caused by the wrong syntax in the code. It leads to the termination of the program.\n",
    "\n",
    "price = 1000\n",
    "\n",
    "if price > 1000\n",
    "print(\"over priced\")"
   ]
  },
  {
   "cell_type": "code",
   "execution_count": 29,
   "id": "b98c5f28-ff2e-4a4d-9e75-663733ad7913",
   "metadata": {},
   "outputs": [
    {
     "ename": "ZeroDivisionError",
     "evalue": "division by zero",
     "output_type": "error",
     "traceback": [
      "\u001b[0;31m---------------------------------------------------------------------------\u001b[0m",
      "\u001b[0;31mZeroDivisionError\u001b[0m                         Traceback (most recent call last)",
      "Cell \u001b[0;32mIn[29], line 6\u001b[0m\n\u001b[1;32m      1\u001b[0m \u001b[38;5;66;03m# Exceptions: Exceptions are raised when the program is syntactically correct, but the code resulted in an error. \u001b[39;00m\n\u001b[1;32m      2\u001b[0m \u001b[38;5;66;03m# This error does not stop the execution of the program, however, it changes the normal flow of the program.\u001b[39;00m\n\u001b[1;32m      4\u001b[0m marks \u001b[38;5;241m=\u001b[39m \u001b[38;5;241m1000\u001b[39m\n\u001b[0;32m----> 6\u001b[0m a \u001b[38;5;241m=\u001b[39m \u001b[43mmarks\u001b[49m\u001b[43m \u001b[49m\u001b[38;5;241;43m/\u001b[39;49m\u001b[43m \u001b[49m\u001b[38;5;241;43m0\u001b[39;49m\n",
      "\u001b[0;31mZeroDivisionError\u001b[0m: division by zero"
     ]
    }
   ],
   "source": [
    "# Exceptions: Exceptions are raised when the program is syntactically correct, but the code resulted in an error. \n",
    "# This error does not stop the execution of the program, however, it changes the normal flow of the program.\n",
    "\n",
    "marks = 1000\n",
    "\n",
    "a = marks / 0\n"
   ]
  },
  {
   "cell_type": "markdown",
   "id": "5e08abf2-60c4-4c20-97a5-c27ee87aee9d",
   "metadata": {},
   "source": [
    "### Q2. what happens when an exception is not handled ? explain with an example\n",
    "    \n",
    "    Exceptions are raised when the program encounters an error during its execution.\n",
    "    \n",
    "    if not handled., they disrupt the normal flow of the program and usually end it abruptly.\n",
    "    "
   ]
  },
  {
   "cell_type": "code",
   "execution_count": 30,
   "id": "be499c09-0fae-47e0-bd74-230ff9ef7c7e",
   "metadata": {},
   "outputs": [
    {
     "name": "stdout",
     "output_type": "stream",
     "text": [
      "Error division by zero\n"
     ]
    }
   ],
   "source": [
    "try:\n",
    "    \n",
    "    marks = 1000\n",
    "    res = marks / 0 # zero division error handled through try & except blocks\n",
    "    \n",
    "except Exception as e:\n",
    "    \n",
    "    print(\"Error\", e)"
   ]
  },
  {
   "cell_type": "markdown",
   "id": "f7bde26e-0ffb-4b27-9fb8-d3dbc218c812",
   "metadata": {},
   "source": [
    "### Q3. which python statements are used to catch and handle exceptions ? explain with an example\n",
    "\n",
    "    try - used to catch the exception\n",
    "    except - used to handle exception"
   ]
  },
  {
   "cell_type": "code",
   "execution_count": 31,
   "id": "7536941d-0385-46f5-934e-abce6b0cda72",
   "metadata": {},
   "outputs": [
    {
     "name": "stdout",
     "output_type": "stream",
     "text": [
      "error :  list index out of range\n"
     ]
    }
   ],
   "source": [
    "try : # catches the exception if occurs\n",
    "    \n",
    "    ls = [1,2,3,4]\n",
    "    print(ls[6]) \n",
    "    \n",
    "except IndexError as e : # handles the exception\n",
    "    \n",
    "    print(\"error : \", e)"
   ]
  },
  {
   "cell_type": "markdown",
   "id": "615a6d02-7294-4ace-9332-84bca5479423",
   "metadata": {},
   "source": [
    "### Q4. Explain with an example :\n",
    "    a. try and else\n",
    "    b. finally\n",
    "    c. raise"
   ]
  },
  {
   "cell_type": "code",
   "execution_count": 32,
   "id": "ef7b85ce-5c20-469d-8326-2008a4c5b4f3",
   "metadata": {},
   "outputs": [],
   "source": [
    "# try : catches the exception if occurs\n",
    "# else : executes only if there is no exception\n",
    "# fianlly : excutes always even if there is an exception or not\n",
    "# raise : raises an error"
   ]
  },
  {
   "cell_type": "code",
   "execution_count": 33,
   "id": "23498661-d075-4cbe-bcfb-df9e6b6b7b0d",
   "metadata": {},
   "outputs": [
    {
     "name": "stdout",
     "output_type": "stream",
     "text": [
      "70.0\n",
      " finished \n"
     ]
    }
   ],
   "source": [
    "try : # catches the exception if occurs\n",
    "    a = 100\n",
    "    b = 5\n",
    "    num = a / b\n",
    "    \n",
    "except Exception as e: # handles the exception\n",
    "    print(\"Error\", e)\n",
    "    \n",
    "else: # executes only if there is no exception\n",
    "    print(num * 3.5)\n",
    "    \n",
    "finally: # excutes always even if there is an exception or not\n",
    "    print(\" finished \" )"
   ]
  },
  {
   "cell_type": "markdown",
   "id": "db2c44d6-e71a-4ef9-b7b3-fef5ff6dd772",
   "metadata": {},
   "source": [
    "### Q5. what are custom exceptions in python ? why do we need custom exceptions ? example\n",
    "    \n",
    "    custom exceptions are user defined exceptions.\n",
    "    they are used to handle specific user defined exception cases."
   ]
  },
  {
   "cell_type": "code",
   "execution_count": 34,
   "id": "93a61ac5-4a3c-4e78-9a52-7abd39e7a8fa",
   "metadata": {},
   "outputs": [],
   "source": [
    "class NameLength(Exception) : #custom exception class\n",
    "    def __init__(self, msg):\n",
    "        self.msg = msg"
   ]
  },
  {
   "cell_type": "code",
   "execution_count": 35,
   "id": "058fb448-eb05-4a18-960a-bb0f21ea4f66",
   "metadata": {},
   "outputs": [],
   "source": [
    "def validate_length(name) : # method to validate \n",
    "    if len(name) < 5 :\n",
    "        raise NameLength(\"length of the name is too short\") # calls custom exception class\n",
    "    return name"
   ]
  },
  {
   "cell_type": "code",
   "execution_count": 36,
   "id": "db0da467-9a94-406d-9d2c-494ab506c749",
   "metadata": {},
   "outputs": [
    {
     "name": "stdout",
     "output_type": "stream",
     "text": [
      "error :  length of the name is too short\n"
     ]
    }
   ],
   "source": [
    "name = \"Ram\"\n",
    "\n",
    "try: # checks the exception\n",
    "    validate_length(name)\n",
    "except Exception as e: # handles the exception\n",
    "    print(\"error : \", e)"
   ]
  },
  {
   "cell_type": "markdown",
   "id": "f561f7e4-f738-418c-9f42-8a4c452af3a3",
   "metadata": {},
   "source": [
    "### Q6. Create a custom exception class. Use this class to handle an exception."
   ]
  },
  {
   "cell_type": "code",
   "execution_count": 37,
   "id": "6925a34c-dd30-468f-805d-0ab16fbe66ed",
   "metadata": {},
   "outputs": [],
   "source": [
    "class NotValidAge(Exception) : # custom exception class\n",
    "    def __init__(self, msg) :\n",
    "        self.msf = msg"
   ]
  },
  {
   "cell_type": "code",
   "execution_count": 38,
   "id": "e50c1839-d770-4efd-a223-59915820f6dc",
   "metadata": {},
   "outputs": [],
   "source": [
    "def validate_age(age) : #method to validate age\n",
    "    if age < 18 :\n",
    "        raise NotValidAge(\"Age should be 18 or greater to get the License\") # calls custom exception class to raise"
   ]
  },
  {
   "cell_type": "code",
   "execution_count": 39,
   "id": "e59a5b48-be87-4c1d-96d5-aa819c3f8f89",
   "metadata": {},
   "outputs": [
    {
     "name": "stdout",
     "output_type": "stream",
     "text": [
      "Error :  Age should be 18 or greater to get the License\n"
     ]
    }
   ],
   "source": [
    "age = 17\n",
    "\n",
    "try : # checks the exception\n",
    "    validate_age(age)\n",
    "\n",
    "except Exception as e : # handles the exception\n",
    "    print(\"Error : \", e)"
   ]
  },
  {
   "cell_type": "code",
   "execution_count": null,
   "id": "179c2af4-42f0-4794-a018-85d1b4c93a4b",
   "metadata": {},
   "outputs": [],
   "source": []
  },
  {
   "cell_type": "code",
   "execution_count": null,
   "id": "7ff24748-4e3f-43b1-80d9-70a0bac46be1",
   "metadata": {},
   "outputs": [],
   "source": []
  }
 ],
 "metadata": {
  "kernelspec": {
   "display_name": "Python 3 (ipykernel)",
   "language": "python",
   "name": "python3"
  },
  "language_info": {
   "codemirror_mode": {
    "name": "ipython",
    "version": 3
   },
   "file_extension": ".py",
   "mimetype": "text/x-python",
   "name": "python",
   "nbconvert_exporter": "python",
   "pygments_lexer": "ipython3",
   "version": "3.10.8"
  }
 },
 "nbformat": 4,
 "nbformat_minor": 5
}
