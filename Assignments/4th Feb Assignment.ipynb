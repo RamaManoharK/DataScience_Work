{
 "cells": [
  {
   "cell_type": "markdown",
   "id": "0d764058-6413-4bad-8b3f-64181be70961",
   "metadata": {},
   "source": [
    "### Q1. Create a python program to sort the given list of tuples based on integer value using a lambda function.\n",
    "[('Sachin Tendulkar', 34357), ('Ricky Ponting', 27483), ('Jack Kallis', 25534), ('Virat Kohli', 24936)]"
   ]
  },
  {
   "cell_type": "code",
   "execution_count": 16,
   "id": "1fbf76a6-457d-4dda-b161-1f55daffef53",
   "metadata": {},
   "outputs": [],
   "source": [
    "ls = [('Sachin Tendulkar', 34357), ('Ricky Ponting', 27483), ('Jack Kallis', 25534), ('Virat Kohli', 24936)]"
   ]
  },
  {
   "cell_type": "code",
   "execution_count": 17,
   "id": "aa149ac0-7a0c-4d40-938c-f886cadd4bf5",
   "metadata": {},
   "outputs": [
    {
     "data": {
      "text/plain": [
       "[('Virat Kohli', 24936),\n",
       " ('Jack Kallis', 25534),\n",
       " ('Ricky Ponting', 27483),\n",
       " ('Sachin Tendulkar', 34357)]"
      ]
     },
     "execution_count": 17,
     "metadata": {},
     "output_type": "execute_result"
    }
   ],
   "source": [
    "sorted_list = sorted(ls, key=lambda x: x[1])\n",
    "\n",
    "sort_list"
   ]
  },
  {
   "cell_type": "markdown",
   "id": "df7ed404-e32b-4356-bbe2-7158b08470a6",
   "metadata": {},
   "source": [
    "### Q2. Write a Python Program to find the squares of all the numbers in the given list of integers using lambda and map functions.\n",
    "[1,2,3,4,5,6,7,8,9,10]\n"
   ]
  },
  {
   "cell_type": "code",
   "execution_count": 18,
   "id": "0260c62d-3f28-4a0f-b79f-19af3c9804e6",
   "metadata": {},
   "outputs": [],
   "source": [
    "ls = [1,2,3,4,5,6,7,8,9,10]"
   ]
  },
  {
   "cell_type": "code",
   "execution_count": 20,
   "id": "0cfe3e2d-ed35-4776-a4f9-37b44618e3c2",
   "metadata": {},
   "outputs": [],
   "source": [
    "squares = list(map(lambda x: x**2, ls))"
   ]
  },
  {
   "cell_type": "code",
   "execution_count": 21,
   "id": "877ae14d-7f2e-413f-94e6-6cb11e7298ef",
   "metadata": {},
   "outputs": [
    {
     "data": {
      "text/plain": [
       "[1, 4, 9, 16, 25, 36, 49, 64, 81, 100]"
      ]
     },
     "execution_count": 21,
     "metadata": {},
     "output_type": "execute_result"
    }
   ],
   "source": [
    "squares"
   ]
  },
  {
   "cell_type": "markdown",
   "id": "d5c42dc0-7a5c-430c-bf3e-1e1e22450be0",
   "metadata": {},
   "source": [
    "### Q3. Write a python program to convert the given list of integers into a tuple of strings. Use map and lambda functions\n",
    "\n",
    "Given String: [1, 2, 3, 4, 5, 6, 7, 8, 9, 10]\n",
    "\n",
    "Expected output: ('1', '2', '3', '4', '5', '6', '7', '8', '9', '10')"
   ]
  },
  {
   "cell_type": "code",
   "execution_count": 24,
   "id": "ffdb54a3-0700-4920-a98f-4355ea8faf2d",
   "metadata": {},
   "outputs": [],
   "source": [
    "ls = [1, 2, 3, 4, 5, 6, 7, 8, 9, 10]\n",
    "\n",
    "str_tuple = tuple(map(lambda s : str(s), ls))"
   ]
  },
  {
   "cell_type": "code",
   "execution_count": 25,
   "id": "6e332749-127f-445f-b475-4b9803bad2a4",
   "metadata": {},
   "outputs": [
    {
     "data": {
      "text/plain": [
       "('1', '2', '3', '4', '5', '6', '7', '8', '9', '10')"
      ]
     },
     "execution_count": 25,
     "metadata": {},
     "output_type": "execute_result"
    }
   ],
   "source": [
    "str_tuple"
   ]
  },
  {
   "cell_type": "markdown",
   "id": "6f81b2cf-c48c-4cb5-ad0a-8db2ecdfb418",
   "metadata": {},
   "source": [
    "### Q4. Write a python program using reduce function to compute the product of a list containing numbers from 1 to 25."
   ]
  },
  {
   "cell_type": "code",
   "execution_count": 36,
   "id": "9f5eea85-509a-416c-a305-f6323110d09e",
   "metadata": {},
   "outputs": [],
   "source": [
    "ls = list(range(1, 26))"
   ]
  },
  {
   "cell_type": "code",
   "execution_count": 41,
   "id": "6b299b0d-77e4-491a-b2f8-98c8e257e5c7",
   "metadata": {},
   "outputs": [],
   "source": [
    "from functools import reduce\n",
    "\n",
    "product_ls = reduce(lambda x, y : x * y, ls)"
   ]
  },
  {
   "cell_type": "code",
   "execution_count": 42,
   "id": "b3211e2a-40b6-4596-a942-9f49e7e9eb98",
   "metadata": {},
   "outputs": [
    {
     "data": {
      "text/plain": [
       "15511210043330985984000000"
      ]
     },
     "execution_count": 42,
     "metadata": {},
     "output_type": "execute_result"
    }
   ],
   "source": [
    "product_ls"
   ]
  },
  {
   "cell_type": "markdown",
   "id": "83acee73-858d-419f-bf03-658591e78b9d",
   "metadata": {},
   "source": [
    "### Q5. Write a python program to filter the numbers in a given list that are divisible by 2 and 3 using the filter function.\n",
    "\n",
    "[2, 3, 6, 9, 27, 60, 90, 120, 55, 46]"
   ]
  },
  {
   "cell_type": "code",
   "execution_count": 45,
   "id": "ce42c59a-1e78-4c5b-93ca-63ba53831b54",
   "metadata": {},
   "outputs": [],
   "source": [
    "ls = [2, 3, 6, 9, 27, 60, 90, 120, 55, 46]\n",
    "\n",
    "filtered_list = filter(lambda x : x %2 == 0 and x % 3 == 0, ls)"
   ]
  },
  {
   "cell_type": "code",
   "execution_count": 47,
   "id": "e6090fec-3162-414c-924a-8446be73de37",
   "metadata": {},
   "outputs": [
    {
     "data": {
      "text/plain": [
       "[6, 60, 90, 120]"
      ]
     },
     "execution_count": 47,
     "metadata": {},
     "output_type": "execute_result"
    }
   ],
   "source": [
    "list(filtered_list)"
   ]
  },
  {
   "cell_type": "markdown",
   "id": "2d13ee7e-9e57-457e-8fdb-1556a96bd54a",
   "metadata": {},
   "source": [
    "### Q6. Write a python program to find palindromes in the given list of strings using lambda and filter function.\n",
    "\n",
    "\n",
    "['python', 'php', 'aba', 'radar', 'level']"
   ]
  },
  {
   "cell_type": "code",
   "execution_count": 59,
   "id": "32e28e22-0ad5-4640-b54c-0694b25f9291",
   "metadata": {},
   "outputs": [],
   "source": [
    "ls = ['python', 'php', 'aba', 'radar', 'level']\n",
    "\n",
    "palindrome = list(filter(lambda s: s == s[::-1], ls))"
   ]
  },
  {
   "cell_type": "code",
   "execution_count": 60,
   "id": "2aa2c427-2d44-4804-9aa6-53f6e34a1484",
   "metadata": {},
   "outputs": [
    {
     "data": {
      "text/plain": [
       "['php', 'aba', 'radar', 'level']"
      ]
     },
     "execution_count": 60,
     "metadata": {},
     "output_type": "execute_result"
    }
   ],
   "source": [
    "palindrome"
   ]
  },
  {
   "cell_type": "code",
   "execution_count": null,
   "id": "541a5593-d258-4389-9778-418983131492",
   "metadata": {},
   "outputs": [],
   "source": []
  }
 ],
 "metadata": {
  "kernelspec": {
   "display_name": "Python 3 (ipykernel)",
   "language": "python",
   "name": "python3"
  },
  "language_info": {
   "codemirror_mode": {
    "name": "ipython",
    "version": 3
   },
   "file_extension": ".py",
   "mimetype": "text/x-python",
   "name": "python",
   "nbconvert_exporter": "python",
   "pygments_lexer": "ipython3",
   "version": "3.10.8"
  }
 },
 "nbformat": 4,
 "nbformat_minor": 5
}
