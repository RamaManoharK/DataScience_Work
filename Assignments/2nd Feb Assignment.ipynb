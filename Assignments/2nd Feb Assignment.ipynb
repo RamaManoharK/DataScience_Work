{
 "cells": [
  {
   "cell_type": "markdown",
   "id": "f3846324-3aa5-4a45-b5e4-14bf8b8c399e",
   "metadata": {},
   "source": [
    "### Q1. What are the characteristics of the tuples? Is tuple immutable?\n",
    "\n",
    "        tuples are ordered\n",
    "        tuples are indexed\n",
    "        tuples allows duplciate items. \n",
    "        tuples are immutable.\n"
   ]
  },
  {
   "cell_type": "markdown",
   "id": "8d5ccfda-44e3-4541-8b57-ddf3df413923",
   "metadata": {},
   "source": [
    "### Q2. What are the two tuple methods in python? Give an example of each method. Give a reason why tuples have only two in-built methods as compared to Lists.\n",
    "\n",
    "    tuple has only two built-in methods.\n",
    "    \n",
    "        count() - The count() method of Tuple returns the number of times the given element appears in the tuple.\n",
    "        index() - The Index() method returns the first occurrence of the given element from the tuple.\n",
    "        \n",
    "    tuples are immutable which means that after initializing a tuple, it is impossible to update or change or add or remove individual items in a tuple which is why there exists only two methods in tuple.\n",
    "    "
   ]
  },
  {
   "cell_type": "code",
   "execution_count": 49,
   "id": "d4c446ae-2837-4d7b-9985-32f35d60ef32",
   "metadata": {},
   "outputs": [],
   "source": [
    "tuple1 = (1,2,3,4,5,6,7,8,9,1,2,3,5,6,7,75,4,3,5,6,5)\n",
    "\n",
    "tuple2 = ('datascience', 'python', 'java')"
   ]
  },
  {
   "cell_type": "code",
   "execution_count": 50,
   "id": "8d0baffc-f1f8-449e-aac3-c1770f8681cc",
   "metadata": {},
   "outputs": [
    {
     "name": "stdout",
     "output_type": "stream",
     "text": [
      "4\n"
     ]
    }
   ],
   "source": [
    "r1 = tuple1.count(5) # returns the number of times the given element appears in the tuple\n",
    "\n",
    "print(r1)"
   ]
  },
  {
   "cell_type": "code",
   "execution_count": 51,
   "id": "1e847ef2-a54c-482f-bc9c-2063e40fea58",
   "metadata": {},
   "outputs": [
    {
     "name": "stdout",
     "output_type": "stream",
     "text": [
      "1\n"
     ]
    }
   ],
   "source": [
    "r2 = tuple2.index('python') # returns the first occurrence of the given element from the tuple\n",
    "\n",
    "print(r2)"
   ]
  },
  {
   "cell_type": "markdown",
   "id": "364f7ee8-026e-420c-a0d1-117cff4494d9",
   "metadata": {},
   "source": [
    "### Q3. Which collection datatypes in python do not allow duplicate items? Write a code using a set to remove duplicates from the given list.\n",
    "\n",
    "    'set' datatype won't allow duplicate items.\n"
   ]
  },
  {
   "cell_type": "code",
   "execution_count": 52,
   "id": "0aa14a59-aa64-4584-9f0c-2f12c8569a3b",
   "metadata": {},
   "outputs": [
    {
     "name": "stdout",
     "output_type": "stream",
     "text": [
      "[1, 2, 3, 4]\n"
     ]
    }
   ],
   "source": [
    "list1 = [1,1,1,2,1,3,1,4,2,1,2,2,2,3,2,4,3,1,3,2,3,3,3,4,4,1,4,2,4,3,4,4]\n",
    "\n",
    "set1 = set(list1) # converts list into 'set' while removing all duplicates \n",
    "\n",
    "list1 = list(set1) # convert 'set' back to list\n",
    "\n",
    "print(list1)"
   ]
  },
  {
   "cell_type": "markdown",
   "id": "c3d0f837-8564-40ff-b284-88ae62216817",
   "metadata": {},
   "source": [
    "### Q4. Explain the difference between the union() and update() methods for a set. Give an example of each method.\n",
    "\n",
    "    The union() of two sets is the set of all the elements, without duplicates, contained in either or both of the sets. returns a new set.\n",
    "    \n",
    "    the update() methods updates the set in place.\n",
    "    "
   ]
  },
  {
   "cell_type": "code",
   "execution_count": 53,
   "id": "bf920eba-22d2-4b65-b180-e7d43d409ff8",
   "metadata": {},
   "outputs": [
    {
     "data": {
      "text/plain": [
       "{1, 2, 3, 4, 5, 6, 7, 8, 9}"
      ]
     },
     "execution_count": 53,
     "metadata": {},
     "output_type": "execute_result"
    }
   ],
   "source": [
    "set1 = {1,3,4,5,6,7,8,9,2}\n",
    "\n",
    "set2 = {2,4,5,6,7,3,1,8}\n",
    "\n",
    "set2.union(set1) # it returns a new set with union all elements without duplicates"
   ]
  },
  {
   "cell_type": "code",
   "execution_count": 54,
   "id": "1ff027ec-8136-48af-b956-1aa465034c37",
   "metadata": {},
   "outputs": [
    {
     "data": {
      "text/plain": [
       "{1, 2, 3, 4, 5, 6, 7, 8}"
      ]
     },
     "execution_count": 54,
     "metadata": {},
     "output_type": "execute_result"
    }
   ],
   "source": [
    "set2"
   ]
  },
  {
   "cell_type": "code",
   "execution_count": 55,
   "id": "858556e2-7811-466c-8b6e-2be291d4fd11",
   "metadata": {},
   "outputs": [],
   "source": [
    "set2.update(set1) # updates the set2 which is in place."
   ]
  },
  {
   "cell_type": "code",
   "execution_count": 56,
   "id": "34256690-e68c-45aa-9099-c8fe327ea370",
   "metadata": {},
   "outputs": [
    {
     "data": {
      "text/plain": [
       "{1, 2, 3, 4, 5, 6, 7, 8, 9}"
      ]
     },
     "execution_count": 56,
     "metadata": {},
     "output_type": "execute_result"
    }
   ],
   "source": [
    "set2 "
   ]
  },
  {
   "cell_type": "markdown",
   "id": "62a803a3-916e-4729-8c59-1730041f0ac6",
   "metadata": {},
   "source": [
    "### Q5. What is a dictionary? Give an example. Also, state whether a dictionary is ordered or unordered.\n",
    "    \n",
    "       python dictionary is a collection which is ordered, changeable and do not allow duplicates. it stores the data collections in the form of key : value pairs."
   ]
  },
  {
   "cell_type": "code",
   "execution_count": 57,
   "id": "45dfc6a6-0ada-44b6-bf58-f4cfb301290c",
   "metadata": {},
   "outputs": [],
   "source": [
    "dict1 = {'name' : 'RamaManohar', 'email' : 'ramamanohar.kamarsa@gmail.com', 'mobile' : 1234567890}"
   ]
  },
  {
   "cell_type": "markdown",
   "id": "66017317-db11-4e72-86c5-5c256b626e5b",
   "metadata": {},
   "source": [
    "### Q6. Can we create a nested dictionary? If so, please give an example by creating a simple one-level nested dictionary.\n",
    "    \n",
    "    nested dictionaries can be created."
   ]
  },
  {
   "cell_type": "code",
   "execution_count": 58,
   "id": "cf04c747-ad88-44d0-9ace-33e1ccf90cec",
   "metadata": {},
   "outputs": [],
   "source": [
    "# nested dictionaries\n",
    "\n",
    "dict2 = { '1' : {'name' : 'RamaManohar', 'email' : 'ramamanohar.k@gmail.com', 'gender' : 'Male'},\n",
    "          '2' : {'name' : 'Manohar', 'email' : 'manohar@gmail.com', 'gender' : 'Male'}}\n"
   ]
  },
  {
   "cell_type": "markdown",
   "id": "a26fb915-756f-4817-bd7d-4a750b162d06",
   "metadata": {},
   "source": [
    "### Q7. Using setdefault() method, create key named topics in the given dictionary and also add the value of the key as this list ['Python', 'Machine Learning’, 'Deep Learning']\n",
    "\n",
    "dict1 = {'language' : 'Python', 'course': 'Data Science Masters'}\n"
   ]
  },
  {
   "cell_type": "code",
   "execution_count": 59,
   "id": "2112475a-a04f-4793-ba0a-05d1aed9c040",
   "metadata": {},
   "outputs": [
    {
     "data": {
      "text/plain": [
       "{'language': 'Python', 'course': 'Data Science Masters', 'topics': None}"
      ]
     },
     "execution_count": 59,
     "metadata": {},
     "output_type": "execute_result"
    }
   ],
   "source": [
    "dict3 = {'language' : 'Python', 'course': 'Data Science Masters'}\n",
    "\n",
    "dict3.setdefault('topics') # adds new key with none value\n",
    "\n",
    "dict3"
   ]
  },
  {
   "cell_type": "code",
   "execution_count": 60,
   "id": "6c3ce2c4-c4cb-447e-8f43-2e984a1a88e3",
   "metadata": {},
   "outputs": [],
   "source": [
    "dict3['topics'] = ['Python', 'Machine Learning', 'Deep Learing']  # assgning values to the key"
   ]
  },
  {
   "cell_type": "code",
   "execution_count": 61,
   "id": "e7106e3f-ce7e-4259-b8cd-0de3c7dddf2c",
   "metadata": {},
   "outputs": [
    {
     "data": {
      "text/plain": [
       "{'language': 'Python',\n",
       " 'course': 'Data Science Masters',\n",
       " 'topics': ['Python', 'Machine Learning', 'Deep Learing']}"
      ]
     },
     "execution_count": 61,
     "metadata": {},
     "output_type": "execute_result"
    }
   ],
   "source": [
    "dict3"
   ]
  },
  {
   "cell_type": "markdown",
   "id": "e16e8649-925e-40c6-9a00-bdf274ce589b",
   "metadata": {},
   "source": [
    "### Q8. What are the three view objects in dictionaries? Use the three in-built methods in python to display these three view objects for the given dictionary.\n",
    "    \n",
    "    keys()\n",
    "    values()\n",
    "    items()"
   ]
  },
  {
   "cell_type": "code",
   "execution_count": 62,
   "id": "0ffa934e-53e9-4eac-bd16-a681f5a0234b",
   "metadata": {},
   "outputs": [],
   "source": [
    "dict4 = {'Sport': 'Cricket' , 'Teams': ['India', 'Australia', 'England', 'South Africa', 'Sri Lanka', 'New Zealand']}"
   ]
  },
  {
   "cell_type": "code",
   "execution_count": 63,
   "id": "999cbc75-9259-4c47-a381-23db2a2a8072",
   "metadata": {},
   "outputs": [
    {
     "name": "stdout",
     "output_type": "stream",
     "text": [
      " Sport :  Cricket \n",
      " Teams :  ['India', 'Australia', 'England', 'South Africa', 'Sri Lanka', 'New Zealand'] \n"
     ]
    }
   ],
   "source": [
    "# dict.keys() return a new view of dictionary keys. \n",
    "# If we update the dictionary then the dictionary view objects are also dynamically updated.\n",
    "\n",
    "for i in dict4.keys():\n",
    "    \n",
    "    print(' {} :  {} '.format(i, dict4[i]))"
   ]
  },
  {
   "cell_type": "code",
   "execution_count": 64,
   "id": "d94a9c53-5003-4dca-9022-83dcc19160a0",
   "metadata": {},
   "outputs": [
    {
     "name": "stdout",
     "output_type": "stream",
     "text": [
      "Cricket\n",
      "['India', 'Australia', 'England', 'South Africa', 'Sri Lanka', 'New Zealand']\n"
     ]
    }
   ],
   "source": [
    "# dict.values() return a new view of the dictionary’s values.\n",
    "# If we update the dictionary then the dictionary view objects are also dynamically updated.\n",
    "\n",
    "for i in dict4.values():\n",
    "    \n",
    "    print(i)"
   ]
  },
  {
   "cell_type": "code",
   "execution_count": 65,
   "id": "e5417b6c-6ac7-4910-8451-63defaad664c",
   "metadata": {},
   "outputs": [
    {
     "name": "stdout",
     "output_type": "stream",
     "text": [
      " Sport :  Cricket \n",
      " Teams :  ['India', 'Australia', 'England', 'South Africa', 'Sri Lanka', 'New Zealand'] \n"
     ]
    }
   ],
   "source": [
    "# These return a new view of the dictionary’s items ((key, value) pairs).\n",
    "# If we update the dictionary then the dictionary view objects are also dynamically updated.\n",
    "for i in dict4.items():\n",
    "    \n",
    "    print(' {} :  {} '.format(i[0], i[1]))"
   ]
  },
  {
   "cell_type": "code",
   "execution_count": null,
   "id": "89f1f1e4-ecf1-4319-94e3-621e09b4d908",
   "metadata": {},
   "outputs": [],
   "source": []
  }
 ],
 "metadata": {
  "kernelspec": {
   "display_name": "Python 3 (ipykernel)",
   "language": "python",
   "name": "python3"
  },
  "language_info": {
   "codemirror_mode": {
    "name": "ipython",
    "version": 3
   },
   "file_extension": ".py",
   "mimetype": "text/x-python",
   "name": "python",
   "nbconvert_exporter": "python",
   "pygments_lexer": "ipython3",
   "version": "3.10.8"
  }
 },
 "nbformat": 4,
 "nbformat_minor": 5
}
