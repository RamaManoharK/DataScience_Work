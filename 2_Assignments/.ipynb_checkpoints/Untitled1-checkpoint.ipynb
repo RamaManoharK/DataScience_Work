{
 "cells": [
  {
   "cell_type": "code",
   "execution_count": 34,
   "id": "800d3a93-01de-4e5f-9f85-3d3b7451328b",
   "metadata": {},
   "outputs": [],
   "source": [
    "import re"
   ]
  },
  {
   "cell_type": "code",
   "execution_count": 35,
   "id": "3b16b9c0-4da2-4636-b549-abb352c4eb14",
   "metadata": {},
   "outputs": [],
   "source": [
    "pattern = re.compile(r'''\n",
    "    [\\S]+:                # a key (any word followed by a colon)\n",
    "    (?:\n",
    "    \\s                    # then a space in between\n",
    "        (?!\\S+:)\\S+       # then a value (any word not followed by a colon)\n",
    "    )+                    # match multiple values if present\n",
    "    ''', re.VERBOSE)"
   ]
  },
  {
   "cell_type": "code",
   "execution_count": 36,
   "id": "d7bb4856-9ef5-498d-a01b-d7b8d7603063",
   "metadata": {},
   "outputs": [],
   "source": [
    "s = '\"url\":\"/watch?v=HzBhwxMrt8A\",\"webPageType\":\"WEB_PAGE_TYPE_WATCH\",\"rootVe\":3832'"
   ]
  },
  {
   "cell_type": "code",
   "execution_count": 37,
   "id": "968a270f-d00c-482b-b434-7a573af47bca",
   "metadata": {},
   "outputs": [
    {
     "data": {
      "text/plain": [
       "[]"
      ]
     },
     "execution_count": 37,
     "metadata": {},
     "output_type": "execute_result"
    }
   ],
   "source": [
    "pattern.findall(s)"
   ]
  },
  {
   "cell_type": "code",
   "execution_count": 38,
   "id": "672f6e84-2aef-438a-89a6-6ec3f7191e33",
   "metadata": {},
   "outputs": [
    {
     "data": {
      "text/plain": [
       "['\"url\":\"/watch?v=HzBhwxMrt8A\",\"webPageType\":\"WEB_PAGE_TYPE_WATCH\",\"rootVe\":3832']"
      ]
     },
     "execution_count": 38,
     "metadata": {},
     "output_type": "execute_result"
    }
   ],
   "source": [
    "s.split(\"{\")"
   ]
  },
  {
   "cell_type": "code",
   "execution_count": 47,
   "id": "68bef1a3-e6be-4385-8269-7d881798c021",
   "metadata": {},
   "outputs": [],
   "source": [
    "ss = s.replace('\"', '').split(':')"
   ]
  },
  {
   "cell_type": "code",
   "execution_count": 48,
   "id": "8396feaf-33cb-439e-bb2d-fdb63d5c8b1f",
   "metadata": {},
   "outputs": [
    {
     "data": {
      "text/plain": [
       "['url',\n",
       " '/watch?v=HzBhwxMrt8A,webPageType',\n",
       " 'WEB_PAGE_TYPE_WATCH,rootVe',\n",
       " '3832']"
      ]
     },
     "execution_count": 48,
     "metadata": {},
     "output_type": "execute_result"
    }
   ],
   "source": [
    "ss"
   ]
  },
  {
   "cell_type": "code",
   "execution_count": 49,
   "id": "47ae0d34-cfcd-4e19-8801-76453d8eac86",
   "metadata": {},
   "outputs": [],
   "source": [
    "if '/watch' in ss:\n",
    "    print('JJ')"
   ]
  },
  {
   "cell_type": "code",
   "execution_count": null,
   "id": "66fb2877-37e4-437f-a879-0b717e8ff5ea",
   "metadata": {},
   "outputs": [],
   "source": []
  }
 ],
 "metadata": {
  "kernelspec": {
   "display_name": "Python 3 (ipykernel)",
   "language": "python",
   "name": "python3"
  },
  "language_info": {
   "codemirror_mode": {
    "name": "ipython",
    "version": 3
   },
   "file_extension": ".py",
   "mimetype": "text/x-python",
   "name": "python",
   "nbconvert_exporter": "python",
   "pygments_lexer": "ipython3",
   "version": "3.10.8"
  }
 },
 "nbformat": 4,
 "nbformat_minor": 5
}
