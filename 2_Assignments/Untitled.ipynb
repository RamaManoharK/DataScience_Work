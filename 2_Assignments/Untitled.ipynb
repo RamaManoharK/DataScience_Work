{
 "cells": [
  {
   "cell_type": "code",
   "execution_count": 118,
   "id": "1b4fab7c-540b-4386-a284-2df57f9f8ab4",
   "metadata": {},
   "outputs": [],
   "source": [
    "import requests\n",
    "from bs4 import BeautifulSoup\n",
    "from urllib.request import urlopen\n",
    "import logging\n",
    "import json\n",
    "import re"
   ]
  },
  {
   "cell_type": "code",
   "execution_count": 121,
   "id": "705542ad-3ebf-486c-9079-c5981027c47d",
   "metadata": {},
   "outputs": [],
   "source": [
    "headers = {'User-Agent': 'Mozilla/5.0 (compatible; Googlebot/2.1; +http://www.google.com/bot.html)'}\n",
    "link = \"https://www.youtube.com/@PW-Foundation/videos\"\n",
    "\n",
    "response = requests.get(link, headers=headers) # \n",
    "response_html = response.text\n",
    "\n",
    "soup = BeautifulSoup(response_html, \"html.parser\")\n",
    "response.close()\n",
    "\n",
    "box = soup.find_all(\"script\")\n",
    "\n",
    "box_string = [i.get_text() for i in box]\n",
    "\n",
    "ls = []\n",
    "for i in box_string:\n",
    "    if \"responseContext\" in i :\n",
    "        ls.append(i.replace('\"', \"\").split(':'))\n",
    "    \n",
    "video_urls = list()\n",
    "for i in ls:\n",
    "    for j in i:\n",
    "        if '/watch' in j:\n",
    "            video_id = j.split(',')[0]\n",
    "            youtube_url = \"https://www.youtube.com{}\".format(video_id)\n",
    "            video_urls.append(youtube_url)"
   ]
  },
  {
   "cell_type": "code",
   "execution_count": 122,
   "id": "eff2a409-6e30-43af-8f33-0ec94e103ab4",
   "metadata": {},
   "outputs": [
    {
     "data": {
      "text/plain": [
       "['https://www.youtube.com/watch?v=S0RySN5arvk',\n",
       " 'https://www.youtube.com/watch?v=HzBhwxMrt8A',\n",
       " 'https://www.youtube.com/watch?v=60_B3haKADw',\n",
       " 'https://www.youtube.com/watch?v=46CNHP9wBAs',\n",
       " 'https://www.youtube.com/watch?v=1Wk5gJtZ2sQ',\n",
       " 'https://www.youtube.com/watch?v=iM_hVnElC-Q',\n",
       " 'https://www.youtube.com/watch?v=Prly9d7LoAQ',\n",
       " 'https://www.youtube.com/watch?v=AvwBDiCWSEM',\n",
       " 'https://www.youtube.com/watch?v=jQzKkMEaWFA',\n",
       " 'https://www.youtube.com/watch?v=6weIshsiLlM',\n",
       " 'https://www.youtube.com/watch?v=-osuIPJkPWg',\n",
       " 'https://www.youtube.com/watch?v=VsKb_U2-Cx0',\n",
       " 'https://www.youtube.com/watch?v=ZNHlCezYN1I',\n",
       " 'https://www.youtube.com/watch?v=nNmV-fuGW5c',\n",
       " 'https://www.youtube.com/watch?v=6Mht7UigC_w',\n",
       " 'https://www.youtube.com/watch?v=WObRrneLVRY',\n",
       " 'https://www.youtube.com/watch?v=nX5ONgCdLcc',\n",
       " 'https://www.youtube.com/watch?v=AM2Dt7cNebw',\n",
       " 'https://www.youtube.com/watch?v=7nMJVhey9TM',\n",
       " 'https://www.youtube.com/watch?v=FSVVlcFUCMk',\n",
       " 'https://www.youtube.com/watch?v=vKxdTuOirnI',\n",
       " 'https://www.youtube.com/watch?v=hC86u4g6QPk',\n",
       " 'https://www.youtube.com/watch?v=7O5MY8Y1JCE',\n",
       " 'https://www.youtube.com/watch?v=01iTPgZGjvM',\n",
       " 'https://www.youtube.com/watch?v=pXjLbNAa_ag',\n",
       " 'https://www.youtube.com/watch?v=-abURVi907g',\n",
       " 'https://www.youtube.com/watch?v=LAsPxV5xZ58',\n",
       " 'https://www.youtube.com/watch?v=-Z-lZKDIW4w',\n",
       " 'https://www.youtube.com/watch?v=Gqza6yHk1Ks',\n",
       " 'https://www.youtube.com/watch?v=BdBQ2yfCW1g']"
      ]
     },
     "execution_count": 122,
     "metadata": {},
     "output_type": "execute_result"
    }
   ],
   "source": [
    "video_urls"
   ]
  },
  {
   "cell_type": "code",
   "execution_count": null,
   "id": "f2d068fc-e7a8-4300-9e48-20373b71d956",
   "metadata": {},
   "outputs": [],
   "source": []
  }
 ],
 "metadata": {
  "kernelspec": {
   "display_name": "Python 3 (ipykernel)",
   "language": "python",
   "name": "python3"
  },
  "language_info": {
   "codemirror_mode": {
    "name": "ipython",
    "version": 3
   },
   "file_extension": ".py",
   "mimetype": "text/x-python",
   "name": "python",
   "nbconvert_exporter": "python",
   "pygments_lexer": "ipython3",
   "version": "3.10.8"
  }
 },
 "nbformat": 4,
 "nbformat_minor": 5
}
